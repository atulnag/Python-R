{
 "cells": [
  {
   "cell_type": "markdown",
   "metadata": {},
   "source": [
    "# Python with SQLite"
   ]
  },
  {
   "cell_type": "markdown",
   "metadata": {},
   "source": [
    "* SQLite3 is a very easy to use database engine. \n",
    " * It is self-contained, serverless, zero-configuration and transactional. \n",
    " * It is very fast and lightweight, and the entire database is stored in a single disk file. \n",
    " * It is used in a lot of applications as internal data storage. \n",
    "* The Python Standard Library includes a module called \"sqlite3\" intended for working with this database. This module is a SQL interface compliant with the DB-API 2.0 specification."
   ]
  },
  {
   "cell_type": "markdown",
   "metadata": {},
   "source": [
    "## Using Python's SQLlite Module"
   ]
  },
  {
   "cell_type": "code",
   "execution_count": 1,
   "metadata": {},
   "outputs": [],
   "source": [
    "import sqlite3"
   ]
  },
  {
   "cell_type": "markdown",
   "metadata": {},
   "source": [
    "## Connecting SQLite to the Database\n",
    "The following creates or opens a file called mydb with a SQLite3 DB. "
   ]
  },
  {
   "cell_type": "code",
   "execution_count": 2,
   "metadata": {},
   "outputs": [],
   "source": [
    "db = sqlite3.connect('data/mydb.db', \n",
    "                     detect_types=sqlite3.PARSE_DECLTYPES|sqlite3.PARSE_COLNAMES)"
   ]
  },
  {
   "cell_type": "markdown",
   "metadata": {},
   "source": [
    "When done working with the DB we need to close the connection:"
   ]
  },
  {
   "cell_type": "code",
   "execution_count": 3,
   "metadata": {},
   "outputs": [],
   "source": [
    "db.close()"
   ]
  },
  {
   "cell_type": "markdown",
   "metadata": {},
   "source": [
    "## Creating (CREATE) and Deleting (DROP) Tables\n",
    "* To operate on the database we require a cursor object and pass the SQL statments to the cursor object to execute them.\n",
    "* Finally, it is neessary to commit the changes.\n",
    "* We will create a `users` table with `name, phone, email and password` columns"
   ]
  },
  {
   "cell_type": "code",
   "execution_count": 3,
   "metadata": {},
   "outputs": [],
   "source": [
    "cursor = db.cursor()\n",
    "cursor.execute('''\n",
    "               CREATE TABLE users(\n",
    "               id INTEGER PRIMARY KEY, \n",
    "               name TEXT,\n",
    "               phone TEXT,\n",
    "               email TEXT unique,\n",
    "               password TEXT)\n",
    "               ''')\n",
    "db.commit()"
   ]
  },
  {
   "cell_type": "markdown",
   "metadata": {},
   "source": [
    "To drop a table:"
   ]
  },
  {
   "cell_type": "code",
   "execution_count": 16,
   "metadata": {},
   "outputs": [],
   "source": [
    "cursor = db.cursor()\n",
    "cursor.execute('''DROP TABLE users''')\n",
    "db.commit()"
   ]
  },
  {
   "cell_type": "markdown",
   "metadata": {},
   "source": [
    "Please note that the commit function is invoked on the db object, not the cursor object."
   ]
  },
  {
   "cell_type": "markdown",
   "metadata": {},
   "source": [
    "## Inserting (INSERT) Data into the Database\n",
    "* To insert data we use the cursor to execute the query. If you need values from Python variables it is recommended to use the \"?\" placeholder. \n",
    "* Never use string operations or concatenation to make your queries because is very insecure. \n",
    "* In this example we are going to insert two users in the database, their information is stored in python variables."
   ]
  },
  {
   "cell_type": "code",
   "execution_count": 4,
   "metadata": {},
   "outputs": [],
   "source": [
    "cursor = db.cursor()\n",
    "name1 = \"Atul\"\n",
    "phone1 = \"9338703277\"\n",
    "email1 = \"anag@suiit.ac.in\"\n",
    "password1 = \"12345\"\n",
    "\n",
    "name2 = \"Nag\"\n",
    "phone2 = \"7078711408\"\n",
    "email2 = \"nag.atul@gmail.com\"\n",
    "password2 = \"78910\"\n",
    "\n",
    "name3 = \"PythonNewbie\"\n",
    "phone3 = \"123456\"\n",
    "email3 = \"my@mydomain.com\"\n",
    "password3 = \"123456\""
   ]
  },
  {
   "cell_type": "code",
   "execution_count": 5,
   "metadata": {},
   "outputs": [
    {
     "name": "stdout",
     "output_type": "stream",
     "text": [
      "First user inserted\n"
     ]
    }
   ],
   "source": [
    "cursor.execute('''INSERT INTO users(name, phone, email, password)\n",
    "                  VALUES(?,?,?,?)''',(name1, phone1, email1, password1))\n",
    "print('First user inserted')\n",
    "db.commit()"
   ]
  },
  {
   "cell_type": "markdown",
   "metadata": {},
   "source": [
    "The values of the Python variables are passed inside a tuple. Another way to do this is passing a dictionary using the `\":keyname\"` placeholder:"
   ]
  },
  {
   "cell_type": "code",
   "execution_count": 6,
   "metadata": {},
   "outputs": [],
   "source": [
    "cursor.execute('''INSERT INTO users(name, phone, email, password)\n",
    "                  VALUES(:name,:phone, :email, :password)''',\n",
    "                  {'name':name2, 'phone':phone2,'email':email2,\n",
    "                   'password':password2})\n",
    "db.commit()"
   ]
  },
  {
   "cell_type": "markdown",
   "metadata": {},
   "source": [
    "If you need to insert several users use `executemany` and a list with the tuples:"
   ]
  },
  {
   "cell_type": "code",
   "execution_count": 68,
   "metadata": {},
   "outputs": [],
   "source": [
    "users = [(name1, phone1, email1, password1),\n",
    "        (name2, phone2, email2, password2),\n",
    "        (name3, phone3, email3, password3)]\n",
    "cursor.executemany('''INSERT INTO users(name, phone, email, password)\n",
    "                      VALUES(?,?,?,?)''', users)\n",
    "db.commit()"
   ]
  },
  {
   "cell_type": "markdown",
   "metadata": {},
   "source": [
    "If you need to get the id of the row you just inserted use `lastrowid` :"
   ]
  },
  {
   "cell_type": "code",
   "execution_count": 51,
   "metadata": {},
   "outputs": [
    {
     "name": "stdout",
     "output_type": "stream",
     "text": [
      "Last row id: 1\n"
     ]
    }
   ],
   "source": [
    "id = cursor.lastrowid\n",
    "print('Last row id:', id)"
   ]
  },
  {
   "cell_type": "markdown",
   "metadata": {},
   "source": [
    "## Retrieving Data (SELECT) with SQLite\n",
    "To retrieve data, execute the query against the cursor object and then use `fetchone()` to retrieve a single row or `fetchall()` to retrieve all the rows."
   ]
  },
  {
   "cell_type": "code",
   "execution_count": 59,
   "metadata": {},
   "outputs": [
    {
     "name": "stdout",
     "output_type": "stream",
     "text": [
      "Atul\n",
      "Nag : nag.atul@gmail.com, 7078711408\n",
      "PythonNewbie : my@mydomain.com, 123456\n"
     ]
    }
   ],
   "source": [
    "cursor.execute('''SELECT name, email, phone FROM users''')\n",
    "user1 = cursor.fetchone() #retrieve the first row\n",
    "print(user1[0]) # Print the first column retrieved (user's name)\n",
    "all_rows = cursor.fetchall()\n",
    "\n",
    "for row in all_rows:\n",
    "    print('{0} : {1}, {2}'.format(row[0], row[1], row[2]))"
   ]
  },
  {
   "cell_type": "markdown",
   "metadata": {},
   "source": [
    "The cursor object works as an iterator, invoking `fetchall()` automatically:"
   ]
  },
  {
   "cell_type": "code",
   "execution_count": 87,
   "metadata": {},
   "outputs": [
    {
     "name": "stdout",
     "output_type": "stream",
     "text": [
      "Atul: anag@suiit.ac.in, 123456\n",
      "PythonNewbie: my@mydomain.com, 123456\n"
     ]
    }
   ],
   "source": [
    "cursor.execute('''SELECT name, email, phone FROM users''')\n",
    "for row in cursor:\n",
    "    print('{0}: {1}, {2}'.format(row[0], row[1], row[2]))"
   ]
  },
  {
   "cell_type": "markdown",
   "metadata": {},
   "source": [
    "To retrive data with conditions, use again the \"?\" placeholder:"
   ]
  },
  {
   "cell_type": "code",
   "execution_count": 61,
   "metadata": {},
   "outputs": [
    {
     "name": "stdout",
     "output_type": "stream",
     "text": [
      "('PythonNewbie', 'my@mydomain.com', '123456')\n"
     ]
    }
   ],
   "source": [
    "user_id = '3'\n",
    "cursor.execute('''SELECT name, email, phone FROM users WHERE id=?''',(user_id))\n",
    "user = cursor.fetchone()\n",
    "print(user)"
   ]
  },
  {
   "cell_type": "markdown",
   "metadata": {},
   "source": [
    "## Updating and Deleting"
   ]
  },
  {
   "cell_type": "code",
   "execution_count": 84,
   "metadata": {},
   "outputs": [
    {
     "data": {
      "text/plain": [
       "<sqlite3.Cursor at 0x7fa6703767a0>"
      ]
     },
     "execution_count": 84,
     "metadata": {},
     "output_type": "execute_result"
    }
   ],
   "source": [
    "newphone = \"78910\"\n",
    "userid = 1\n",
    "cursor.execute('''UPDATE users SET phone = ? WHERE id = ?''',\n",
    "              (newphone, userid))\n",
    "\n",
    "#db.commit()"
   ]
  },
  {
   "cell_type": "code",
   "execution_count": 77,
   "metadata": {},
   "outputs": [],
   "source": [
    "delete_userid = '2'\n",
    "cursor.execute(''' DELETE FROM users WHERE id = ? ''', (delete_userid))\n",
    "db.commit()"
   ]
  },
  {
   "cell_type": "code",
   "execution_count": 86,
   "metadata": {},
   "outputs": [],
   "source": [
    "db.rollback()"
   ]
  },
  {
   "cell_type": "markdown",
   "metadata": {},
   "source": [
    "##  Database Exceptions"
   ]
  },
  {
   "cell_type": "code",
   "execution_count": 7,
   "metadata": {
    "scrolled": true
   },
   "outputs": [
    {
     "name": "stdout",
     "output_type": "stream",
     "text": [
      "The table already exists.\n"
     ]
    }
   ],
   "source": [
    "try:\n",
    "    cursor = db.cursor()\n",
    "    cursor.execute('''\n",
    "               CREATE TABLE users(\n",
    "               id INTEGER PRIMARY KEY, \n",
    "               name TEXT,\n",
    "               phone TEXT,\n",
    "               email TEXT unique,\n",
    "               password TEXT)\n",
    "               ''')\n",
    "    db.commit()\n",
    "except Exception as e:\n",
    "    db.rollback()\n",
    "    print(\"The table already exists.\")\n",
    "finally:\n",
    "    db.close()"
   ]
  },
  {
   "cell_type": "markdown",
   "metadata": {},
   "source": [
    "## Date & Time"
   ]
  },
  {
   "cell_type": "code",
   "execution_count": 3,
   "metadata": {},
   "outputs": [],
   "source": [
    "from datetime import date, datetime"
   ]
  },
  {
   "cell_type": "code",
   "execution_count": 4,
   "metadata": {},
   "outputs": [],
   "source": [
    "cursor = db.cursor()\n",
    "cursor.execute('''\n",
    "                 CREATE TABLE IF NOT EXISTS example(id INTEGER PRIMARY KEY,\n",
    "                 created_at DATE)\n",
    "                 ''')\n",
    "db.commit()"
   ]
  },
  {
   "cell_type": "code",
   "execution_count": 10,
   "metadata": {},
   "outputs": [],
   "source": [
    "cursor = db.cursor()\n",
    "cursor.execute('''DROP TABLE example''')\n",
    "db.commit()"
   ]
  },
  {
   "cell_type": "code",
   "execution_count": 5,
   "metadata": {},
   "outputs": [
    {
     "name": "stdout",
     "output_type": "stream",
     "text": [
      "2018-11-09\n"
     ]
    },
    {
     "data": {
      "text/plain": [
       "datetime.date"
      ]
     },
     "execution_count": 5,
     "metadata": {},
     "output_type": "execute_result"
    }
   ],
   "source": [
    "today = date.today()\n",
    "print(today)\n",
    "type(today)"
   ]
  },
  {
   "cell_type": "code",
   "execution_count": 8,
   "metadata": {},
   "outputs": [],
   "source": [
    "cursor.execute('''INSERT INTO example(created_at) VALUES(?)''',(today,))\n",
    "db.commit()"
   ]
  },
  {
   "cell_type": "code",
   "execution_count": 9,
   "metadata": {},
   "outputs": [
    {
     "name": "stdout",
     "output_type": "stream",
     "text": [
      "The date is 2018-11-09 and the datatype is <class 'datetime.date'>\n"
     ]
    }
   ],
   "source": [
    "cursor.execute('''SELECT created_at FROM example''')\n",
    "row = cursor.fetchone()\n",
    "print('The date is {0} and the datatype is {1}'.format(row[0], type(row[0])))"
   ]
  },
  {
   "cell_type": "code",
   "execution_count": 11,
   "metadata": {},
   "outputs": [],
   "source": [
    "cursor = db.cursor()\n",
    "cursor.execute('''\n",
    "                 CREATE TABLE IF NOT EXISTS example(id INTEGER PRIMARY KEY,\n",
    "                 created_at timestamp)\n",
    "                 ''')\n",
    "db.commit()"
   ]
  },
  {
   "cell_type": "code",
   "execution_count": 12,
   "metadata": {},
   "outputs": [
    {
     "name": "stdout",
     "output_type": "stream",
     "text": [
      "2018-11-09 15:28:20.001986\n"
     ]
    }
   ],
   "source": [
    "now = datetime.now()\n",
    "print(now)"
   ]
  },
  {
   "cell_type": "code",
   "execution_count": 13,
   "metadata": {},
   "outputs": [],
   "source": [
    "cursor.execute('''INSERT INTO example(created_at) VALUES(?)''',(now,))\n",
    "db.commit()"
   ]
  },
  {
   "cell_type": "code",
   "execution_count": 14,
   "metadata": {},
   "outputs": [
    {
     "name": "stdout",
     "output_type": "stream",
     "text": [
      "The date is 2018-11-09 15:28:20.001986 and the datatype is <class 'datetime.datetime'>\n"
     ]
    }
   ],
   "source": [
    "cursor.execute('''SELECT created_at FROM example''')\n",
    "row = cursor.fetchone()\n",
    "print('The date is {0} and the datatype is {1}'.format(row[0], type(row[0])))"
   ]
  },
  {
   "cell_type": "code",
   "execution_count": 17,
   "metadata": {},
   "outputs": [],
   "source": [
    "fh = open('data/sqlqueries.sql','r')\n",
    "script = fh.read()\n",
    "cursor.executescript(script)\n",
    "fh.close()"
   ]
  },
  {
   "cell_type": "markdown",
   "metadata": {},
   "source": [
    "## Defining SQLite SQL Functions\n",
    "Sometimes we need to use our own functions in a statement, specially when we\n",
    "are inserting data in order to accomplish some specific task. A good example of\n",
    "this is when we are storing passwords in the database and we need to encrypt\n",
    "those passwords:"
   ]
  },
  {
   "cell_type": "code",
   "execution_count": 4,
   "metadata": {},
   "outputs": [],
   "source": [
    "import hashlib"
   ]
  },
  {
   "cell_type": "code",
   "execution_count": 5,
   "metadata": {},
   "outputs": [],
   "source": [
    "def encrypt_password(password):\n",
    "    encrypted_pass = hashlib.sha1(password.encode('utf-8')).hexdigest()\n",
    "    return encrypted_pass\n",
    "\n",
    "#connect"
   ]
  },
  {
   "cell_type": "code",
   "execution_count": 6,
   "metadata": {},
   "outputs": [],
   "source": [
    "# Register the function\n",
    "db.create_function('encrypt',1, encrypt_password)\n",
    "cursor = db.cursor()\n",
    "cursor.execute('''CREATE TABLE users(\n",
    "                   id INTEGER PRIMARY KEY,\n",
    "                   email TEXT,\n",
    "                   password TEXT)\n",
    "               ''')\n",
    "user = ('atul@example.com','12345678')\n",
    "cursor.execute('''INSERT INTO users(email, password)\n",
    "                   VALUES (?, encrypt(?))''',user)\n",
    "db.commit()"
   ]
  },
  {
   "cell_type": "code",
   "execution_count": 7,
   "metadata": {},
   "outputs": [
    {
     "name": "stdout",
     "output_type": "stream",
     "text": [
      "1: atul@example.com, 7c222fb2927d828af22f592134e8932480637c0d\n"
     ]
    }
   ],
   "source": [
    "cursor.execute('''SELECT id, email, password FROM users''')\n",
    "for row in cursor:\n",
    "    print('{0}: {1}, {2}'.format(row[0], row[1], row[2]))"
   ]
  }
 ],
 "metadata": {
  "kernelspec": {
   "display_name": "Python 3",
   "language": "python",
   "name": "python3"
  },
  "language_info": {
   "codemirror_mode": {
    "name": "ipython",
    "version": 3
   },
   "file_extension": ".py",
   "mimetype": "text/x-python",
   "name": "python",
   "nbconvert_exporter": "python",
   "pygments_lexer": "ipython3",
   "version": "3.6.5"
  }
 },
 "nbformat": 4,
 "nbformat_minor": 2
}
