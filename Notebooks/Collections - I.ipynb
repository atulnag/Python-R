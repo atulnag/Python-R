{
 "cells": [
  {
   "cell_type": "markdown",
   "metadata": {},
   "source": [
    "# Python Collections (Sets & Sequences)"
   ]
  },
  {
   "cell_type": "markdown",
   "metadata": {},
   "source": [
    "* Python also has built-in types that are compound, meaning that they group together multiple objects. \n",
    " * These are called **collections** or **containers**.\n",
    " * The objects in a collection are generally referred to as **items** or **elements**.\n",
    "* Collections can hold any number of items and even contain items with a mixture of types"
   ]
  },
  {
   "cell_type": "markdown",
   "metadata": {},
   "source": [
    "There are three categoris of built-in collection types in Python:\n",
    "1. Sets\n",
    "2. Sequences\n",
    "3. Mappings\n",
    "***\n",
    "* Streams are another kind of collection whose elements form a series in time, rather than the computer’s memory space.\n",
    "* Modules such as `array` and `collections` provide additional collection types"
   ]
  },
  {
   "cell_type": "markdown",
   "metadata": {},
   "source": [
    "* The distinguishing feature of the collection categories is how individual elements are accessed:\n",
    "    * Sets don't allow individual access\n",
    "    * Sequences use numeric indexes\n",
    "    * mappings use `keys`\n",
    "    * streams just provide one address - \"next\"\n",
    "* Some types are *immutable* - once created they cannot be changed i.e. elements cannot be added, removed or reordered.\n",
    "* Primitive types are immutable\n",
    "* Mutable built-in collections cannot be added to sets or used as mapping keys."
   ]
  },
  {
   "cell_type": "markdown",
   "metadata": {},
   "source": [
    "* Certain basic operations and functions are applicable to all collection types\n",
    "<img src=\"images/collection1.png\">"
   ]
  },
  {
   "cell_type": "markdown",
   "metadata": {},
   "source": [
    "## Sets"
   ]
  },
  {
   "cell_type": "markdown",
   "metadata": {},
   "source": [
    "* A `set` is an unordered collection of items that contains no duplicates. (**Mutable**)\n",
    "* The type `frozenset` is an immutable version of set.\n",
    "* Sets can be created by passing a string as the argument to call to `set`.\n",
    "* Sets can also be created syntactically by enclosing comma-separated values in curly braces ({}). This construction is called a set display."
   ]
  },
  {
   "cell_type": "code",
   "execution_count": 1,
   "metadata": {},
   "outputs": [
    {
     "data": {
      "text/plain": [
       "{'A', 'C', 'G', 'T'}"
      ]
     },
     "execution_count": 1,
     "metadata": {},
     "output_type": "execute_result"
    }
   ],
   "source": [
    "set('TCAGTTAT')"
   ]
  },
  {
   "cell_type": "code",
   "execution_count": 46,
   "metadata": {},
   "outputs": [],
   "source": [
    "DNABases = {'T', 'C', 'A', 'G'}"
   ]
  },
  {
   "cell_type": "code",
   "execution_count": 3,
   "metadata": {},
   "outputs": [],
   "source": [
    "RNABases = {'U', 'C', 'A', 'G'}"
   ]
  },
  {
   "cell_type": "code",
   "execution_count": 48,
   "metadata": {},
   "outputs": [
    {
     "data": {
      "text/plain": [
       "{'A', 'C', 'G', 'T'}"
      ]
     },
     "execution_count": 48,
     "metadata": {},
     "output_type": "execute_result"
    }
   ],
   "source": [
    "DNABases"
   ]
  },
  {
   "cell_type": "code",
   "execution_count": 5,
   "metadata": {},
   "outputs": [
    {
     "data": {
      "text/plain": [
       "{'A', 'C', 'G', 'U'}"
      ]
     },
     "execution_count": 5,
     "metadata": {},
     "output_type": "execute_result"
    }
   ],
   "source": [
    "RNABases"
   ]
  },
  {
   "cell_type": "code",
   "execution_count": 6,
   "metadata": {},
   "outputs": [
    {
     "data": {
      "text/plain": [
       "{'TCAG'}"
      ]
     },
     "execution_count": 6,
     "metadata": {},
     "output_type": "execute_result"
    }
   ],
   "source": [
    "{'TCAG'}"
   ]
  },
  {
   "cell_type": "code",
   "execution_count": 7,
   "metadata": {},
   "outputs": [
    {
     "data": {
      "text/plain": [
       "{'TCAG', 'UCAG'}"
      ]
     },
     "execution_count": 7,
     "metadata": {},
     "output_type": "execute_result"
    }
   ],
   "source": [
    "{'TCAG', 'UCAG'}"
   ]
  },
  {
   "cell_type": "code",
   "execution_count": 49,
   "metadata": {},
   "outputs": [
    {
     "data": {
      "text/plain": [
       "{'AATTGC'}"
      ]
     },
     "execution_count": 49,
     "metadata": {},
     "output_type": "execute_result"
    }
   ],
   "source": [
    "{'AATTGC'}"
   ]
  },
  {
   "cell_type": "code",
   "execution_count": 50,
   "metadata": {},
   "outputs": [
    {
     "data": {
      "text/plain": [
       "{'A', 'C', 'G', 'T'}"
      ]
     },
     "execution_count": 50,
     "metadata": {},
     "output_type": "execute_result"
    }
   ],
   "source": [
    "set('AATTGC')"
   ]
  },
  {
   "cell_type": "markdown",
   "metadata": {},
   "source": [
    "<img src=\"images/collection3.png\">"
   ]
  },
  {
   "cell_type": "markdown",
   "metadata": {},
   "source": [
    "<img src=\"images/collection4.png\">"
   ]
  },
  {
   "cell_type": "markdown",
   "metadata": {},
   "source": [
    "<img src=\"images/collection5.png\">"
   ]
  },
  {
   "cell_type": "code",
   "execution_count": 53,
   "metadata": {},
   "outputs": [],
   "source": [
    "# Rewrite validate_base_sequence using sets\n",
    "DNAbases = set('TCAGtcag')\n",
    "RNAbases = set('UCAGucag')\n",
    "def validate_base_sequence(base_sequence, RNAflag = False):\n",
    "    \"\"\"Return True if the string base_sequence contains only upper- or lowercase\n",
    "    T (or U, if RNAflag), C, A, and G characters, otherwise False\"\"\"\n",
    "    return set(base_sequence) <= (RNAbases if RNAflag else DNAbases)"
   ]
  },
  {
   "cell_type": "code",
   "execution_count": 55,
   "metadata": {},
   "outputs": [
    {
     "data": {
      "text/plain": [
       "False"
      ]
     },
     "execution_count": 55,
     "metadata": {},
     "output_type": "execute_result"
    }
   ],
   "source": [
    "validate_base_sequence('tattattat',True)"
   ]
  },
  {
   "cell_type": "code",
   "execution_count": 51,
   "metadata": {},
   "outputs": [
    {
     "data": {
      "text/plain": [
       "{'a', 't'}"
      ]
     },
     "execution_count": 51,
     "metadata": {},
     "output_type": "execute_result"
    }
   ],
   "source": [
    "set('tattattat')"
   ]
  },
  {
   "cell_type": "code",
   "execution_count": 56,
   "metadata": {},
   "outputs": [
    {
     "data": {
      "text/plain": [
       "{'A', 'C', 'G', 'U', 'a', 'c', 'g', 'u'}"
      ]
     },
     "execution_count": 56,
     "metadata": {},
     "output_type": "execute_result"
    }
   ],
   "source": [
    "RNAbases"
   ]
  },
  {
   "cell_type": "code",
   "execution_count": 3,
   "metadata": {},
   "outputs": [
    {
     "data": {
      "text/plain": [
       "False"
      ]
     },
     "execution_count": 3,
     "metadata": {},
     "output_type": "execute_result"
    }
   ],
   "source": [
    "validate_base_sequence('atgcwrqatgc')"
   ]
  },
  {
   "cell_type": "markdown",
   "metadata": {},
   "source": [
    "## Sequences"
   ]
  },
  {
   "cell_type": "markdown",
   "metadata": {},
   "source": [
    "* *Sequences* are ordered collections that may contain duplicate elements. (**Mutable**)\n",
    "* Their elements can be referenced by position."
   ]
  },
  {
   "cell_type": "markdown",
   "metadata": {},
   "source": [
    "<img src=\"images/collection6.png\">"
   ]
  },
  {
   "cell_type": "markdown",
   "metadata": {},
   "source": [
    "* There are six built-in sequence types:\n",
    "<img src=\"images/collection7.png\">"
   ]
  },
  {
   "cell_type": "markdown",
   "metadata": {},
   "source": [
    "<img src=\"images/setoperation1.png\"><br>\n",
    "<img src=\"images/setoperation2.png\">"
   ]
  },
  {
   "cell_type": "markdown",
   "metadata": {},
   "source": [
    "* All sequence types except for `ranges` and `files` support the methods `count` and `index` . \n",
    "* In addition, all sequence types support the `reversed` function, which returns a special object that produces the elements of the sequence in reverse order."
   ]
  },
  {
   "cell_type": "markdown",
   "metadata": {},
   "source": [
    "### Strings, Bytes & Bytearrays"
   ]
  },
  {
   "cell_type": "markdown",
   "metadata": {},
   "source": [
    "* Strings are sequences of Unicode characters (though there is no \"character\" type). \n",
    "    * Unicode is an international standard that assigns a unique number to every character of all major languages (including special \"languages\" such as musical notation and mathematics), as well as special characters such as diacritics and technical symbols.\n",
    "* The bytes and bytearray types are sequences of single bytes.\n",
    "* bytes and bytearrays have same function as strings but an important difference is -\n",
    "    * Slicing strings returns strings while specifying an element or slice whereas bytes and bytearrays resturns same element while slicing but indexing and element resturns an integer from 0 through 255.\n",
    "    * The bytes and bytearray types serve many purposes, one of which is to efficiently store and manipulate raw data."
   ]
  },
  {
   "cell_type": "markdown",
   "metadata": {},
   "source": [
    "#### Creating\n",
    "* `str()` - returns empty string\n",
    "* `str(obj)` - Returns a printable representation of obj , as specified by the definition of the type of obj\n",
    "* `chr(n)` - Returns the one-character string corresponding to the integer n in the Unicode system\n",
    "* `ord(char)` - Returns the Unicode number corresponding to the one-character string char"
   ]
  },
  {
   "cell_type": "code",
   "execution_count": 4,
   "metadata": {},
   "outputs": [
    {
     "data": {
      "text/plain": [
       "''"
      ]
     },
     "execution_count": 4,
     "metadata": {},
     "output_type": "execute_result"
    }
   ],
   "source": [
    "str()"
   ]
  },
  {
   "cell_type": "code",
   "execution_count": 5,
   "metadata": {},
   "outputs": [
    {
     "data": {
      "text/plain": [
       "'4'"
      ]
     },
     "execution_count": 5,
     "metadata": {},
     "output_type": "execute_result"
    }
   ],
   "source": [
    "str(4)"
   ]
  },
  {
   "cell_type": "code",
   "execution_count": 1,
   "metadata": {},
   "outputs": [
    {
     "data": {
      "text/plain": [
       "'i'"
      ]
     },
     "execution_count": 1,
     "metadata": {},
     "output_type": "execute_result"
    }
   ],
   "source": [
    "chr(105)"
   ]
  },
  {
   "cell_type": "code",
   "execution_count": 8,
   "metadata": {},
   "outputs": [
    {
     "data": {
      "text/plain": [
       "68"
      ]
     },
     "execution_count": 8,
     "metadata": {},
     "output_type": "execute_result"
    }
   ],
   "source": [
    "ord('D')"
   ]
  },
  {
   "cell_type": "markdown",
   "metadata": {},
   "source": [
    "#### Testing\n",
    "* `str1.isalpha()` - Returns true if str1 is not empty and all of its characters are alphabetic\n",
    "* `str1.isdigit()` - Returns true if str1 is not empty and all of its characters are digits\n",
    "* `str1.islower()` - Returns true if str1 contains at least one \"cased\" character and all of its cased characters are lowercase \n",
    "* `str1.isupper()` - Returns true if str1 contains at least one \"cased\" character and all of its cased characters are uppercase\n",
    "***\n",
    "#### Searching\n",
    "* `str1.startswith(str2[, startpos, [endpos]])` - Returns true if str1 starts with str2\n",
    "* `str1.endswith(str2[, startpos, [endos]])` - Returns true if str1 ends with str2\n",
    "* `str1.find(str2[, startpos[, endpos]])` - Returns the lowest index of str1 at which str2 is found, or -1 if it is not found\n",
    "* `str1.index(str2[, startpos[, endpos]])` - Returns the lowest index of str1 at which str2 is found, or ValueError if it is not found\n",
    "* `str1.count(str2[, startpos[, endpos]])` - Returns the number of occurrences of str2 in str1\n",
    "***\n",
    "#### Replacing\n",
    "* `str1.replace(oldstr, newstr[, count])` - Returns a copy of str1 with all occurrences of the substring oldstr replaced by the string newstr ; if count is specified, only the first count occurrences are replaced.\n",
    "***\n",
    "#### Changing case\n",
    "* `str1.lower()` - Returns a copy of the string with all of its characters converted to lowercase\n",
    "* `str1.upper()` - Returns a copy of the string with all of its characters converted to uppercase\n",
    "* `str1.capitalize()` - Returns a copy of the string with only its first character capitalized; has no effect if the first character is not a letter (e.g., if it is a space)\n",
    "* `str1.title()` - Returns a copy of the string with each word beginning with an uppercase character and the rest lowercase\n",
    "* `str1.swapcase()` - Returns a copy of the string with lowercase characters made uppercase and vice versa\n",
    "***\n",
    "#### Reformating\n",
    "* `str1.lstrip([chars])` - Returns a copy of str1 with leading characters removed.\n",
    "* `str1.rstrip([chars])` - Returns a copy of str1 with trailing characters removed.\n",
    "* `str1.strip([chars])` - Returns a copy of str1 with leading and trailing characters removed.\n",
    "* `str1.ljust(width[, fillchar])` - Returns str1 left-justified in a new string of length width , \"padded\" with fillchar (the default fill character is a space).\n",
    "* `str1.rjust(width[, fillchar])` - Returns str1 right-justified in a new string of length width , \"padded\" with fillchar (the default fill character is a space).\n",
    "* `str1.center(width[, fillchar])` - Returns str1 centered in a new string of length width , \"padded\" with fillchar (the default fill character is a space).\n",
    "***\n",
    "#### *format* method\n",
    "* `format(value[, format-specification])` - Returns a string obtained by formatting value according to the formatspecification ; if no format-specification is provided, this is equivalent to `str(value)`.\n",
    "* `format-specification.format(posargs, ..., kwdargs, ...)` - Returns a string formatted according to the format-specification; any number of positional arguments may be followed by any number of keyword arguments"
   ]
  },
  {
   "cell_type": "code",
   "execution_count": 1,
   "metadata": {},
   "outputs": [],
   "source": [
    "str1 = 'a string'"
   ]
  },
  {
   "cell_type": "code",
   "execution_count": 2,
   "metadata": {},
   "outputs": [
    {
     "data": {
      "text/plain": [
       "'\"a string\" contains 8 characters'"
      ]
     },
     "execution_count": 2,
     "metadata": {},
     "output_type": "execute_result"
    }
   ],
   "source": [
    "'\"{0}\" contains {1} characters'.format(str1, len(str1))"
   ]
  },
  {
   "cell_type": "code",
   "execution_count": 3,
   "metadata": {},
   "outputs": [
    {
     "data": {
      "text/plain": [
       "'\"a string\" contains 8 characters'"
      ]
     },
     "execution_count": 3,
     "metadata": {},
     "output_type": "execute_result"
    }
   ],
   "source": [
    "'\"{}\" contains {} characters'.format(str1, len(str1))"
   ]
  },
  {
   "cell_type": "code",
   "execution_count": 4,
   "metadata": {},
   "outputs": [
    {
     "data": {
      "text/plain": [
       "'\"a string\" contains 8 characters'"
      ]
     },
     "execution_count": 4,
     "metadata": {},
     "output_type": "execute_result"
    }
   ],
   "source": [
    "'\"{string}\" contains {length} characters'.format(string=str1, length=len(str1))"
   ]
  },
  {
   "cell_type": "code",
   "execution_count": 5,
   "metadata": {},
   "outputs": [
    {
     "data": {
      "text/plain": [
       "'\"a string\" contains 8 characters'"
      ]
     },
     "execution_count": 5,
     "metadata": {},
     "output_type": "execute_result"
    }
   ],
   "source": [
    "'\"{string}\" contains {length} characters'.format(length=len(str1),string=str1)"
   ]
  },
  {
   "cell_type": "markdown",
   "metadata": {},
   "source": [
    "### Ranges"
   ]
  },
  {
   "cell_type": "markdown",
   "metadata": {},
   "source": [
    "A `range` represents a series of integers."
   ]
  },
  {
   "cell_type": "markdown",
   "metadata": {},
   "source": [
    "* `range(stop)` - creates a range representing the integers from 0 up to but not including stop .\n",
    "* `range(start, stop)` - creates a range representing the integers from start up to but not including stop.\n",
    "* `range(start, stop,step)` - creates a range representing the integers from start up to but not including stop , in increments of step ."
   ]
  },
  {
   "cell_type": "code",
   "execution_count": 6,
   "metadata": {},
   "outputs": [
    {
     "data": {
      "text/plain": [
       "range(0, 5)"
      ]
     },
     "execution_count": 6,
     "metadata": {},
     "output_type": "execute_result"
    }
   ],
   "source": [
    "range(5)"
   ]
  },
  {
   "cell_type": "code",
   "execution_count": 7,
   "metadata": {},
   "outputs": [
    {
     "data": {
      "text/plain": [
       "{0, 1, 2, 3, 4}"
      ]
     },
     "execution_count": 7,
     "metadata": {},
     "output_type": "execute_result"
    }
   ],
   "source": [
    "set(range(5))"
   ]
  },
  {
   "cell_type": "code",
   "execution_count": 8,
   "metadata": {},
   "outputs": [
    {
     "data": {
      "text/plain": [
       "{5, 6, 7, 8, 9}"
      ]
     },
     "execution_count": 8,
     "metadata": {},
     "output_type": "execute_result"
    }
   ],
   "source": [
    "set(range(5, 10))"
   ]
  },
  {
   "cell_type": "code",
   "execution_count": 9,
   "metadata": {},
   "outputs": [
    {
     "data": {
      "text/plain": [
       "{5, 7, 9}"
      ]
     },
     "execution_count": 9,
     "metadata": {},
     "output_type": "execute_result"
    }
   ],
   "source": [
    "set(range(5, 10, 2))"
   ]
  },
  {
   "cell_type": "code",
   "execution_count": 11,
   "metadata": {},
   "outputs": [
    {
     "data": {
      "text/plain": [
       "{11, 13, 15}"
      ]
     },
     "execution_count": 11,
     "metadata": {},
     "output_type": "execute_result"
    }
   ],
   "source": [
    "set(range(15, 10, -2))"
   ]
  },
  {
   "cell_type": "code",
   "execution_count": 13,
   "metadata": {},
   "outputs": [
    {
     "data": {
      "text/plain": [
       "{-20, -15, -10, -5, 0}"
      ]
     },
     "execution_count": 13,
     "metadata": {},
     "output_type": "execute_result"
    }
   ],
   "source": [
    "set(range(0, -25, -5))"
   ]
  },
  {
   "cell_type": "markdown",
   "metadata": {},
   "source": [
    "### Tuples"
   ]
  },
  {
   "cell_type": "markdown",
   "metadata": {},
   "source": [
    "* A *tuple* is an immutable sequence that can contain any type of element.\n",
    "* Tuples are written as comma-separated series of items surrounded by parentheses.\n",
    "* one-element tuples must be written with a comma after their single element.\n",
    "* An empty pair of parentheses creates an empty tuple.\n",
    "* Given a sequence as an argument, the tuple function creates a tuple containing the elements of the sequence."
   ]
  },
  {
   "cell_type": "code",
   "execution_count": 14,
   "metadata": {},
   "outputs": [
    {
     "data": {
      "text/plain": [
       "('TCAG', 'UCAG')"
      ]
     },
     "execution_count": 14,
     "metadata": {},
     "output_type": "execute_result"
    }
   ],
   "source": [
    "('TCAG', 'UCAG') # 2 element tuple"
   ]
  },
  {
   "cell_type": "code",
   "execution_count": 15,
   "metadata": {},
   "outputs": [
    {
     "data": {
      "text/plain": [
       "('TCAG',)"
      ]
     },
     "execution_count": 15,
     "metadata": {},
     "output_type": "execute_result"
    }
   ],
   "source": [
    "('TCAG',) # 1 element tuple"
   ]
  },
  {
   "cell_type": "code",
   "execution_count": 16,
   "metadata": {},
   "outputs": [
    {
     "data": {
      "text/plain": [
       "()"
      ]
     },
     "execution_count": 16,
     "metadata": {},
     "output_type": "execute_result"
    }
   ],
   "source": [
    "() # empty tuple"
   ]
  },
  {
   "cell_type": "code",
   "execution_count": 17,
   "metadata": {},
   "outputs": [
    {
     "data": {
      "text/plain": [
       "'TCAG'"
      ]
     },
     "execution_count": 17,
     "metadata": {},
     "output_type": "execute_result"
    }
   ],
   "source": [
    "('TCAG') # Not a tuple!"
   ]
  },
  {
   "cell_type": "code",
   "execution_count": 18,
   "metadata": {},
   "outputs": [
    {
     "data": {
      "text/plain": [
       "('T', 'C', 'A', 'G')"
      ]
     },
     "execution_count": 18,
     "metadata": {},
     "output_type": "execute_result"
    }
   ],
   "source": [
    "tuple('TCAG')"
   ]
  },
  {
   "cell_type": "code",
   "execution_count": 19,
   "metadata": {},
   "outputs": [
    {
     "data": {
      "text/plain": [
       "(5, 6, 7, 8, 9)"
      ]
     },
     "execution_count": 19,
     "metadata": {},
     "output_type": "execute_result"
    }
   ],
   "source": [
    "tuple(range(5,10))"
   ]
  },
  {
   "cell_type": "markdown",
   "metadata": {},
   "source": [
    "#### Tuple packing & unpacking"
   ]
  },
  {
   "cell_type": "markdown",
   "metadata": {},
   "source": [
    "* The righthand side of an assignment statement can be a series of comma-separated expressions. The result is a tuple with those values. This is called tuple packing"
   ]
  },
  {
   "cell_type": "code",
   "execution_count": 20,
   "metadata": {},
   "outputs": [],
   "source": [
    "bases = 'TCAG', 'UCAG'"
   ]
  },
  {
   "cell_type": "code",
   "execution_count": 21,
   "metadata": {},
   "outputs": [
    {
     "data": {
      "text/plain": [
       "('TCAG', 'UCAG')"
      ]
     },
     "execution_count": 21,
     "metadata": {},
     "output_type": "execute_result"
    }
   ],
   "source": [
    "bases"
   ]
  },
  {
   "cell_type": "code",
   "execution_count": 22,
   "metadata": {},
   "outputs": [],
   "source": [
    "DNABases, RNABases = 'TCAG', 'UCAG'"
   ]
  },
  {
   "cell_type": "code",
   "execution_count": 23,
   "metadata": {},
   "outputs": [
    {
     "data": {
      "text/plain": [
       "'TCAG'"
      ]
     },
     "execution_count": 23,
     "metadata": {},
     "output_type": "execute_result"
    }
   ],
   "source": [
    "DNABases"
   ]
  },
  {
   "cell_type": "code",
   "execution_count": 24,
   "metadata": {},
   "outputs": [
    {
     "data": {
      "text/plain": [
       "'UCAG'"
      ]
     },
     "execution_count": 24,
     "metadata": {},
     "output_type": "execute_result"
    }
   ],
   "source": [
    "RNABases"
   ]
  },
  {
   "cell_type": "code",
   "execution_count": 25,
   "metadata": {},
   "outputs": [],
   "source": [
    "def recognition_site(base_seq, recognition_seq):\n",
    "    return base_seq.find(recognition_seq)"
   ]
  },
  {
   "cell_type": "code",
   "execution_count": 27,
   "metadata": {},
   "outputs": [],
   "source": [
    "def restriction_cut(base_seq, recognition_seq, offset = 0):\n",
    "    \"\"\"Return a pair of sequences derived from base_seq by splitting it at the first appearance\n",
    "    of recognition_seq; offset, which may be negative, is the number of bases relative to the\n",
    "    beginning of the site where the sequence is cut\"\"\"\n",
    "    site = recognition_site(base_seq, recognition_seq)\n",
    "    return base_seq[:site+offset], base_seq[site+offset:]"
   ]
  },
  {
   "cell_type": "code",
   "execution_count": 28,
   "metadata": {},
   "outputs": [],
   "source": [
    "aseq1 = 'AAAAATCCCGAGGCGGCTATATAGGGCTCCGGAGGCGTAATATAAAA'"
   ]
  },
  {
   "cell_type": "code",
   "execution_count": 29,
   "metadata": {},
   "outputs": [],
   "source": [
    "left, right = restriction_cut(aseq1, 'TCCGGA')"
   ]
  },
  {
   "cell_type": "code",
   "execution_count": 30,
   "metadata": {},
   "outputs": [
    {
     "data": {
      "text/plain": [
       "'AAAAATCCCGAGGCGGCTATATAGGGC'"
      ]
     },
     "execution_count": 30,
     "metadata": {},
     "output_type": "execute_result"
    }
   ],
   "source": [
    "left"
   ]
  },
  {
   "cell_type": "code",
   "execution_count": 31,
   "metadata": {},
   "outputs": [
    {
     "data": {
      "text/plain": [
       "'TCCGGAGGCGTAATATAAAA'"
      ]
     },
     "execution_count": 31,
     "metadata": {},
     "output_type": "execute_result"
    }
   ],
   "source": [
    "right"
   ]
  },
  {
   "cell_type": "code",
   "execution_count": 32,
   "metadata": {},
   "outputs": [],
   "source": [
    "a, b = 4, 2"
   ]
  },
  {
   "cell_type": "code",
   "execution_count": 33,
   "metadata": {},
   "outputs": [
    {
     "data": {
      "text/plain": [
       "4"
      ]
     },
     "execution_count": 33,
     "metadata": {},
     "output_type": "execute_result"
    }
   ],
   "source": [
    "a"
   ]
  },
  {
   "cell_type": "code",
   "execution_count": 34,
   "metadata": {},
   "outputs": [
    {
     "data": {
      "text/plain": [
       "2"
      ]
     },
     "execution_count": 34,
     "metadata": {},
     "output_type": "execute_result"
    }
   ],
   "source": [
    "b"
   ]
  },
  {
   "cell_type": "code",
   "execution_count": 35,
   "metadata": {},
   "outputs": [],
   "source": [
    "a, b = b, a"
   ]
  },
  {
   "cell_type": "code",
   "execution_count": 36,
   "metadata": {},
   "outputs": [
    {
     "data": {
      "text/plain": [
       "2"
      ]
     },
     "execution_count": 36,
     "metadata": {},
     "output_type": "execute_result"
    }
   ],
   "source": [
    "a"
   ]
  },
  {
   "cell_type": "code",
   "execution_count": 37,
   "metadata": {},
   "outputs": [
    {
     "data": {
      "text/plain": [
       "4"
      ]
     },
     "execution_count": 37,
     "metadata": {},
     "output_type": "execute_result"
    }
   ],
   "source": [
    "b"
   ]
  },
  {
   "cell_type": "markdown",
   "metadata": {},
   "source": [
    "### Lists"
   ]
  },
  {
   "cell_type": "markdown",
   "metadata": {},
   "source": [
    "* A list is a *mutable* sequence of any kind of element.\n",
    "* The syntax for lists is a comma-separated series of values enclosed in square brackets.\n",
    "***\n",
    "<img src=\"images/listf1.png\"><br>\n",
    "<img src=\"images/listf2.png\">\n",
    "#### Deleting\n",
    "* `del lst[n]` - remove the nth element from lst\n",
    "* `del lst[i:j]` - remove the ith through jth elements from lst\n",
    "* `del lst[i:j:k]` - remove every k elements from i up to j from lst\n",
    "***\n",
    "<img src=\"images/listf3.png\">"
   ]
  },
  {
   "cell_type": "code",
   "execution_count": 39,
   "metadata": {},
   "outputs": [],
   "source": [
    "list1 = [1,2,3]"
   ]
  },
  {
   "cell_type": "code",
   "execution_count": 40,
   "metadata": {},
   "outputs": [],
   "source": [
    "list2 = [4,5]"
   ]
  },
  {
   "cell_type": "code",
   "execution_count": 42,
   "metadata": {},
   "outputs": [
    {
     "data": {
      "text/plain": [
       "[1, 2, 3, 4, 5]"
      ]
     },
     "execution_count": 42,
     "metadata": {},
     "output_type": "execute_result"
    }
   ],
   "source": [
    "list1 + list2 # Concatenation, list1 & list2 remain unchanged"
   ]
  },
  {
   "cell_type": "code",
   "execution_count": 43,
   "metadata": {},
   "outputs": [],
   "source": [
    "list1.extend(list2)"
   ]
  },
  {
   "cell_type": "code",
   "execution_count": 44,
   "metadata": {},
   "outputs": [
    {
     "data": {
      "text/plain": [
       "[1, 2, 3, 4, 5]"
      ]
     },
     "execution_count": 44,
     "metadata": {},
     "output_type": "execute_result"
    }
   ],
   "source": [
    "list1"
   ]
  },
  {
   "cell_type": "code",
   "execution_count": 45,
   "metadata": {},
   "outputs": [
    {
     "data": {
      "text/plain": [
       "[4, 5]"
      ]
     },
     "execution_count": 45,
     "metadata": {},
     "output_type": "execute_result"
    }
   ],
   "source": [
    "list2"
   ]
  },
  {
   "cell_type": "markdown",
   "metadata": {},
   "source": [
    "<img src=\"images/listf4.png\">"
   ]
  },
  {
   "cell_type": "markdown",
   "metadata": {},
   "source": [
    "#### Sequence-oriented string methods"
   ]
  },
  {
   "cell_type": "markdown",
   "metadata": {},
   "source": [
    "* `string.splitlines([keepflg])` - Returns a list of the “lines” in string , splitting at end-of-line characters. If keepflg is omitted or is false, the end-of-line characters are not included in the lines; otherwise, they are.\n",
    "* `string.split([sepr[, maxwords]])` - Returns a list of the “words” in string , using sepr as a word delineator. In the special case where sepr is omitted or is None , words are delineated by any consecutive whitespace characters; if maxwords is specified the result will have at most maxwords +1 elements.\n",
    "* `string.rsplit([sepr[, maxwords]])` - Performs a reverse split: same as split except that if maxwords is specified and its value is less than the number of words in string the result returned is a list containing the last maxwords+1 words.\n",
    "* `sepr.join(seq)` - Returns a string formed by concatenating the strings in seq separated by sepr, which can be any string (including the empty string).\n",
    "* `string.partition(sepr)` - Returns a tuple with three elements: the portion of string up to the first occurrence of sepr , sepr , and the portion of string after the first occurrence of sepr . If sepr is not found in string , the tuple is (string, '', '').\n",
    "* `string.rpartition(sepr)` - Returns a tuple with three elements: the portion of string up to the last occurrence of sepr , sepr , and the portion of string after the last occurrence of sepr . If sepr is not found in string , the tuple is ('', '', string)"
   ]
  },
  {
   "cell_type": "code",
   "execution_count": 4,
   "metadata": {},
   "outputs": [],
   "source": [
    "a = [ 'a', 'b', 'c', 'd', 'e']"
   ]
  },
  {
   "cell_type": "code",
   "execution_count": 7,
   "metadata": {},
   "outputs": [],
   "source": [
    "abc = ','.join(a)"
   ]
  },
  {
   "cell_type": "code",
   "execution_count": 8,
   "metadata": {},
   "outputs": [
    {
     "data": {
      "text/plain": [
       "'a,b,c,d,e'"
      ]
     },
     "execution_count": 8,
     "metadata": {},
     "output_type": "execute_result"
    }
   ],
   "source": [
    "abc"
   ]
  },
  {
   "cell_type": "code",
   "execution_count": 9,
   "metadata": {},
   "outputs": [
    {
     "data": {
      "text/plain": [
       "['a,b,c,d,e']"
      ]
     },
     "execution_count": 9,
     "metadata": {},
     "output_type": "execute_result"
    }
   ],
   "source": [
    "abc.split()"
   ]
  },
  {
   "cell_type": "code",
   "execution_count": 10,
   "metadata": {},
   "outputs": [
    {
     "data": {
      "text/plain": [
       "['a', 'b', 'c', 'd', 'e']"
      ]
     },
     "execution_count": 10,
     "metadata": {},
     "output_type": "execute_result"
    }
   ],
   "source": [
    "abc.split(',')"
   ]
  }
 ],
 "metadata": {
  "kernelspec": {
   "display_name": "Python 3",
   "language": "python",
   "name": "python3"
  },
  "language_info": {
   "codemirror_mode": {
    "name": "ipython",
    "version": 3
   },
   "file_extension": ".py",
   "mimetype": "text/x-python",
   "name": "python",
   "nbconvert_exporter": "python",
   "pygments_lexer": "ipython3",
   "version": "3.6.5"
  }
 },
 "nbformat": 4,
 "nbformat_minor": 2
}
