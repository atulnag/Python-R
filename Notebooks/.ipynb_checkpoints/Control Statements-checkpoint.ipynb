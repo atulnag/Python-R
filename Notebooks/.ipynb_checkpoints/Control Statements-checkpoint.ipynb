{
 "cells": [
  {
   "cell_type": "markdown",
   "metadata": {},
   "source": [
    "# Control statements"
   ]
  },
  {
   "cell_type": "markdown",
   "metadata": {},
   "source": [
    "So far we have discussed:\n",
    "* Expressions, including function calls\n",
    "* Assignments\n",
    "* Augmented assignments\n",
    "* Various forms of `import`\n",
    "* Assertions\n",
    "* `return`\n",
    "* `yield` (to implement generators)\n",
    "* `pass`\n",
    "* statements:\n",
    "  * `def` - for defining functions\n",
    "  * `with` - to use with files"
   ]
  },
  {
   "cell_type": "markdown",
   "metadata": {},
   "source": [
    "We will discuss about compound statements:\n",
    "<img src=\"../docs/images/control1.png\">\n",
    "\n",
    "The four kinds of compound statements introduced here are:\n",
    "* Conditionals\n",
    "* Loops\n",
    "* Iterations\n",
    "* Exception handlers"
   ]
  },
  {
   "cell_type": "markdown",
   "metadata": {},
   "source": [
    "## Conditionals\n",
    "\n",
    "Conditionals in Python are compound statements beginning with `if`.\n",
    "> `if expression:\n",
    "      statements`\n",
    "\n",
    "* During the import of a module `__name__` is bound to the name of the module, but while the file is being executed `__name__` is bound to '`__main__`' .\n",
    "* This gives you a way to include statements in your Python files that are executed only when the module is run or, conversely, only when it is imported."
   ]
  },
  {
   "cell_type": "code",
   "execution_count": 2,
   "metadata": {},
   "outputs": [],
   "source": [
    "def do_tests():\n",
    "    pass\n",
    "\n",
    "if __name__ == '__main__':\n",
    "    do_tests()"
   ]
  },
  {
   "cell_type": "markdown",
   "metadata": {},
   "source": [
    "### One-Alternative Conditionals\n",
    "`if expression:\n",
    "       statements1\n",
    "else:\n",
    "     statements2`"
   ]
  },
  {
   "cell_type": "code",
   "execution_count": 3,
   "metadata": {},
   "outputs": [],
   "source": [
    "if __name__ == '__main__':\n",
    "    do_tests()\n",
    "else:\n",
    "    print(__name__,'has been imported')"
   ]
  },
  {
   "cell_type": "markdown",
   "metadata": {},
   "source": [
    "### Multi-Test Conditionals\n",
    "\n",
    "```if expression1:\n",
    "       statements1\n",
    "elif expression2:\n",
    "    statements2\n",
    "    ...any number of additional elif clauses\n",
    "else:\n",
    "    statements\n",
    "```"
   ]
  },
  {
   "cell_type": "markdown",
   "metadata": {},
   "source": [
    "## Loops\n",
    "A loop is a block of statements that gets executed as long as some condition is true.\n",
    "Statements get executed if the test expresssion is satisfied.\n",
    "```\n",
    "    while expression:\n",
    "        statements\n",
    "  ```"
   ]
  },
  {
   "cell_type": "markdown",
   "metadata": {},
   "source": [
    "* If code is to be execute once the test expression is false\n",
    "```\n",
    "    while expression:\n",
    "        statements1\n",
    "    else:\n",
    "        statments2\n",
    "```"
   ]
  },
  {
   "cell_type": "markdown",
   "metadata": {},
   "source": [
    "* Two simple statements associated eith loops and iterations: `continue` and `break`\n",
    "* The `continue` statement causes execution of the loop to return to the test. \n",
    "* The `break` statement interrupts the entire loop’s execution, causing the program to continue with the statement following the while ."
   ]
  },
  {
   "cell_type": "code",
   "execution_count": 12,
   "metadata": {},
   "outputs": [
    {
     "name": "stdout",
     "output_type": "stream",
     "text": [
      "Say something: Python\n",
      "You said \"Python\"\n",
      "Say something: Bioinformatics\n",
      "You said \"Bioinformatics\"\n",
      "Say something: \n",
      "You said \"\"\n"
     ]
    }
   ],
   "source": [
    "def echo():\n",
    "    \"\"\"Echo the user's input until an empty line is entered\"\"\"\n",
    "    while echo1():\n",
    "        pass\n",
    "\n",
    "def echo1():\n",
    "    \"\"\"Prompt the user for a string, \"echo\" it, and return it\"\"\"\n",
    "    line = input('Say something: ')\n",
    "    print('You said \"', line, '\"', sep='')\n",
    "    return line\n",
    "\n",
    "echo()"
   ]
  },
  {
   "cell_type": "code",
   "execution_count": 13,
   "metadata": {},
   "outputs": [
    {
     "name": "stdout",
     "output_type": "stream",
     "text": [
      "Say something: Python\n",
      "You said \"Python\"\n",
      "Say something: Bioinformatics\n",
      "You said \"Bioinformatics\"\n",
      "Say something: bye\n",
      "You said \"bye\"\n"
     ]
    }
   ],
   "source": [
    "def polite_echo():\n",
    "    \"\"\"Echo the user's input until it equals 'bye'\"\"\"\n",
    "    while echo1() != 'bye':\n",
    "        pass\n",
    "\n",
    "\n",
    "polite_echo()"
   ]
  },
  {
   "cell_type": "code",
   "execution_count": 7,
   "metadata": {},
   "outputs": [
    {
     "name": "stdout",
     "output_type": "stream",
     "text": [
      "Say something: My name is Atul\n",
      "You said \"My name is Atul\"\n",
      "Say something: I study Bioinformatics\n",
      "You said \"I study Bioinformatics\"\n",
      "Say something: I like Python\n",
      "You said \"I like Python\"\n",
      "Say something: bye\n",
      "You said \"bye\"\n"
     ]
    },
    {
     "data": {
      "text/plain": [
       "['My name is Atul', 'I study Bioinformatics', 'I like Python']"
      ]
     },
     "execution_count": 7,
     "metadata": {},
     "output_type": "execute_result"
    }
   ],
   "source": [
    "def recording_echo():\n",
    "    \"\"\"Echo the user's input until it equals 'bye', then return a\n",
    "    list of all the inputs received\"\"\"\n",
    "    lst = []                 # initialize entry and lst\n",
    "    entry = echo1()          # get the first input\n",
    "    while entry != 'bye':    # test entry\n",
    "        lst.append(entry)    # use entry\n",
    "        entry = echo1()      # change entry\n",
    "        # ... repeat\n",
    "    return lst               # return result\n",
    "\n",
    "recording_echo()"
   ]
  },
  {
   "cell_type": "markdown",
   "metadata": {},
   "source": [
    "### Looping forever\n",
    "\n",
    "*initialize values*\n",
    "```\n",
    "while True:\n",
    "    # change values\n",
    "    if test values:\n",
    "        return\n",
    "    use values\n",
    "    # repeat\n",
    "return result\n",
    "```\n"
   ]
  },
  {
   "cell_type": "code",
   "execution_count": 14,
   "metadata": {},
   "outputs": [
    {
     "name": "stdout",
     "output_type": "stream",
     "text": [
      "Say something: I am Atul\n",
      "You said \"I am Atul\"\n",
      "Say something: I read Bionfo\n",
      "You said \"I read Bionfo\"\n",
      "Say something: bye\n",
      "You said \"bye\"\n"
     ]
    },
    {
     "data": {
      "text/plain": [
       "['I am Atul', 'I read Bionfo']"
      ]
     },
     "execution_count": 14,
     "metadata": {},
     "output_type": "execute_result"
    }
   ],
   "source": [
    "def recording_echo_with_conditional():\n",
    "    \"\"\"Echo the user's input until it equals 'bye', then return a\n",
    "    list of all the inputs received\"\"\"\n",
    "    seq = []\n",
    "    # no need to initialize a value to be tested since nothing is tested!\n",
    "    while True:\n",
    "        entry = echo1()\n",
    "        if entry == 'bye':\n",
    "            return seq\n",
    "        seq.append(entry)\n",
    "\n",
    "recording_echo_with_conditional()"
   ]
  },
  {
   "cell_type": "code",
   "execution_count": 15,
   "metadata": {},
   "outputs": [
    {
     "data": {
      "text/plain": [
       "'AsnLysArgGlyTyrAspAlaValLeu'"
      ]
     },
     "execution_count": 15,
     "metadata": {},
     "output_type": "execute_result"
    }
   ],
   "source": [
    "RNA_codon_table = {\n",
    "#                        Second Base\n",
    "#        U             C             A             G\n",
    "# U\n",
    "    'UUU': 'Phe', 'UCU': 'Ser', 'UAU': 'Tyr', 'UGU': 'Cys',     # UxU\n",
    "    'UUC': 'Phe', 'UCC': 'Ser', 'UAC': 'Tyr', 'UGC': 'Cys',     # UxC\n",
    "    'UUA': 'Leu', 'UCA': 'Ser', 'UAA': '---', 'UGA': '---',     # UxA\n",
    "    'UUG': 'Leu', 'UCG': 'Ser', 'UAG': '---', 'UGG': 'Urp',     # UxG\n",
    "# C\n",
    "    'CUU': 'Leu', 'CCU': 'Pro', 'CAU': 'His', 'CGU': 'Arg',     # CxU\n",
    "    'CUC': 'Leu', 'CCC': 'Pro', 'CAC': 'His', 'CGC': 'Arg',     # CxC\n",
    "    'CUA': 'Leu', 'CCA': 'Pro', 'CAA': 'Gln', 'CGA': 'Arg',     # CxA\n",
    "    'CUG': 'Leu', 'CCG': 'Pro', 'CAG': 'Gln', 'CGG': 'Arg',     # CxG\n",
    "# A\n",
    "    'AUU': 'Ile', 'ACU': 'Thr', 'AAU': 'Asn', 'AGU': 'Ser',     # AxU\n",
    "    'AUC': 'Ile', 'ACC': 'Thr', 'AAC': 'Asn', 'AGC': 'Ser',     # AxC\n",
    "    'AUA': 'Ile', 'ACA': 'Thr', 'AAA': 'Lys', 'AGA': 'Arg',     # AxA\n",
    "    'AUG': 'Met', 'ACG': 'Thr', 'AAG': 'Lys', 'AGG': 'Arg',     # AxG\n",
    "# G\n",
    "    'GUU': 'Val', 'GCU': 'Ala', 'GAU': 'Asp', 'GGU': 'Gly',     # GxU\n",
    "    'GUC': 'Val', 'GCC': 'Ala', 'GAC': 'Asp', 'GGC': 'Gly',     # GxC\n",
    "    'GUA': 'Val', 'GCA': 'Ala', 'GAA': 'Glu', 'GGA': 'Gly',     # GxA\n",
    "    'GUG': 'Val', 'GCG': 'Ala', 'GAG': 'Glu', 'GGG': 'Gly'      # GxG\n",
    "}\n",
    "\n",
    "\n",
    "def translate_RNA_codon(codon):\n",
    "    \"\"\"RNA codon lookup from a dictionary\"\"\"\n",
    "    return RNA_codon_table[codon]\n",
    "\n",
    "def aa_generator(rnaseq):\n",
    "    \"\"\"Return a generator object that produces an amino acid by\n",
    "    translating the next three characters of rnaseq each time next is\n",
    "    called on it\"\"\"\n",
    "    return (translate_RNA_codon(rnaseq[n:n+3])\n",
    "            for n in range(0, len(rnaseq), 3))\n",
    "\n",
    "def translate(rnaseq):\n",
    "    \"\"\"Translate rnaseq into amino acid symbols\"\"\"\n",
    "    gen = aa_generator(rnaseq)\n",
    "    seq = ''\n",
    "    aa = next(gen, None)\n",
    "    while aa:\n",
    "        seq += aa\n",
    "        aa = next(gen, None)\n",
    "    return seq\n",
    "\n",
    "translate('AAUAAGCGCGGGUAUGAUGCGGUCUUG')"
   ]
  },
  {
   "cell_type": "code",
   "execution_count": 10,
   "metadata": {},
   "outputs": [
    {
     "data": {
      "text/plain": [
       "'MPPCSEKTLKDIEEIFLKFRRKKKWEDLIRYLKYKQPKCVKTFNLTGTGHKYHAMWAYNPITDKREKKQISLDVMKIQEL\\nHRITNNNSKLYVEIRKIMTDDHRCPCEEIKNYMQQIAEYKNNRSNKVFNTPPTKIVPNALEKILKNFTINLMIDKKPKKK\\nITKSAHTIKHPPVLNIDYEHTLEFAGQTTVKEICKHASLGDTIEIQNRSFDEMVNLYTTCVQCKQMYKIQ\\n'"
      ]
     },
     "execution_count": 10,
     "metadata": {},
     "output_type": "execute_result"
    }
   ],
   "source": [
    "def read_sequence(filename):\n",
    "    \"\"\"Given the name of a FASTA file named filename, read and return\n",
    "    its first sequence, ignoring the sequence's description\"\"\"\n",
    "    seq = ''\n",
    "    with open(filename) as file:\n",
    "        line = file.readline()\n",
    "        while line and line[0] == '>':\n",
    "            line = file.readline()\n",
    "        while line and line[0] != '>':      # must check for end of file\n",
    "            seq += line\n",
    "            line = file.readline()\n",
    "    return seq\n",
    "\n",
    "read_sequence('data/aa003.fasta')"
   ]
  },
  {
   "cell_type": "markdown",
   "metadata": {},
   "source": [
    "## Iterations\n",
    "* Doing something to each element of a collection is called **iteration**.\n",
    "* Iteration statements all begin with the keyword `for`.\n",
    "```\n",
    "for item in collection:\n",
    "    do something with item\n",
    "```"
   ]
  },
  {
   "cell_type": "markdown",
   "metadata": {},
   "source": [
    "### File Iteration\n",
    "```\n",
    "with open(filename) as file:\n",
    "    for line in file:\n",
    "        do something with line\n",
    "```\n",
    "\n",
    "### Dictionary Iteration\n",
    "```\n",
    "for key in dictionary.keys():\n",
    "    do something with key\n",
    "```\n",
    "\n",
    "```\n",
    "for key in dictionary.values():\n",
    "    do something with value\n",
    "```\n",
    "\n",
    "```\n",
    "for key, value in dictionary.items():\n",
    "    do something with key and value\n",
    "```\n",
    "\n",
    "### Numbering Iterations\n",
    "Use the function enumerate and tuple unpacking to generate numerical keys in parallel with the values in an iterable.\n",
    "\n",
    "```\n",
    "for n, value in enumerate(iterable):\n",
    "    do something with n and value\n",
    "```\n"
   ]
  },
  {
   "cell_type": "code",
   "execution_count": 16,
   "metadata": {},
   "outputs": [
    {
     "name": "stdout",
     "output_type": "stream",
     "text": [
      "0\t10\n",
      "1\t11\n",
      "2\t12\n",
      "3\t13\n",
      "4\t14\n",
      "5\t15\n",
      "6\t16\n",
      "7\t17\n",
      "8\t18\n",
      "9\t19\n"
     ]
    }
   ],
   "source": [
    "a = list(range(10,20))\n",
    "for n, value in enumerate(a):\n",
    "    print(n, value, sep='\\t')"
   ]
  },
  {
   "cell_type": "markdown",
   "metadata": {},
   "source": [
    "## Iteration Templates\n",
    "\n",
    "### Do -Template\n",
    "* Do something to every element of a collection\n",
    "```\n",
    "for item in collection:\n",
    "    do something with item\n",
    "```"
   ]
  },
  {
   "cell_type": "code",
   "execution_count": 2,
   "metadata": {},
   "outputs": [
    {
     "name": "stdout",
     "output_type": "stream",
     "text": [
      "2\n",
      "3\n",
      "4\n",
      "5\n"
     ]
    },
    {
     "data": {
      "text/plain": [
       "[None, None, None, None]"
      ]
     },
     "execution_count": 2,
     "metadata": {},
     "output_type": "execute_result"
    }
   ],
   "source": [
    "def print_collection(collection):\n",
    "    for item in collection:\n",
    "        print(item)\n",
    "    print()\n",
    "collection = [2, 3, 4, 5]\n",
    "[print(item) for item in collection]"
   ]
  },
  {
   "cell_type": "markdown",
   "metadata": {},
   "source": [
    "### Repeat - Template"
   ]
  },
  {
   "cell_type": "markdown",
   "metadata": {},
   "source": [
    "To repeat a block of statements n times, iterate over range(n).\n",
    "```\n",
    "for count in range(n):\n",
    "    statements\n",
    "```\n",
    "Frequently, count would not even be used in the body of the iteration."
   ]
  },
  {
   "cell_type": "markdown",
   "metadata": {},
   "source": [
    "### Collect - Template\n",
    "* A Collect iteration starts with an empty collection and uses a method or operator appropriate to its type to add something to it for each iteration.\n",
    "```\n",
    "result = []\n",
    "for item in collection:\n",
    "    statements using item\n",
    "    result.append(expression based on the statements)\n",
    "return result\n",
    "```"
   ]
  },
  {
   "cell_type": "code",
   "execution_count": 6,
   "metadata": {},
   "outputs": [
    {
     "name": "stdout",
     "output_type": "stream",
     "text": [
      "All tests passed\n"
     ]
    }
   ],
   "source": [
    "#Reading FASTA entries with a Collect iteration\n",
    "\n",
    "def read_FASTA_iteration(filename):\n",
    "    sequences = []\n",
    "    descr = None\n",
    "    with open(filename) as file:\n",
    "        for line in file:\n",
    "            if line[0] == '>':\n",
    "                if descr:                               # have we found one yet?\n",
    "                    sequences.append((descr, seq))\n",
    "                descr = line[1:-1].split('|')\n",
    "                seq = ''                                # start a new sequence\n",
    "            else:\n",
    "                seq += line[:-1]\n",
    "        sequences.append((descr, seq))                  # add the last one found\n",
    "    return sequences\n",
    "\n",
    "def read_FASTA(filename):\n",
    "    with open(filename) as file:\n",
    "        return [(part[0].split('|'),\n",
    "                 part[2].replace('\\n', ''))\n",
    "                for part in\n",
    "                [entry.partition('\\n')\n",
    "                 for entry in file.read().split('>')[1:]]]\n",
    "\n",
    "def read_FASTA_loop(filename):\n",
    "    sequences = []\n",
    "    descr = None\n",
    "    with open(filename) as file:\n",
    "        line = file.readline()[:-1]                     # always trim newline\n",
    "        while line:\n",
    "            if line[0] == '>':\n",
    "                if descr:                               # any sequence found yet?\n",
    "                    sequences.append((descr, seq))\n",
    "                descr = line[1:].split('|')\n",
    "                seq = ''                                # start a new sequence\n",
    "            else:\n",
    "                seq += line\n",
    "            line = file.readline()[:-1]\n",
    "        sequences.append((descr, seq))                  # easy to forget!\n",
    "    return sequences\n",
    "\n",
    "\n",
    "def test():\n",
    "    filename = 'data/aa003.fasta'\n",
    "    result1 = read_FASTA_iteration(filename)\n",
    "    result2 = read_FASTA(filename)\n",
    "    result3 = read_FASTA_loop(filename)\n",
    "    assert result1 == result2 == result3\n",
    "    print('All tests passed')\n",
    "test()"
   ]
  },
  {
   "cell_type": "markdown",
   "metadata": {},
   "source": [
    "### Combine - Template\n",
    "* Sometimes we want to perform an operation on all of the elements of a collection to yield a single value."
   ]
  },
  {
   "cell_type": "code",
   "execution_count": 5,
   "metadata": {},
   "outputs": [
    {
     "data": {
      "text/plain": [
       "120.0"
      ]
     },
     "execution_count": 5,
     "metadata": {},
     "output_type": "execute_result"
    }
   ],
   "source": [
    "def product(coll):\n",
    "    \"\"\"Return the product of the elements of coll converted to floats, including elements that \n",
    "    are string representations of numbers; if coll has an element that is a string but doesn't \n",
    "    represent a number, an error will occur\"\"\"\n",
    "    result = 1.0                                        # initialize\n",
    "    for elt in coll:\n",
    "        result *= float(elt)                            # combine element with\n",
    "    return result                                       # accumulated result\n",
    "\n",
    "product(range(1, 6))"
   ]
  },
  {
   "cell_type": "code",
   "execution_count": 7,
   "metadata": {},
   "outputs": [
    {
     "data": {
      "text/plain": [
       "'MSSSNHIHVLRAIDEYHKHTCLKFVKRTNQDAYLSFYPGGGCSSLVGYVRGRINDVSLAGGCLRLGTVMHEIGHSIGLYHEQSRPDRDDHVTIIWNNIQSNMRFNFDKFDRNKINSLGFPYDYESMMHYESNAFGGGQVTIRTKDPSKQKLIGNRQGFSEIDKQQINAMYNCNRGGSTLPPSVPPTVSPVAQCVEGQDLDNRCLGWATSGYCTATDPAHLETMKKKCCKSCKESAICNDKNTRCDEWAKKGECKANPNWMLGNCSKSCLVC'"
      ]
     },
     "execution_count": 7,
     "metadata": {},
     "output_type": "execute_result"
    }
   ],
   "source": [
    "### Combine: identifying the longest FASTA sequence\n",
    "\n",
    "def longest_sequence(filename):\n",
    "    longest_seq = ''\n",
    "    for info, seq in read_FASTA(filename):\n",
    "        longest_seq = max(longest_seq, seq, key=len)\n",
    "    return longest_seq\n",
    "\n",
    "longest_sequence('data/aa003.fasta')\n"
   ]
  },
  {
   "cell_type": "markdown",
   "metadata": {},
   "source": [
    "#### Count\n",
    "* A Count iteration “combines” the value 1 for each element of the iteration.\n",
    "```\n",
    "count = 0\n",
    "for item in iterable:\n",
    "    count += 1\n",
    "return count\n",
    "```"
   ]
  },
  {
   "cell_type": "markdown",
   "metadata": {},
   "source": [
    "### Collection Combine\n",
    "* In this variation on Combine, an action is performed on each element of a collection that produces a collection as a result, but instead of returning a collection of the results, the iteration combines the results into (reduces the results to) a single collection.\n",
    "```\n",
    "result = []\n",
    "for item in collection:\n",
    "    result += fn(item)\n",
    "    # merge result with previous results\n",
    "return result\n",
    "```"
   ]
  },
  {
   "cell_type": "code",
   "execution_count": 9,
   "metadata": {},
   "outputs": [
    {
     "name": "stdout",
     "output_type": "stream",
     "text": [
      "['6694188', '6694190', '6694192', '6694194', '6694196', '6694198', '6694200', '6694202', '6694204', '6694206', '6694208', '6694210', '6694212', '6694214', '6694216', '6693803', '6693805', '6693816', '10956512']\n"
     ]
    }
   ],
   "source": [
    "### Collection Combine: sequence IDs from multiple files\n",
    "\n",
    "def extract_gi_id(description):\n",
    "    \"\"\"Given a FASTA file description line, return its GenInfo ID if it has one\"\"\"\n",
    "    if description[0] != '>':\n",
    "        return None\n",
    "    fields = description[1:].split('|')\n",
    "    if 'gi' not in fields:\n",
    "        return None\n",
    "    return fields[1 + fields.index('gi')]\n",
    "\n",
    "def get_gi_ids(filename):\n",
    "    \"\"\"Return a list of the GenInfo IDs of all sequences found in the file named filename\"\"\"\n",
    "    with open(filename) as file:\n",
    "        return [extract_gi_id(line) for line in file if line[0] == '>']\n",
    "\n",
    "def get_gi_ids_from_files(filenames):\n",
    "    \"\"\"Return a list of the GenInfo IDs of all sequences found in the files whose names are \n",
    "    contained in the collection filenames\"\"\"\n",
    "    idlst = []\n",
    "    for filename in filenames:\n",
    "        idlst += get_gi_ids(filename)\n",
    "    return idlst\n",
    "\n",
    "def test():\n",
    "    filenames = ('data/nadh.fasta',\n",
    "                 'data/aa003.fasta',\n",
    "                 'data/BacillusSubtilisPlastmidP1414.fasta'\n",
    "                 )\n",
    "    print(get_gi_ids_from_files(filenames))\n",
    "test()"
   ]
  },
  {
   "cell_type": "markdown",
   "metadata": {},
   "source": [
    "### Search\n",
    "* Search is a simple variation on Do:\n",
    "```\n",
    "for item in collection:\n",
    "    if test item:\n",
    "        return item\n",
    "```"
   ]
  },
  {
   "cell_type": "code",
   "execution_count": 10,
   "metadata": {},
   "outputs": [
    {
     "data": {
      "text/plain": [
       "'MKMKAVSQKALRCAVVLAVALVTAVALPAQNKPYPTAAQLAPTPPMGWNSWNHFAGKVDEADVRAAAKAMVDSGMAAAGYKYIVIDDTWQGKRDAQGFIHPNSKFPDMPGLIQYVHSLGLKFGIYSSPGPQTCAGYEGSYGHVQQDAETYARWGVDYLKYDLCSYLGIMHKEAANNPAKALAMQQAAYLKMYKALAAAGRPIVFSLCQYGIGDVWKWGPSVGGNLWRTTGDIQDNYARMATIGFGQAGLAKYAGPGHWNDPDMLEVGNGGMTNEEYRTHMSLWALLAAPLIAGNDLSHMSPATLAILTNREVIAVDQDRLGREGDRVSKNGALEIWAKPLTGGAKAVGLFNRDTQPHSMTLQLSVVNFPPHAHLRDLWRHKTVHAHHGAYTVTVPAHGVVLLKLTR'"
      ]
     },
     "execution_count": 10,
     "metadata": {},
     "output_type": "execute_result"
    }
   ],
   "source": [
    "### Extracting a sequence by ID from a large FASTA file\n",
    "\n",
    "def FASTA_search_by_gi_id(id, file):\n",
    "    for line in file:\n",
    "        if (line[0] == '>' and str(id) == get_gi_id(line)):\n",
    "            return read_FASTA_sequence(file)\n",
    "\n",
    "def search_FASTA_file_by_gi_id(id, filename):\n",
    "    \"\"\"Return the sequence with the GenInfo ID ID from the FASTA file\n",
    "    named filename, reading one entry at a time until it is found\"\"\"\n",
    "    id = str(id)                      # user might call with a number\n",
    "    with open(filename) as file:\n",
    "        return FASTA_search_by_gi_id(id, file)\n",
    "\n",
    "def read_FASTA_sequence(file):\n",
    "    seq = ''\n",
    "    for line in file:\n",
    "        if not line or line[0] == '>':\n",
    "            return seq\n",
    "        seq += line[:-1]\n",
    "\n",
    "def get_gi_id(description):\n",
    "    fields = description[1:].split('|')\n",
    "    if fields and 'gi' in fields:\n",
    "        return fields[(1 + fields.index('gi'))]\n",
    "\n",
    "filename = 'data/Acidobacterium-capsulatum-coding-regions.fasta'\n",
    "search_FASTA_file_by_gi_id('225793573', filename)"
   ]
  },
  {
   "cell_type": "code",
   "execution_count": 11,
   "metadata": {},
   "outputs": [],
   "source": [
    "def rna_sequence_is_valid(seq):\n",
    "    for base in seq:\n",
    "        if base not in 'UCAGucag':\n",
    "            return False\n",
    "    return True\n",
    "\n",
    "def dna_sequence_contains_N(seq):\n",
    "    for base in seq:\n",
    "        if base == 'N':\n",
    "            return True"
   ]
  },
  {
   "cell_type": "markdown",
   "metadata": {},
   "source": [
    "### Filter\n",
    "Filtering is similar to searching, but instead of returning a result the first time a match\n",
    "is found, it does something with each element for which the match was successful.\n",
    "\n",
    "#### Filtered Do\n",
    "* A Filtered Do performs an action for each item that meets a specified condition.\n",
    "```\n",
    "for item in collection:\n",
    "    if test item:\n",
    "        statements using item\n",
    "```"
   ]
  },
  {
   "cell_type": "code",
   "execution_count": 12,
   "metadata": {},
   "outputs": [
    {
     "name": "stdout",
     "output_type": "stream",
     "text": [
      "gi|6693791|gb|AAF24984.1|AF082179_1 (AF082179) HepA-related protein HARP [Homo sapiens]\n",
      "gi|6693793|gb|AAF24985.1|AF088884_1 (AF088884) HepA-related protein Harp [Mus musculus]\n",
      "gi|6693798|gb|AAF24986.1|AF116242_1 (AF116242) K-Cl cotransporter KCC3 [Homo sapiens]\n",
      "gi|6693800|gb|AAF24987.1|AF121349_1 (AF121349) HOAR-like protein [Neodiprion sertifer nucleopolyhedrovirus]\n",
      "gi|6693801|gb|AAF24988.1|AF121349_2 (AF121349) ORF22 [Neodiprion sertifer nucleopolyhedrovirus]\n",
      "gi|6693802|gb|AAF24989.1|AF121349_3 (AF121349) late expression factor 2 [Neodiprion sertifer nucleopolyhedrovirus]\n",
      "gi|6693803|gb|AAF24990.1|AF121349_4 (AF121349) late expression factor 5 [Neodiprion sertifer nucleopolyhedrovirus]\n",
      "gi|6693805|gb|AAF24991.1| (AF125506) astacin family metalloendopeptidase FARM-1 [Hydra vulgaris]\n",
      "gi|6693816|gb|AAF24994.1|AF129447_1 (AF129447) RpoB [Klebsiella ornithinolytica]\n",
      "gi|6693818|gb|AAF24995.1|AF129448_1 (AF129448) RpoB [Klebsiella terrigena]\n"
     ]
    }
   ],
   "source": [
    "### Printing the header lines from a FASTA file\n",
    "\n",
    "def print_FASTA_headers(filename):\n",
    "    with open(filename) as file:\n",
    "        for line in file:\n",
    "            if line[0] == '>':\n",
    "                print(line[1:-1])\n",
    "\n",
    "print_FASTA_headers('data/aa010.fasta')"
   ]
  },
  {
   "cell_type": "markdown",
   "metadata": {},
   "source": [
    "#### Filtered Collect\n",
    "* Here, the values for which test is true are collected one at a time.\n",
    "```\n",
    "result = []\n",
    "for item in collection:\n",
    "     if test item:\n",
    "         statements using item\n",
    "         result.append(expression based on the statements)\n",
    "return result\n",
    "```"
   ]
  },
  {
   "cell_type": "code",
   "execution_count": 13,
   "metadata": {},
   "outputs": [
    {
     "name": "stdout",
     "output_type": "stream",
     "text": [
      "MENEIIYIKSADELKRAQNDDLRNVYVHYTLYSGILSPLQTLDKTRLYVFVKNVNDPNLKPKNVNDIKSPSKNHSYKRQRYPCFNTISGSTIHKICNVMKPPPCVRHALKLIDERPMKHRFQQRFVVQTYMSRKYLCESCTDNECLNQILSELYHNEKKCMTQLKHCTNNKIKPYNCSKMQTLGLCNVAVKCSCTNLLSW\n",
      "MPPCSEKTLKDIEEIFLKFRRKKKWEDLIRYLKYKQPKCVKTFNLTGTGHKYHAMWAYNPITDKREKKQISLDVMKIQELHRITNNNSKLYVEIRKIMTDDHRCPCEEIKNYMQQIAEYKNNRSNKVFNTPPTKIVPNALEKILKNFTINLMIDKKPKKKITKSAHTIKHPPVLNIDYEHTLEFAGQTTVKEICKHASLGDTIEIQNRSFDEMVNLYTTCVQCKQMYKIQ\n"
     ]
    }
   ],
   "source": [
    "### Extracting sequences with matching descriptions\n",
    "\n",
    "def extract_matching_sequences(filename, string):\n",
    "    \"\"\"From a FASTA file named filename, extract all sequences whose descriptions contain string\"\"\"\n",
    "    sequences = []\n",
    "    seq = ''\n",
    "    with open(filename) as file:\n",
    "        for line in file:\n",
    "            if line[0] == '>':\n",
    "                if seq:                        # not first time through\n",
    "                    sequences.append(seq)\n",
    "                seq = ''                       # next sequence detected\n",
    "                includeflag = string in line   # flag for later iterations\n",
    "            else:\n",
    "                if includeflag:\n",
    "                    seq += line[:-1]\n",
    "        if seq:                        # last sequence in file is included\n",
    "            sequences.append(seq)\n",
    "    return sequences\n",
    "\n",
    "for seq in extract_matching_sequences('data/aa010.fasta', 'factor'):\n",
    "    print(seq)"
   ]
  },
  {
   "cell_type": "markdown",
   "metadata": {},
   "source": [
    "#### Filtered Combine"
   ]
  },
  {
   "cell_type": "code",
   "execution_count": 15,
   "metadata": {},
   "outputs": [
    {
     "data": {
      "text/plain": [
       "7.0"
      ]
     },
     "execution_count": 15,
     "metadata": {},
     "output_type": "execute_result"
    }
   ],
   "source": [
    "### Filtered Combine: another definition of product\n",
    "\n",
    "def is_number(value):\n",
    "    \"\"\"Return True if value is an int or a float\"\"\"\n",
    "    return isinstance(value, int) or isinstance(value, float)\n",
    "\n",
    "def product(coll):\n",
    "    \"\"\"Return the product of the numeric elements of coll\"\"\"\n",
    "    result = 1.0                         # initialize\n",
    "    for elt in coll:\n",
    "        if is_number(elt):\n",
    "            result = result * float(elt) # combine element with accumulated result\n",
    "    return result\n",
    "\n",
    "product((2, None, 3.5, 'four'))"
   ]
  },
  {
   "cell_type": "markdown",
   "metadata": {},
   "source": [
    "#### Filtered Count\n",
    "```\n",
    "count = 0\n",
    "for item in iterable:\n",
    "    if test item:\n",
    "        count += 1\n",
    "return count\n",
    "```"
   ]
  },
  {
   "cell_type": "markdown",
   "metadata": {},
   "source": [
    "### Nested Iterations\n",
    "```\n",
    "for outer in outer_collection:\n",
    "    for inner in inner_collection:\n",
    "        do something with inner and outer\n",
    "```"
   ]
  },
  {
   "cell_type": "code",
   "execution_count": 16,
   "metadata": {},
   "outputs": [
    {
     "name": "stdout",
     "output_type": "stream",
     "text": [
      "data/nadh.fasta\n",
      "\t gi|6694188|gb|AAF25169.1|AF182341_1 (AF182341) NADH dehydrogenase [Buergersiochloa bambusoides]\n",
      "\t gi|6694190|gb|AAF25170.1|AF182342_1 (AF182342) NADH dehydrogenase [Shibataea kumasaca]\n",
      "\t gi|6694192|gb|AAF25171.1|AF182343_1 (AF182343) NADH dehydrogenase [Sucrea maculata]\n",
      "\t gi|6694194|gb|AAF25172.1|AF182344_1 (AF182344) NADH dehydrogenase [Sasa variegata]\n",
      "\t gi|6694196|gb|AAF25173.1|AF182345_1 (AF182345) NADH dehydrogenase [Puelia olyriformis]\n",
      "\t gi|6694198|gb|AAF25174.1|AF182346_1 (AF182346) NADH dehydrogenase [Yushania exilis]\n",
      "\t gi|6694200|gb|AAF25175.1|AF182347_1 (AF182347) NADH dehydrogenase [Alvimia gracilis]\n",
      "\t gi|6694202|gb|AAF25176.1|AF182348_1 (AF182348) NADH dehydrogenase [Melocanna baccifera]\n",
      "\t gi|6694204|gb|AAF25177.1|AF182349_1 (AF182349) NADH dehydrogenase [Rhipidocladum pittieri]\n",
      "\t gi|6694206|gb|AAF25178.1|AF182350_1 (AF182350) NADH dehydrogenase [Otatea acuminata]\n",
      "\t gi|6694208|gb|AAF25179.1|AF182351_1 (AF182351) NADH dehydrogenase [Hickelia madagascariensis]\n",
      "\t gi|6694210|gb|AAF25180.1|AF182352_1 (AF182352) NADH dehydrogenase [Nastus elatus]\n",
      "\t gi|6694212|gb|AAF25181.1|AF182353_1 (AF182353) NADH dehydrogenase [Eremitis sp. Clark and Zhang 1343]\n",
      "\t gi|6694214|gb|AAF25182.1|AF182354_1 (AF182354) NADH dehydrogenase [Pariana radiciflora]\n",
      "\t gi|6694216|gb|AAF25183.1|AF182355_1 (AF182355) NADH dehydrogenase [Neurolepis aperta]\n",
      "data/aa003.fasta\n",
      "\t gi|6693803|gb|AAF24990.1|AF121349_4 (AF121349) late expression factor 5 [Neodiprion sertifer nucleopolyhedrovirus]\n",
      "\t gi|6693805|gb|AAF24991.1| (AF125506) astacin family metalloendopeptidase FARM-1 [Hydra vulgaris]\n",
      "\t gi|6693816|gb|AAF24994.1|AF129447_1 (AF129447) RpoB [Klebsiella ornithinolytica]\n",
      "data/BacillusSubtilisPlastmidP1414.fasta\n",
      "\t gi|10956512|ref|NC_002075.1| Bacillus subtilis plasmid p1414, complete sequence\n"
     ]
    }
   ],
   "source": [
    "### A nested iteration\n",
    "\n",
    "def list_sequences_in_files(filelist):\n",
    "    \"\"\"For each file whose name is contained in filelist, list the\n",
    "    description of each sequence it contains\"\"\"\n",
    "    for filename in filelist:\n",
    "        print(filename)\n",
    "        with open(filename) as file:\n",
    "            for line in file:\n",
    "                if line[0] == '>':\n",
    "                    print('\\t', line[1:-1])\n",
    "\n",
    "filenames = ('data/nadh.fasta',\n",
    "             'data/aa003.fasta',\n",
    "             'data/BacillusSubtilisPlastmidP1414.fasta'\n",
    "             )\n",
    "list_sequences_in_files(filenames)"
   ]
  },
  {
   "cell_type": "code",
   "execution_count": 17,
   "metadata": {
    "scrolled": false
   },
   "outputs": [
    {
     "name": "stdout",
     "output_type": "stream",
     "text": [
      "data/nadh.fasta\n",
      "\t gi|6694188|gb|AAF25169.1|AF182341_1 (AF182341) NADH dehydrogenase [Buergersiochloa bambusoides]\n",
      "\t gi|6694190|gb|AAF25170.1|AF182342_1 (AF182342) NADH dehydrogenase [Shibataea kumasaca]\n",
      "\t gi|6694192|gb|AAF25171.1|AF182343_1 (AF182343) NADH dehydrogenase [Sucrea maculata]\n",
      "\t gi|6694194|gb|AAF25172.1|AF182344_1 (AF182344) NADH dehydrogenase [Sasa variegata]\n",
      "\t gi|6694196|gb|AAF25173.1|AF182345_1 (AF182345) NADH dehydrogenase [Puelia olyriformis]\n",
      "\t gi|6694198|gb|AAF25174.1|AF182346_1 (AF182346) NADH dehydrogenase [Yushania exilis]\n",
      "\t gi|6694200|gb|AAF25175.1|AF182347_1 (AF182347) NADH dehydrogenase [Alvimia gracilis]\n",
      "\t gi|6694202|gb|AAF25176.1|AF182348_1 (AF182348) NADH dehydrogenase [Melocanna baccifera]\n",
      "\t gi|6694204|gb|AAF25177.1|AF182349_1 (AF182349) NADH dehydrogenase [Rhipidocladum pittieri]\n",
      "\t gi|6694206|gb|AAF25178.1|AF182350_1 (AF182350) NADH dehydrogenase [Otatea acuminata]\n",
      "\t gi|6694208|gb|AAF25179.1|AF182351_1 (AF182351) NADH dehydrogenase [Hickelia madagascariensis]\n",
      "\t gi|6694210|gb|AAF25180.1|AF182352_1 (AF182352) NADH dehydrogenase [Nastus elatus]\n",
      "\t gi|6694212|gb|AAF25181.1|AF182353_1 (AF182353) NADH dehydrogenase [Eremitis sp. Clark and Zhang 1343]\n",
      "\t gi|6694214|gb|AAF25182.1|AF182354_1 (AF182354) NADH dehydrogenase [Pariana radiciflora]\n",
      "\t gi|6694216|gb|AAF25183.1|AF182355_1 (AF182355) NADH dehydrogenase [Neurolepis aperta]\n",
      "data/aa003.fasta\n",
      "\t gi|6693803|gb|AAF24990.1|AF121349_4 (AF121349) late expression factor 5 [Neodiprion sertifer nucleopolyhedrovirus]\n",
      "\t gi|6693805|gb|AAF24991.1| (AF125506) astacin family metalloendopeptidase FARM-1 [Hydra vulgaris]\n",
      "\t gi|6693816|gb|AAF24994.1|AF129447_1 (AF129447) RpoB [Klebsiella ornithinolytica]\n",
      "data/BacillusSubtilisPlastmidP1414.fasta\n",
      "\t gi|10956512|ref|NC_002075.1| Bacillus subtilis plasmid p1414, complete sequence\n"
     ]
    }
   ],
   "source": [
    "### A two-function nested iteration\n",
    "\n",
    "def list_sequences_in_files(filelist):\n",
    "    \"\"\"For each file whose name is contained in filelist, list the\n",
    "    description of each sequence it contains\"\"\"\n",
    "    for filename in filelist:\n",
    "        print(filename)\n",
    "        with open(filename) as file:\n",
    "            list_sequences_in_file(file)\n",
    "\n",
    "def list_sequences_in_file(file):\n",
    "    for line in file:\n",
    "        if line[0] == '>':\n",
    "            print('\\t', line[1:-1])\n",
    "\n",
    "\n",
    "filenames = ('data/nadh.fasta',\n",
    "             'data/aa003.fasta',\n",
    "             'data/BacillusSubtilisPlastmidP1414.fasta'\n",
    "            )\n",
    "list_sequences_in_filesb(filenames)"
   ]
  },
  {
   "cell_type": "code",
   "execution_count": null,
   "metadata": {},
   "outputs": [],
   "source": [
    "### Printing the codon table\n",
    "\n",
    "RNA_codon_table = {\n",
    "#                        Second Base\n",
    "#        U             C             A             G\n",
    "# U\n",
    "    'UUU': 'Phe', 'UCU': 'Ser', 'UAU': 'Tyr', 'UGU': 'Cys',     # UxU\n",
    "    'UUC': 'Phe', 'UCC': 'Ser', 'UAC': 'Tyr', 'UGC': 'Cys',     # UxC\n",
    "    'UUA': 'Leu', 'UCA': 'Ser', 'UAA': '---', 'UGA': '---',     # UxA\n",
    "    'UUG': 'Leu', 'UCG': 'Ser', 'UAG': '---', 'UGG': 'Urp',     # UxG\n",
    "# C\n",
    "    'CUU': 'Leu', 'CCU': 'Pro', 'CAU': 'His', 'CGU': 'Arg',     # CxU\n",
    "    'CUC': 'Leu', 'CCC': 'Pro', 'CAC': 'His', 'CGC': 'Arg',     # CxC\n",
    "    'CUA': 'Leu', 'CCA': 'Pro', 'CAA': 'Gln', 'CGA': 'Arg',     # CxA\n",
    "    'CUG': 'Leu', 'CCG': 'Pro', 'CAG': 'Gln', 'CGG': 'Arg',     # CxG\n",
    "# A\n",
    "    'AUU': 'Ile', 'ACU': 'Thr', 'AAU': 'Asn', 'AGU': 'Ser',     # AxU\n",
    "    'AUC': 'Ile', 'ACC': 'Thr', 'AAC': 'Asn', 'AGC': 'Ser',     # AxC\n",
    "    'AUA': 'Ile', 'ACA': 'Thr', 'AAA': 'Lys', 'AGA': 'Arg',     # AxA\n",
    "    'AUG': 'Met', 'ACG': 'Thr', 'AAG': 'Lys', 'AGG': 'Arg',     # AxG\n",
    "# G\n",
    "    'GUU': 'Val', 'GCU': 'Ala', 'GAU': 'Asp', 'GGU': 'Gly',     # GxU\n",
    "    'GUC': 'Val', 'GCC': 'Ala', 'GAC': 'Asp', 'GGC': 'Gly',     # GxC\n",
    "    'GUA': 'Val', 'GCA': 'Ala', 'GAA': 'Glu', 'GGA': 'Gly',     # GxA\n",
    "    'GUG': 'Val', 'GCG': 'Ala', 'GAG': 'Glu', 'GGG': 'Gly'      # GxG\n",
    "}\n",
    "    \n",
    "    \n",
    "### RNA codon lookup from a dictionary\n",
    "\n",
    "def translate_RNA_codon(codon):\n",
    "    return RNA_codon_table[codon]\n",
    "\n",
    "\n",
    "DNA_bases = ('T', 'C', 'A', 'G')\n",
    "\n",
    "def translate_DNA_codon(codon):\n",
    "    return DNA_codon_table[codon]\n",
    "\n",
    "def print_codon_table():\n",
    "    \"\"\"Print the DNA codon table in a nice, but simple,\n",
    "    arrangement\"\"\"\n",
    "    for base1 in DNA_bases:            # horizontal section (or \"group\")\n",
    "        for base3 in DNA_bases:        # line (or \"row\")\n",
    "            for base2 in DNA_bases:    # vertical section (or \"column\")\n",
    "                # the base2 loop is inside the base3 loop!\n",
    "                print(base1+base2+base3,\n",
    "                      translate_DNA_codon(base1+base2+base3),\n",
    "                      end='  ')\n",
    "            print()\n",
    "        print()\n",
    "\n",
    "def test():\n",
    "    print()\n",
    "    print_codon_table()\n"
   ]
  }
 ],
 "metadata": {
  "kernelspec": {
   "display_name": "Python 3",
   "language": "python",
   "name": "python3"
  },
  "language_info": {
   "codemirror_mode": {
    "name": "ipython",
    "version": 3
   },
   "file_extension": ".py",
   "mimetype": "text/x-python",
   "name": "python",
   "nbconvert_exporter": "python",
   "pygments_lexer": "ipython3",
   "version": "3.6.5"
  }
 },
 "nbformat": 4,
 "nbformat_minor": 2
}
