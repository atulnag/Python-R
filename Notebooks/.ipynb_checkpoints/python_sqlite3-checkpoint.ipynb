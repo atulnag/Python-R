{
 "cells": [
  {
   "cell_type": "markdown",
   "metadata": {},
   "source": [
    "# Python with SQLite"
   ]
  },
  {
   "cell_type": "markdown",
   "metadata": {},
   "source": [
    "* SQLite3 is a very easy to use database engine. \n",
    " * It is self-contained, serverless, zero-configuration and transactional. \n",
    " * It is very fast and lightweight, and the entire database is stored in a single disk file. \n",
    " * It is used in a lot of applications as internal data storage. \n",
    "* The Python Standard Library includes a module called \"sqlite3\" intended for working with this database. This module is a SQL interface compliant with the DB-API 2.0 specification."
   ]
  },
  {
   "cell_type": "markdown",
   "metadata": {},
   "source": [
    "## Using Python's SQLlite Module"
   ]
  },
  {
   "cell_type": "code",
   "execution_count": 1,
   "metadata": {},
   "outputs": [],
   "source": [
    "import sqlite3"
   ]
  },
  {
   "cell_type": "markdown",
   "metadata": {},
   "source": [
    "## Connecting SQLite to the Database\n",
    "The following creates or opens a file called mydb with a SQLite3 DB. "
   ]
  },
  {
   "cell_type": "code",
   "execution_count": 2,
   "metadata": {},
   "outputs": [],
   "source": [
    "db = sqlite3.connect('data/mydb')"
   ]
  },
  {
   "cell_type": "markdown",
   "metadata": {},
   "source": [
    "When done working with the DB we need to close the connection:"
   ]
  },
  {
   "cell_type": "code",
   "execution_count": 3,
   "metadata": {},
   "outputs": [],
   "source": [
    "db.close()"
   ]
  },
  {
   "cell_type": "markdown",
   "metadata": {},
   "source": [
    "## Creating (CREATE) and Deleting (DROP) Tables\n",
    "* To operate on the database we require a cursor object and pass the SQL statments to the cursor object to execute them.\n",
    "* Finally, it is neessary to commit the changes.\n",
    "* We will create a `users` table with `name, phone, email and password` columns"
   ]
  },
  {
   "cell_type": "code",
   "execution_count": 12,
   "metadata": {},
   "outputs": [],
   "source": [
    "cursor = db.cursor()\n",
    "cursor.execute('''\n",
    "               CREATE TABLE users(\n",
    "               id INTEGER PRIMARY KEY, \n",
    "               name TEXT,\n",
    "               phone TEXT,\n",
    "               email TEXT unique,\n",
    "               password TEXT)\n",
    "               ''')\n",
    "db.commit()"
   ]
  },
  {
   "cell_type": "markdown",
   "metadata": {},
   "source": [
    "To drop a table:"
   ]
  },
  {
   "cell_type": "code",
   "execution_count": 11,
   "metadata": {},
   "outputs": [],
   "source": [
    "cursor = db.cursor()\n",
    "cursor.execute('''DROP TABLE users''')\n",
    "db.commit()"
   ]
  },
  {
   "cell_type": "markdown",
   "metadata": {},
   "source": [
    "Please note that the commit function is invoked on the db object, not the cursor object."
   ]
  },
  {
   "cell_type": "markdown",
   "metadata": {},
   "source": [
    "## Inserting (INSERT) Data into the Database\n",
    "* To insert data we use the cursor to execute the query. If you need values from Python variables it is recommended to use the \"?\" placeholder. \n",
    "* Never use string operations or concatenation to make your queries because is very insecure. \n",
    "* In this example we are going to insert two users in the database, their information is stored in python variables."
   ]
  },
  {
   "cell_type": "code",
   "execution_count": 13,
   "metadata": {},
   "outputs": [
    {
     "name": "stdout",
     "output_type": "stream",
     "text": [
      "First user inserted\n"
     ]
    }
   ],
   "source": [
    "cursor = db.cursor()\n",
    "name1 = \"Atul\"\n",
    "phone1 = \"9338703277\"\n",
    "email1 = \"anag@suiit.ac.in\"\n",
    "password1 = \"12345\"\n",
    "\n",
    "name2 = \"Nag\"\n",
    "phone2 = \"7078711408\"\n",
    "email2 = \"nag.atul@gmail.com\"\n",
    "password2 = \"78910\"\n",
    "\n",
    "name3 = \"PythonNewbie\"\n",
    "phone3 = \"123456\"\n",
    "email3 = \"my@mydomain.com\"\n",
    "password3 = \"123456\"\n",
    "\n",
    "cursor.execute('''INSERT INTO users(name, phone, email, password)\n",
    "                  VALUES(?,?,?,?)''',(name1, phone1, email1, password1))\n",
    "print('First user inserted')\n",
    "db.commit()"
   ]
  },
  {
   "cell_type": "markdown",
   "metadata": {},
   "source": [
    "The values of the Python variables are passed inside a tuple. Another way to do this is passing a dictionary using the `\":keyname\"` placeholder:"
   ]
  },
  {
   "cell_type": "code",
   "execution_count": null,
   "metadata": {},
   "outputs": [],
   "source": [
    "cursor.execute('''INSERT INTO users(name, phone, email, password)\n",
    "                  VALUES(:name,:phone, :email, :password)''',\n",
    "                  {'name':name2, 'phone':phone2,'email':email2,\n",
    "                   'password':password2})"
   ]
  }
 ],
 "metadata": {
  "kernelspec": {
   "display_name": "Python 3",
   "language": "python",
   "name": "python3"
  },
  "language_info": {
   "codemirror_mode": {
    "name": "ipython",
    "version": 3
   },
   "file_extension": ".py",
   "mimetype": "text/x-python",
   "name": "python",
   "nbconvert_exporter": "python",
   "pygments_lexer": "ipython3",
   "version": "3.6.5"
  }
 },
 "nbformat": 4,
 "nbformat_minor": 2
}
