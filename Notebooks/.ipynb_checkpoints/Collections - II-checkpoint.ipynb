{
 "cells": [
  {
   "cell_type": "markdown",
   "metadata": {},
   "source": [
    "# Python Collections (Mappings & Streams)"
   ]
  },
  {
   "cell_type": "markdown",
   "metadata": {},
   "source": [
    "## Mappings\n",
    "* A mapping is a mutable unordered collection of key/value pairs.\n",
    "* Data structures implementing mappings, including *associative arrays*, *lookup tables*, and *hash tables*.\n",
    "<img src=\"images/dict.png\">\n",
    "***\n",
    "### Dictionaries\n",
    "* There is just one mapping type in Python: `dict`, for *\"dictionary\"*.\n",
    "* `dict` can be called with a collection argument to create a dictionary with the elements of the argument.\n",
    "* The elements must be tuples or lists of two elements - a key and a value:"
   ]
  },
  {
   "cell_type": "code",
   "execution_count": 2,
   "metadata": {},
   "outputs": [
    {
     "data": {
      "text/plain": [
       "{'A': 'adenine', 'T': 'thymine', 'C': 'cytosine', 'G': 'guanine'}"
      ]
     },
     "execution_count": 2,
     "metadata": {},
     "output_type": "execute_result"
    }
   ],
   "source": [
    "dict((('A','adenine'),('T', 'thymine'), ('C','cytosine'),('G','guanine')))"
   ]
  },
  {
   "cell_type": "markdown",
   "metadata": {},
   "source": [
    "* Dictionaries can also be written as a comma-separated list of key/value pairs enclosed in curly braces, with each key and value separated by a colon.\n",
    "* Empty braces create an empty dictionary.\n",
    "* The order within the braces doesn’t matter, since the dictionary implementation imposes its own order."
   ]
  },
  {
   "cell_type": "code",
   "execution_count": 3,
   "metadata": {},
   "outputs": [
    {
     "data": {
      "text/plain": [
       "{'A': 'adenine', 'C': 'cytosine', 'G': 'guanine', 'T': 'thymine'}"
      ]
     },
     "execution_count": 3,
     "metadata": {},
     "output_type": "execute_result"
    }
   ],
   "source": [
    "{'A': 'adenine', 'C': 'cytosine', 'G': 'guanine', 'T': 'thymine'}"
   ]
  },
  {
   "cell_type": "markdown",
   "metadata": {},
   "source": [
    "* The keys of a mapping must be unique within the collection.\n",
    "* `dict` does not allow keys to be instances of mutable built-in types."
   ]
  },
  {
   "cell_type": "markdown",
   "metadata": {},
   "source": [
    "### Dictionary example: RNA codon translation table"
   ]
  },
  {
   "cell_type": "code",
   "execution_count": 10,
   "metadata": {},
   "outputs": [],
   "source": [
    "RNA_codon_table = {\n",
    "#                        Second Base\n",
    "#        U             C             A             G\n",
    "# U\n",
    "    'UUU': 'Phe', 'UCU': 'Ser', 'UAU': 'Tyr', 'UGU': 'Cys',     # UxU\n",
    "    'UUC': 'Phe', 'UCC': 'Ser', 'UAC': 'Tyr', 'UGC': 'Cys',     # UxC\n",
    "    'UUA': 'Leu', 'UCA': 'Ser', 'UAA': '---', 'UGA': '---',     # UxA\n",
    "    'UUG': 'Leu', 'UCG': 'Ser', 'UAG': '---', 'UGG': 'Urp',     # UxG\n",
    "# C\n",
    "    'CUU': 'Leu', 'CCU': 'Pro', 'CAU': 'His', 'CGU': 'Arg',     # CxU\n",
    "    'CUC': 'Leu', 'CCC': 'Pro', 'CAC': 'His', 'CGC': 'Arg',     # CxC\n",
    "    'CUA': 'Leu', 'CCA': 'Pro', 'CAA': 'Gln', 'CGA': 'Arg',     # CxA\n",
    "    'CUG': 'Leu', 'CCG': 'Pro', 'CAG': 'Gln', 'CGG': 'Arg',     # CxG\n",
    "# A\n",
    "    'AUU': 'Ile', 'ACU': 'Thr', 'AAU': 'Asn', 'AGU': 'Ser',     # AxU\n",
    "    'AUC': 'Ile', 'ACC': 'Thr', 'AAC': 'Asn', 'AGC': 'Ser',     # AxC\n",
    "    'AUA': 'Ile', 'ACA': 'Thr', 'AAA': 'Lys', 'AGA': 'Arg',     # AxA\n",
    "    'AUG': 'Met', 'ACG': 'Thr', 'AAG': 'Lys', 'AGG': 'Arg',     # AxG\n",
    "# G\n",
    "    'GUU': 'Val', 'GCU': 'Ala', 'GAU': 'Asp', 'GGU': 'Gly',     # GxU\n",
    "    'GUC': 'Val', 'GCC': 'Ala', 'GAC': 'Asp', 'GGC': 'Gly',     # GxC\n",
    "    'GUA': 'Val', 'GCA': 'Ala', 'GAA': 'Glu', 'GGA': 'Gly',     # GxA\n",
    "    'GUG': 'Val', 'GCG': 'Ala', 'GAG': 'Glu', 'GGG': 'Gly'      # GxG\n",
    "}\n"
   ]
  },
  {
   "cell_type": "code",
   "execution_count": 11,
   "metadata": {},
   "outputs": [],
   "source": [
    "def translate_RNA_codon(codon):\n",
    "    \"\"\"RNA codon lookup from a dictionary\"\"\"\n",
    "    return RNA_codon_table[codon]\n"
   ]
  },
  {
   "cell_type": "code",
   "execution_count": 12,
   "metadata": {},
   "outputs": [
    {
     "data": {
      "text/plain": [
       "'Val'"
      ]
     },
     "execution_count": 12,
     "metadata": {},
     "output_type": "execute_result"
    }
   ],
   "source": [
    "translate_RNA_codon('GUG')"
   ]
  },
  {
   "cell_type": "code",
   "execution_count": 7,
   "metadata": {},
   "outputs": [
    {
     "data": {
      "text/plain": [
       "{'UUU': 'Phe',\n",
       " 'UCU': 'Ser',\n",
       " 'UAU': 'Tyr',\n",
       " 'UGU': 'Cys',\n",
       " 'UUC': 'Phe',\n",
       " 'UCC': 'Ser',\n",
       " 'UAC': 'Tyr',\n",
       " 'UGC': 'Cys',\n",
       " 'UUA': 'Leu',\n",
       " 'UCA': 'Ser',\n",
       " 'UAA': '---',\n",
       " 'UGA': '---',\n",
       " 'UUG': 'Leu',\n",
       " 'UCG': 'Ser',\n",
       " 'UAG': '---',\n",
       " 'UGG': 'Urp',\n",
       " 'CUU': 'Leu',\n",
       " 'CCU': 'Pro',\n",
       " 'CAU': 'His',\n",
       " 'CGU': 'Arg',\n",
       " 'CUC': 'Leu',\n",
       " 'CCC': 'Pro',\n",
       " 'CAC': 'His',\n",
       " 'CGC': 'Arg',\n",
       " 'CUA': 'Leu',\n",
       " 'CCA': 'Pro',\n",
       " 'CAA': 'Gln',\n",
       " 'CGA': 'Arg',\n",
       " 'CUG': 'Leu',\n",
       " 'CCG': 'Pro',\n",
       " 'CAG': 'Gln',\n",
       " 'CGG': 'Arg',\n",
       " 'AUU': 'Ile',\n",
       " 'ACU': 'Thr',\n",
       " 'AAU': 'Asn',\n",
       " 'AGU': 'Ser',\n",
       " 'AUC': 'Ile',\n",
       " 'ACC': 'Thr',\n",
       " 'AAC': 'Asn',\n",
       " 'AGC': 'Ser',\n",
       " 'AUA': 'Ile',\n",
       " 'ACA': 'Thr',\n",
       " 'AAA': 'Lys',\n",
       " 'AGA': 'Arg',\n",
       " 'AUG': 'Met',\n",
       " 'ACG': 'Thr',\n",
       " 'AAG': 'Lys',\n",
       " 'AGG': 'Arg',\n",
       " 'GUU': 'Val',\n",
       " 'GCU': 'Ala',\n",
       " 'GAU': 'Asp',\n",
       " 'GGU': 'Gly',\n",
       " 'GUC': 'Val',\n",
       " 'GCC': 'Ala',\n",
       " 'GAC': 'Asp',\n",
       " 'GGC': 'Gly',\n",
       " 'GUA': 'Val',\n",
       " 'GCA': 'Ala',\n",
       " 'GAA': 'Glu',\n",
       " 'GGA': 'Gly',\n",
       " 'GUG': 'Val',\n",
       " 'GCG': 'Ala',\n",
       " 'GAG': 'Glu',\n",
       " 'GGG': 'Gly'}"
      ]
     },
     "execution_count": 7,
     "metadata": {},
     "output_type": "execute_result"
    }
   ],
   "source": [
    "RNA_codon_table"
   ]
  },
  {
   "cell_type": "markdown",
   "metadata": {},
   "source": [
    "* To obtain a function that will help you see the structure of your data, you should include the following line in your Python files:"
   ]
  },
  {
   "cell_type": "code",
   "execution_count": 8,
   "metadata": {},
   "outputs": [],
   "source": [
    "from pprint import pprint as pp"
   ]
  },
  {
   "cell_type": "code",
   "execution_count": 9,
   "metadata": {},
   "outputs": [
    {
     "name": "stdout",
     "output_type": "stream",
     "text": [
      "{'AAA': 'Lys',\n",
      " 'AAC': 'Asn',\n",
      " 'AAG': 'Lys',\n",
      " 'AAU': 'Asn',\n",
      " 'ACA': 'Thr',\n",
      " 'ACC': 'Thr',\n",
      " 'ACG': 'Thr',\n",
      " 'ACU': 'Thr',\n",
      " 'AGA': 'Arg',\n",
      " 'AGC': 'Ser',\n",
      " 'AGG': 'Arg',\n",
      " 'AGU': 'Ser',\n",
      " 'AUA': 'Ile',\n",
      " 'AUC': 'Ile',\n",
      " 'AUG': 'Met',\n",
      " 'AUU': 'Ile',\n",
      " 'CAA': 'Gln',\n",
      " 'CAC': 'His',\n",
      " 'CAG': 'Gln',\n",
      " 'CAU': 'His',\n",
      " 'CCA': 'Pro',\n",
      " 'CCC': 'Pro',\n",
      " 'CCG': 'Pro',\n",
      " 'CCU': 'Pro',\n",
      " 'CGA': 'Arg',\n",
      " 'CGC': 'Arg',\n",
      " 'CGG': 'Arg',\n",
      " 'CGU': 'Arg',\n",
      " 'CUA': 'Leu',\n",
      " 'CUC': 'Leu',\n",
      " 'CUG': 'Leu',\n",
      " 'CUU': 'Leu',\n",
      " 'GAA': 'Glu',\n",
      " 'GAC': 'Asp',\n",
      " 'GAG': 'Glu',\n",
      " 'GAU': 'Asp',\n",
      " 'GCA': 'Ala',\n",
      " 'GCC': 'Ala',\n",
      " 'GCG': 'Ala',\n",
      " 'GCU': 'Ala',\n",
      " 'GGA': 'Gly',\n",
      " 'GGC': 'Gly',\n",
      " 'GGG': 'Gly',\n",
      " 'GGU': 'Gly',\n",
      " 'GUA': 'Val',\n",
      " 'GUC': 'Val',\n",
      " 'GUG': 'Val',\n",
      " 'GUU': 'Val',\n",
      " 'UAA': '---',\n",
      " 'UAC': 'Tyr',\n",
      " 'UAG': '---',\n",
      " 'UAU': 'Tyr',\n",
      " 'UCA': 'Ser',\n",
      " 'UCC': 'Ser',\n",
      " 'UCG': 'Ser',\n",
      " 'UCU': 'Ser',\n",
      " 'UGA': '---',\n",
      " 'UGC': 'Cys',\n",
      " 'UGG': 'Urp',\n",
      " 'UGU': 'Cys',\n",
      " 'UUA': 'Leu',\n",
      " 'UUC': 'Phe',\n",
      " 'UUG': 'Leu',\n",
      " 'UUU': 'Phe'}\n"
     ]
    }
   ],
   "source": [
    "pp(RNA_codon_table)"
   ]
  },
  {
   "cell_type": "markdown",
   "metadata": {},
   "source": [
    "<img src=\"images/dictop.png\" ><br>\n",
    "<img src=\"images/dictm.png\">"
   ]
  },
  {
   "cell_type": "markdown",
   "metadata": {},
   "source": [
    "* Last three methods return \"sequence-like objects\": they aren't sequences, but they can be used as if they were in many contexts."
   ]
  },
  {
   "cell_type": "code",
   "execution_count": 10,
   "metadata": {},
   "outputs": [
    {
     "data": {
      "text/plain": [
       "['UUU',\n",
       " 'UCU',\n",
       " 'UAU',\n",
       " 'UGU',\n",
       " 'UUC',\n",
       " 'UCC',\n",
       " 'UAC',\n",
       " 'UGC',\n",
       " 'UUA',\n",
       " 'UCA',\n",
       " 'UAA',\n",
       " 'UGA',\n",
       " 'UUG',\n",
       " 'UCG',\n",
       " 'UAG',\n",
       " 'UGG',\n",
       " 'CUU',\n",
       " 'CCU',\n",
       " 'CAU',\n",
       " 'CGU',\n",
       " 'CUC',\n",
       " 'CCC',\n",
       " 'CAC',\n",
       " 'CGC',\n",
       " 'CUA',\n",
       " 'CCA',\n",
       " 'CAA',\n",
       " 'CGA',\n",
       " 'CUG',\n",
       " 'CCG',\n",
       " 'CAG',\n",
       " 'CGG',\n",
       " 'AUU',\n",
       " 'ACU',\n",
       " 'AAU',\n",
       " 'AGU',\n",
       " 'AUC',\n",
       " 'ACC',\n",
       " 'AAC',\n",
       " 'AGC',\n",
       " 'AUA',\n",
       " 'ACA',\n",
       " 'AAA',\n",
       " 'AGA',\n",
       " 'AUG',\n",
       " 'ACG',\n",
       " 'AAG',\n",
       " 'AGG',\n",
       " 'GUU',\n",
       " 'GCU',\n",
       " 'GAU',\n",
       " 'GGU',\n",
       " 'GUC',\n",
       " 'GCC',\n",
       " 'GAC',\n",
       " 'GGC',\n",
       " 'GUA',\n",
       " 'GCA',\n",
       " 'GAA',\n",
       " 'GGA',\n",
       " 'GUG',\n",
       " 'GCG',\n",
       " 'GAG',\n",
       " 'GGG']"
      ]
     },
     "execution_count": 10,
     "metadata": {},
     "output_type": "execute_result"
    }
   ],
   "source": [
    "list(RNA_codon_table.keys())"
   ]
  },
  {
   "cell_type": "markdown",
   "metadata": {},
   "source": [
    "## Streams"
   ]
  },
  {
   "cell_type": "markdown",
   "metadata": {},
   "source": [
    "* A stream is a temporally ordered sequence of indefinite length, usually limited to one type of element.\n",
    "* Each stream has two ends: a source that provides the elements and a sink that absorbs the elements.\n",
    "* The more common kinds of stream sources are files, network connections, and the output of a kind of function called a `generator`. \n",
    "* Files and network sources are also common kinds of sinks.\n",
    "***\n",
    "### Files\n",
    "* A Python file is an object that is an `interface` to an external file, not the file itself.\n",
    "* File objects provide methods for reading, writing, and managing their instances.\n",
    "* Depending on a parameter supplied when an instance is created, the elements of the file object are either bytes or Unicode characters. \n",
    "* Some methods treat files as streams of bytes or characters, and other methods treat them as streams of lines of bytes or characters.\n",
    "* Most of the time a file object is a one-way sequence: it can either be read from or written to. \n",
    "* It is possible to create a file object that is a two-way stream, though it would be more accurate to say it is a pair of streams—one for reading and one for writing—that just happen to connect to the same external file. \n",
    "* Normally when a file object is created, if there was already a file with the same path that file is emptied. \n",
    "* File objects can be created to append instead, though, so that data is written to the end of an existing file.\n",
    "#### Working with file objects\n",
    "* built-in function `open(path, mode)` creates a file object representing the external file at the operating system location specified by the string path.\n",
    "* The default use is reading, and the default interpretation is text.\n",
    "***\n",
    "<img src=\"images/fileopen.png\">\n",
    "* call the method `close()` to close a file object when it’s no longer needed\n",
    "* The `with` statement is used to open and name a file, then automatically close the file regardless of whether an error occurs during the execution of its statements.\n",
    "> `with open(path, mode) as name:`\n",
    ">     `statements using name`\n",
    "* More than one file can be opened with the same with statement, as when reading from one and writing to the other.\n",
    "> `with open(path1, mode1) as name1, open(path2, mode2) as name2, ... :`\n",
    ">     `statements using names`\n",
    "\n",
    "#### File reading\n",
    "* `fileobj.read([count])` - Reads count bytes, or until the end of the file, whichever comes first; if count is omitted, reads everything until the end of the file. If at the end of the file, returns an empty string. This method treats the file as an input stream of characters.\n",
    "* `fileobj.readline([count])` - Reads one line from the file object and returns the entire line, including the end-of-line character; if count is present, reads at most count characters. If at the end of the file, returns an empty string. This method treats the file as an input stream of lines.\n",
    "* `fileobj.readlines()` - Reads lines of a file object until the end of the file is reached and returns them as a list of strings; this method treats the file as an input stream of lines.\n",
    "***\n",
    "#### File Writing\n",
    "* `fileobj.write(string)` - Writes string to fileobj , treating it as an output stream of characters.\n",
    "* `fileobj.writelines(sequence)` - Writes each element of sequence , which must all be strings, to fileobj, treating it as an output stream of lines."
   ]
  },
  {
   "cell_type": "code",
   "execution_count": 1,
   "metadata": {},
   "outputs": [],
   "source": [
    "def read_FASTA_strings(filename):\n",
    "    \"\"\"Read FASTA sequence from a file\"\"\"\n",
    "    with open(filename) as file:\n",
    "        return file.read().split('>')[1:]"
   ]
  },
  {
   "cell_type": "code",
   "execution_count": 2,
   "metadata": {},
   "outputs": [],
   "source": [
    "seqs = read_FASTA_strings(\"data/aa003.fasta\")"
   ]
  },
  {
   "cell_type": "code",
   "execution_count": 3,
   "metadata": {},
   "outputs": [
    {
     "data": {
      "text/plain": [
       "['gi|6693803|gb|AAF24990.1|AF121349_4 (AF121349) late expression factor 5 [Neodiprion sertifer nucleopolyhedrovirus]\\nMPPCSEKTLKDIEEIFLKFRRKKKWEDLIRYLKYKQPKCVKTFNLTGTGHKYHAMWAYNPITDKREKKQISLDVMKIQEL\\nHRITNNNSKLYVEIRKIMTDDHRCPCEEIKNYMQQIAEYKNNRSNKVFNTPPTKIVPNALEKILKNFTINLMIDKKPKKK\\nITKSAHTIKHPPVLNIDYEHTLEFAGQTTVKEICKHASLGDTIEIQNRSFDEMVNLYTTCVQCKQMYKIQ\\n',\n",
       " 'gi|6693805|gb|AAF24991.1| (AF125506) astacin family metalloendopeptidase FARM-1 [Hydra vulgaris]\\nMSSSNHIHVLRAIDEYHKHTCLKFVKRTNQDAYLSFYPGGGCSSLVGYVRGRINDVSLAGGCLRLGTVMHEIGHSIGLYH\\nEQSRPDRDDHVTIIWNNIQSNMRFNFDKFDRNKINSLGFPYDYESMMHYESNAFGGGQVTIRTKDPSKQKLIGNRQGFSE\\nIDKQQINAMYNCNRGGSTLPPSVPPTVSPVAQCVEGQDLDNRCLGWATSGYCTATDPAHLETMKKKCCKSCKESAICNDK\\nNTRCDEWAKKGECKANPNWMLGNCSKSCLVC\\n',\n",
       " 'gi|6693816|gb|AAF24994.1|AF129447_1 (AF129447) RpoB [Klebsiella ornithinolytica]\\nAAVKEFFGSSQLSQFMDQNNPLSEITHKRRISALGPGGLTRERAGFEVRDVHPTHYGRVCPIETPEGPNIGLINSLSVYA\\nQTNEYGFLETPYRKVTDGVVTDEIHYLSAIEEGNYVIAQANSNLDDEGHFVEDLVTCRSKGESSLFSRDQVDYMDVSTQQ\\nVVSVGGSSERVL\\n']"
      ]
     },
     "execution_count": 3,
     "metadata": {},
     "output_type": "execute_result"
    }
   ],
   "source": [
    "seqs"
   ]
  },
  {
   "cell_type": "markdown",
   "metadata": {},
   "source": [
    "* Problems with output:\n",
    " - the description line preceding each sequence is part of the sequence string\n",
    " - the string contains internal newline characters."
   ]
  },
  {
   "cell_type": "markdown",
   "metadata": {},
   "source": [
    "### Generators"
   ]
  },
  {
   "cell_type": "markdown",
   "metadata": {},
   "source": [
    "<img src=\"images/gen1.png\">\n",
    "* A generator is an object that returns values from a series it computes. eg. `random.randint`\n",
    "* Advantages of generators:\n",
    " * A generator can produce an infinitely large series of values, as in the case of `random.randint`\n",
    " * A generator can encapsulate significant computation with the caller requesting values until it finds one that meets some condition\n",
    " * A generator can take the place of a list when the list is so long and/or its values are so large that creating the entire list before processing its elements would use enormous amounts of memory.\n",
    "* A value is obtained from a generator by calling the built-in function `next` with the generator object as its argument. \n",
    "* The function that produced the generator object resumes its execution until a `yield` statement is encountered. The value of the `yield` is returned as the value of `next`.\n",
    "* The values of parameters and names assigned in the function are retained between calls.\n",
    "> `next(generator[, default])` - Gets the next value from the generator object; if the generator has no more values to produce, returns `default`, raising an error if no default value was specified."
   ]
  },
  {
   "cell_type": "code",
   "execution_count": 1,
   "metadata": {},
   "outputs": [],
   "source": [
    "def genTest():\n",
    "    yield 1\n",
    "    yield 2"
   ]
  },
  {
   "cell_type": "code",
   "execution_count": 2,
   "metadata": {},
   "outputs": [
    {
     "data": {
      "text/plain": [
       "<generator object genTest at 0x7fc5d862e5c8>"
      ]
     },
     "execution_count": 2,
     "metadata": {},
     "output_type": "execute_result"
    }
   ],
   "source": [
    "genTest()"
   ]
  },
  {
   "cell_type": "code",
   "execution_count": 7,
   "metadata": {},
   "outputs": [],
   "source": [
    "foo = genTest()"
   ]
  },
  {
   "cell_type": "code",
   "execution_count": 8,
   "metadata": {},
   "outputs": [
    {
     "data": {
      "text/plain": [
       "1"
      ]
     },
     "execution_count": 8,
     "metadata": {},
     "output_type": "execute_result"
    }
   ],
   "source": [
    "foo.__next__()"
   ]
  },
  {
   "cell_type": "code",
   "execution_count": 9,
   "metadata": {},
   "outputs": [
    {
     "name": "stdout",
     "output_type": "stream",
     "text": [
      "1\n",
      "2\n"
     ]
    }
   ],
   "source": [
    "for n in genTest():\n",
    "    print(n)"
   ]
  },
  {
   "cell_type": "code",
   "execution_count": 11,
   "metadata": {},
   "outputs": [],
   "source": [
    "def genFib():\n",
    "    fibn_1 = 1  # fib(n - 1)\n",
    "    fibn_2 = 0  # fib(n - 2)\n",
    "    while True:\n",
    "        next = fibn_1 + fibn_2 # fib(n) = fib(n - 1) + fib(n - 2)\n",
    "        yield next\n",
    "        fibn_2 = fibn_1\n",
    "        fibn_1 = next"
   ]
  },
  {
   "cell_type": "code",
   "execution_count": 13,
   "metadata": {},
   "outputs": [
    {
     "name": "stdout",
     "output_type": "stream",
     "text": [
      "1\n",
      "2\n",
      "3\n",
      "5\n",
      "8\n",
      "13\n",
      "21\n",
      "34\n",
      "55\n",
      "89\n"
     ]
    }
   ],
   "source": [
    "fib = genFib()\n",
    "for i in range(10):\n",
    "    print(fib.__next__())"
   ]
  },
  {
   "cell_type": "markdown",
   "metadata": {},
   "source": [
    "## Comprehensions"
   ]
  },
  {
   "cell_type": "markdown",
   "metadata": {},
   "source": [
    "* A *comprehension* creates a set, list, or dictionary from the results of evaluating an expression for each element of another collection.\n",
    "* Each kind of comprehension is written surrounded by the characters used to surround the corresponding type of collection value: brackets for lists, and braces for sets and dictionaries."
   ]
  },
  {
   "cell_type": "markdown",
   "metadata": {},
   "source": [
    "### List comprehensions\n",
    "The simplest form of list comprehension is:\n",
    "`[expression for item in collection]`"
   ]
  },
  {
   "cell_type": "code",
   "execution_count": null,
   "metadata": {},
   "outputs": [],
   "source": [
    "def validate_base_sequence(base_sequence, RNAflag = False):\n",
    "    valid_bases = 'UCAG' if RNAflag else 'TCAG'\n",
    "    return all([(base in valid_bases)\n",
    "                for base in base_sequence.upper()])"
   ]
  },
  {
   "cell_type": "code",
   "execution_count": 4,
   "metadata": {},
   "outputs": [],
   "source": [
    "from random import randint\n",
    "\n",
    "def random_base(RNAflag = False):\n",
    "    return ('UCAG' if RNAflag else 'TCAG')[randint(0,3)]\n",
    "\n",
    "def random_codon(RNAflag = False):\n",
    "    return random_base(RNAflag) + random_base(RNAflag) + random_base(RNAflag)\n",
    "\n",
    "def random_codons(minlength = 3, maxlength = 10, RNAflag = False):\n",
    "    \"\"\"Generate a random list of codons (RNA if RNAflag, else DNA)\n",
    "    between minlength and maxlength, inclusive\"\"\"\n",
    "    return [random_codon(RNAflag)\n",
    "            for n in range(randint(minlength, maxlength))]"
   ]
  },
  {
   "cell_type": "code",
   "execution_count": 5,
   "metadata": {},
   "outputs": [],
   "source": [
    "minlength = 3\n",
    "maxlength = 10\n",
    "RNAflag = True"
   ]
  },
  {
   "cell_type": "code",
   "execution_count": 7,
   "metadata": {},
   "outputs": [
    {
     "data": {
      "text/plain": [
       "4"
      ]
     },
     "execution_count": 7,
     "metadata": {},
     "output_type": "execute_result"
    }
   ],
   "source": [
    "randnum = randint(minlength, maxlength)\n",
    "randnum"
   ]
  },
  {
   "cell_type": "code",
   "execution_count": 8,
   "metadata": {},
   "outputs": [
    {
     "data": {
      "text/plain": [
       "[0, 1, 2, 3]"
      ]
     },
     "execution_count": 8,
     "metadata": {},
     "output_type": "execute_result"
    }
   ],
   "source": [
    "[n for n in range(randnum)]"
   ]
  },
  {
   "cell_type": "code",
   "execution_count": 9,
   "metadata": {},
   "outputs": [
    {
     "data": {
      "text/plain": [
       "['CGC', 'CGG', 'UCC', 'GUC']"
      ]
     },
     "execution_count": 9,
     "metadata": {},
     "output_type": "execute_result"
    }
   ],
   "source": [
    "[random_codon(RNAflag) for n in range(randnum)]"
   ]
  },
  {
   "cell_type": "code",
   "execution_count": 13,
   "metadata": {},
   "outputs": [],
   "source": [
    "def random_codons_translation(minlength = 3, maxlength = 10):\n",
    "    \"\"\"Generate a random list of codons between minlength and\n",
    "    maxlength, inclusive\"\"\"\n",
    "    return [translate_RNA_codon(codon) for codon in\n",
    "            random_codons(minlength, maxlength, True)]\n",
    "    "
   ]
  },
  {
   "cell_type": "code",
   "execution_count": 14,
   "metadata": {},
   "outputs": [
    {
     "data": {
      "text/plain": [
       "['Glu', 'Pro', 'Ser', 'Asp', 'Thr', '---', 'Thr', 'Ser', 'His', 'His']"
      ]
     },
     "execution_count": 14,
     "metadata": {},
     "output_type": "execute_result"
    }
   ],
   "source": [
    "random_codons_translation()"
   ]
  },
  {
   "cell_type": "code",
   "execution_count": 15,
   "metadata": {},
   "outputs": [
    {
     "name": "stdout",
     "output_type": "stream",
     "text": [
      "\n",
      "C\n",
      "G\n",
      "C\n",
      "C\n",
      "\n",
      "G\n",
      "U\n",
      "A\n",
      "G\n",
      "\n",
      "GGT\n",
      "TGT\n",
      "ACA\n",
      "\n",
      "['TCA', 'TCG', 'TAG', 'CCT', 'TCT', 'AGC', 'CTC', 'TGG', 'GGC']\n",
      "['TAA', 'CTA', 'ATG', 'ATG', 'TAA', 'AGA', 'ATG', 'TCT', 'TTC', 'CGG']\n",
      "['CCA', 'AAC', 'GAC', 'TCC', 'GGT', 'AGC', 'AGA', 'TGG', 'TGC']\n",
      "['TTT', 'ATG', 'GGC', 'CAG']\n",
      "\n",
      "['AGA', 'ACT', 'TAG', 'ACG', 'GTT', 'GCG', 'CCT', 'ATT', 'TAA', 'AAC']\n",
      "['TAG', 'TCC', 'TAA', 'TGC', 'GAA', 'ATG']\n",
      "\n",
      "['CAA', 'GAA', 'CCG', 'AGU', 'UUA', 'GAC', 'CGU', 'GAC']\n",
      "['UGG', 'AUG', 'UAC', 'AGU', 'GAC', 'GGC', 'CUC', 'UGG', 'CAG', 'ACU']\n",
      "\n",
      "['Arg', 'Ile', 'Asn', 'Ala', 'Ile', 'Leu', 'Ser']\n",
      "['Leu', '---', 'Asn', 'Thr', '---', '---', 'Cys', 'Pro', 'Pro']\n",
      "\n",
      "['Ser', 'Ile', 'Cys', 'Ala', 'Thr', 'Val', 'Gly', 'Asp', 'Ser', 'Arg', 'Ala']\n",
      "['Val', 'Urp', 'Thr', 'His', 'Arg', 'Thr', 'Ile', 'Phe']\n"
     ]
    }
   ],
   "source": [
    "def test():\n",
    "    print()\n",
    "    print(random_base())\n",
    "    print(random_base())\n",
    "    print(random_base(False))\n",
    "    print(random_base(False))\n",
    "    print()\n",
    "    print(random_base(True))\n",
    "    print(random_base(True))\n",
    "    print(random_base(True))\n",
    "    print(random_base(True))\n",
    "    print()\n",
    "    print(random_codon())\n",
    "    print(random_codon(False))\n",
    "    print(random_codon(True))\n",
    "    print()\n",
    "    print(random_codons())\n",
    "    print(random_codons())\n",
    "    print(random_codons())\n",
    "    print(random_codons())\n",
    "    print()\n",
    "    print(random_codons(6))\n",
    "    print(random_codons(6, 15))\n",
    "    print()\n",
    "    print(random_codons(RNAflag = True))\n",
    "    print(random_codons(RNAflag = True))\n",
    "    print()\n",
    "    print(random_codons_translation())\n",
    "    print(random_codons_translation(5))\n",
    "    print()\n",
    "    print(random_codons_translation(8, 12))\n",
    "    print(random_codons_translation(8, 12))\n",
    "test()"
   ]
  },
  {
   "cell_type": "markdown",
   "metadata": {},
   "source": [
    "#### Revisit FASTA reader"
   ]
  },
  {
   "cell_type": "code",
   "execution_count": null,
   "metadata": {},
   "outputs": [],
   "source": [
    "def read_FASTA_entries(filename):\n",
    "    return [seq.partition('\\n') for seq in read_FASTA_strings(filename)]"
   ]
  },
  {
   "cell_type": "code",
   "execution_count": null,
   "metadata": {},
   "outputs": [],
   "source": [
    "def read_FASTA_sequences(filename):\n",
    "    return [[seq[0], seq[2].replace('\\n', '')]           # delete newlines\n",
    "             for seq in read_FASTA_entries(filename)]"
   ]
  },
  {
   "cell_type": "code",
   "execution_count": null,
   "metadata": {},
   "outputs": [],
   "source": [
    "def read_FASTA_sequences_unpacked(filename):\n",
    "    return [(info, seq.replace('\\n', ''))\n",
    "            for info, ignore, seq in                     # ignore is ignored (!)\n",
    "            read_FASTA_entries(filename)]\n",
    "    "
   ]
  },
  {
   "cell_type": "code",
   "execution_count": null,
   "metadata": {},
   "outputs": [],
   "source": [
    "def read_FASTA_sequences_and_info(filename):\n",
    "    return [[seq[0].split('|'), seq[1]] for seq in\n",
    "            read_FASTA_sequences(filename)]"
   ]
  },
  {
   "cell_type": "code",
   "execution_count": null,
   "metadata": {},
   "outputs": [],
   "source": [
    "filename = 'data/aa003.fasta'\n",
    "\n",
    "seqs = read_FASTA_strings(filename)\n",
    "\n",
    "seqs = read_FASTA_entries(filename)\n",
    "\n",
    "seqs = read_FASTA_sequences(filename)\n",
    "\n",
    "seqs = read_FASTA_sequences_unpacked(filename)\n",
    "\n",
    "seqs = read_FASTA_sequences_and_info(filename)\n"
   ]
  }
 ],
 "metadata": {
  "kernelspec": {
   "display_name": "Python 3",
   "language": "python",
   "name": "python3"
  },
  "language_info": {
   "codemirror_mode": {
    "name": "ipython",
    "version": 3
   },
   "file_extension": ".py",
   "mimetype": "text/x-python",
   "name": "python",
   "nbconvert_exporter": "python",
   "pygments_lexer": "ipython3",
   "version": "3.6.5"
  }
 },
 "nbformat": 4,
 "nbformat_minor": 2
}
