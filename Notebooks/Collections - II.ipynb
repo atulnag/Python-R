{
 "cells": [
  {
   "cell_type": "markdown",
   "metadata": {},
   "source": [
    "# Python Collections (Mappings & Streams)"
   ]
  },
  {
   "cell_type": "markdown",
   "metadata": {},
   "source": [
    "## Mappings\n",
    "* A mapping is a mutable unordered collection of key/value pairs.\n",
    "* Data structures implementing mappings, including *associative arrays*, *lookup tables*, and *hash tables*.\n",
    "<img src=\"images/dict.png\">\n",
    "***\n",
    "### Dictionaries\n",
    "* There is just one mapping type in Python: `dict`, for *\"dictionary\"*.\n",
    "* `dict` can be called with a collection argument to create a dictionary with the elements of the argument.\n",
    "* The elements must be tuples or lists of two elements - a key and a value:"
   ]
  },
  {
   "cell_type": "code",
   "execution_count": 2,
   "metadata": {},
   "outputs": [
    {
     "data": {
      "text/plain": [
       "{'A': 'adenine', 'T': 'thymine', 'C': 'cytosine', 'G': 'guanine'}"
      ]
     },
     "execution_count": 2,
     "metadata": {},
     "output_type": "execute_result"
    }
   ],
   "source": [
    "dict((('A','adenine'),('T', 'thymine'), ('C','cytosine'),('G','guanine')))"
   ]
  },
  {
   "cell_type": "markdown",
   "metadata": {},
   "source": [
    "* Dictionaries can also be written as a comma-separated list of key/value pairs enclosed in curly braces, with each key and value separated by a colon.\n",
    "* Empty braces create an empty dictionary.\n",
    "* The order within the braces doesn’t matter, since the dictionary implementation imposes its own order."
   ]
  },
  {
   "cell_type": "code",
   "execution_count": 3,
   "metadata": {},
   "outputs": [
    {
     "data": {
      "text/plain": [
       "{'A': 'adenine', 'C': 'cytosine', 'G': 'guanine', 'T': 'thymine'}"
      ]
     },
     "execution_count": 3,
     "metadata": {},
     "output_type": "execute_result"
    }
   ],
   "source": [
    "{'A': 'adenine', 'C': 'cytosine', 'G': 'guanine', 'T': 'thymine'}"
   ]
  },
  {
   "cell_type": "markdown",
   "metadata": {},
   "source": [
    "* The keys of a mapping must be unique within the collection.\n",
    "* `dict` does not allow keys to be instances of mutable built-in types."
   ]
  },
  {
   "cell_type": "markdown",
   "metadata": {},
   "source": [
    "### Dictionary example: RNA codon translation table"
   ]
  },
  {
   "cell_type": "code",
   "execution_count": 62,
   "metadata": {},
   "outputs": [],
   "source": [
    "RNA_codon_table = {\n",
    "#                        Second Base\n",
    "#        U             C             A             G\n",
    "# U\n",
    "    'UUU': 'Phe', 'UCU': 'Ser', 'UAU': 'Tyr', 'UGU': 'Cys',     # UxU\n",
    "    'UUC': 'Phe', 'UCC': 'Ser', 'UAC': 'Tyr', 'UGC': 'Cys',     # UxC\n",
    "    'UUA': 'Leu', 'UCA': 'Ser', 'UAA': '---', 'UGA': '---',     # UxA\n",
    "    'UUG': 'Leu', 'UCG': 'Ser', 'UAG': '---', 'UGG': 'Urp',     # UxG\n",
    "# C\n",
    "    'CUU': 'Leu', 'CCU': 'Pro', 'CAU': 'His', 'CGU': 'Arg',     # CxU\n",
    "    'CUC': 'Leu', 'CCC': 'Pro', 'CAC': 'His', 'CGC': 'Arg',     # CxC\n",
    "    'CUA': 'Leu', 'CCA': 'Pro', 'CAA': 'Gln', 'CGA': 'Arg',     # CxA\n",
    "    'CUG': 'Leu', 'CCG': 'Pro', 'CAG': 'Gln', 'CGG': 'Arg',     # CxG\n",
    "# A\n",
    "    'AUU': 'Ile', 'ACU': 'Thr', 'AAU': 'Asn', 'AGU': 'Ser',     # AxU\n",
    "    'AUC': 'Ile', 'ACC': 'Thr', 'AAC': 'Asn', 'AGC': 'Ser',     # AxC\n",
    "    'AUA': 'Ile', 'ACA': 'Thr', 'AAA': 'Lys', 'AGA': 'Arg',     # AxA\n",
    "    'AUG': 'Met', 'ACG': 'Thr', 'AAG': 'Lys', 'AGG': 'Arg',     # AxG\n",
    "# G\n",
    "    'GUU': 'Val', 'GCU': 'Ala', 'GAU': 'Asp', 'GGU': 'Gly',     # GxU\n",
    "    'GUC': 'Val', 'GCC': 'Ala', 'GAC': 'Asp', 'GGC': 'Gly',     # GxC\n",
    "    'GUA': 'Val', 'GCA': 'Ala', 'GAA': 'Glu', 'GGA': 'Gly',     # GxA\n",
    "    'GUG': 'Val', 'GCG': 'Ala', 'GAG': 'Glu', 'GGG': 'Gly'      # GxG\n",
    "}\n"
   ]
  },
  {
   "cell_type": "code",
   "execution_count": 63,
   "metadata": {},
   "outputs": [],
   "source": [
    "def translate_RNA_codon(codon):\n",
    "    \"\"\"RNA codon lookup from a dictionary\"\"\"\n",
    "    return RNA_codon_table[codon]\n"
   ]
  },
  {
   "cell_type": "code",
   "execution_count": 64,
   "metadata": {},
   "outputs": [
    {
     "data": {
      "text/plain": [
       "'Val'"
      ]
     },
     "execution_count": 64,
     "metadata": {},
     "output_type": "execute_result"
    }
   ],
   "source": [
    "translate_RNA_codon('GUG')"
   ]
  },
  {
   "cell_type": "code",
   "execution_count": 7,
   "metadata": {},
   "outputs": [
    {
     "data": {
      "text/plain": [
       "{'UUU': 'Phe',\n",
       " 'UCU': 'Ser',\n",
       " 'UAU': 'Tyr',\n",
       " 'UGU': 'Cys',\n",
       " 'UUC': 'Phe',\n",
       " 'UCC': 'Ser',\n",
       " 'UAC': 'Tyr',\n",
       " 'UGC': 'Cys',\n",
       " 'UUA': 'Leu',\n",
       " 'UCA': 'Ser',\n",
       " 'UAA': '---',\n",
       " 'UGA': '---',\n",
       " 'UUG': 'Leu',\n",
       " 'UCG': 'Ser',\n",
       " 'UAG': '---',\n",
       " 'UGG': 'Urp',\n",
       " 'CUU': 'Leu',\n",
       " 'CCU': 'Pro',\n",
       " 'CAU': 'His',\n",
       " 'CGU': 'Arg',\n",
       " 'CUC': 'Leu',\n",
       " 'CCC': 'Pro',\n",
       " 'CAC': 'His',\n",
       " 'CGC': 'Arg',\n",
       " 'CUA': 'Leu',\n",
       " 'CCA': 'Pro',\n",
       " 'CAA': 'Gln',\n",
       " 'CGA': 'Arg',\n",
       " 'CUG': 'Leu',\n",
       " 'CCG': 'Pro',\n",
       " 'CAG': 'Gln',\n",
       " 'CGG': 'Arg',\n",
       " 'AUU': 'Ile',\n",
       " 'ACU': 'Thr',\n",
       " 'AAU': 'Asn',\n",
       " 'AGU': 'Ser',\n",
       " 'AUC': 'Ile',\n",
       " 'ACC': 'Thr',\n",
       " 'AAC': 'Asn',\n",
       " 'AGC': 'Ser',\n",
       " 'AUA': 'Ile',\n",
       " 'ACA': 'Thr',\n",
       " 'AAA': 'Lys',\n",
       " 'AGA': 'Arg',\n",
       " 'AUG': 'Met',\n",
       " 'ACG': 'Thr',\n",
       " 'AAG': 'Lys',\n",
       " 'AGG': 'Arg',\n",
       " 'GUU': 'Val',\n",
       " 'GCU': 'Ala',\n",
       " 'GAU': 'Asp',\n",
       " 'GGU': 'Gly',\n",
       " 'GUC': 'Val',\n",
       " 'GCC': 'Ala',\n",
       " 'GAC': 'Asp',\n",
       " 'GGC': 'Gly',\n",
       " 'GUA': 'Val',\n",
       " 'GCA': 'Ala',\n",
       " 'GAA': 'Glu',\n",
       " 'GGA': 'Gly',\n",
       " 'GUG': 'Val',\n",
       " 'GCG': 'Ala',\n",
       " 'GAG': 'Glu',\n",
       " 'GGG': 'Gly'}"
      ]
     },
     "execution_count": 7,
     "metadata": {},
     "output_type": "execute_result"
    }
   ],
   "source": [
    "RNA_codon_table"
   ]
  },
  {
   "cell_type": "markdown",
   "metadata": {},
   "source": [
    "* To obtain a function that will help you see the structure of your data, you should include the following line in your Python files:"
   ]
  },
  {
   "cell_type": "code",
   "execution_count": 8,
   "metadata": {},
   "outputs": [],
   "source": [
    "from pprint import pprint as pp"
   ]
  },
  {
   "cell_type": "code",
   "execution_count": 9,
   "metadata": {},
   "outputs": [
    {
     "name": "stdout",
     "output_type": "stream",
     "text": [
      "{'AAA': 'Lys',\n",
      " 'AAC': 'Asn',\n",
      " 'AAG': 'Lys',\n",
      " 'AAU': 'Asn',\n",
      " 'ACA': 'Thr',\n",
      " 'ACC': 'Thr',\n",
      " 'ACG': 'Thr',\n",
      " 'ACU': 'Thr',\n",
      " 'AGA': 'Arg',\n",
      " 'AGC': 'Ser',\n",
      " 'AGG': 'Arg',\n",
      " 'AGU': 'Ser',\n",
      " 'AUA': 'Ile',\n",
      " 'AUC': 'Ile',\n",
      " 'AUG': 'Met',\n",
      " 'AUU': 'Ile',\n",
      " 'CAA': 'Gln',\n",
      " 'CAC': 'His',\n",
      " 'CAG': 'Gln',\n",
      " 'CAU': 'His',\n",
      " 'CCA': 'Pro',\n",
      " 'CCC': 'Pro',\n",
      " 'CCG': 'Pro',\n",
      " 'CCU': 'Pro',\n",
      " 'CGA': 'Arg',\n",
      " 'CGC': 'Arg',\n",
      " 'CGG': 'Arg',\n",
      " 'CGU': 'Arg',\n",
      " 'CUA': 'Leu',\n",
      " 'CUC': 'Leu',\n",
      " 'CUG': 'Leu',\n",
      " 'CUU': 'Leu',\n",
      " 'GAA': 'Glu',\n",
      " 'GAC': 'Asp',\n",
      " 'GAG': 'Glu',\n",
      " 'GAU': 'Asp',\n",
      " 'GCA': 'Ala',\n",
      " 'GCC': 'Ala',\n",
      " 'GCG': 'Ala',\n",
      " 'GCU': 'Ala',\n",
      " 'GGA': 'Gly',\n",
      " 'GGC': 'Gly',\n",
      " 'GGG': 'Gly',\n",
      " 'GGU': 'Gly',\n",
      " 'GUA': 'Val',\n",
      " 'GUC': 'Val',\n",
      " 'GUG': 'Val',\n",
      " 'GUU': 'Val',\n",
      " 'UAA': '---',\n",
      " 'UAC': 'Tyr',\n",
      " 'UAG': '---',\n",
      " 'UAU': 'Tyr',\n",
      " 'UCA': 'Ser',\n",
      " 'UCC': 'Ser',\n",
      " 'UCG': 'Ser',\n",
      " 'UCU': 'Ser',\n",
      " 'UGA': '---',\n",
      " 'UGC': 'Cys',\n",
      " 'UGG': 'Urp',\n",
      " 'UGU': 'Cys',\n",
      " 'UUA': 'Leu',\n",
      " 'UUC': 'Phe',\n",
      " 'UUG': 'Leu',\n",
      " 'UUU': 'Phe'}\n"
     ]
    }
   ],
   "source": [
    "pp(RNA_codon_table)"
   ]
  },
  {
   "cell_type": "markdown",
   "metadata": {},
   "source": [
    "<img src=\"images/dictop.png\" ><br>\n",
    "<img src=\"images/dictm.png\">"
   ]
  },
  {
   "cell_type": "markdown",
   "metadata": {},
   "source": [
    "* Last three methods return \"sequence-like objects\": they aren't sequences, but they can be used as if they were in many contexts."
   ]
  },
  {
   "cell_type": "code",
   "execution_count": 10,
   "metadata": {},
   "outputs": [
    {
     "data": {
      "text/plain": [
       "['UUU',\n",
       " 'UCU',\n",
       " 'UAU',\n",
       " 'UGU',\n",
       " 'UUC',\n",
       " 'UCC',\n",
       " 'UAC',\n",
       " 'UGC',\n",
       " 'UUA',\n",
       " 'UCA',\n",
       " 'UAA',\n",
       " 'UGA',\n",
       " 'UUG',\n",
       " 'UCG',\n",
       " 'UAG',\n",
       " 'UGG',\n",
       " 'CUU',\n",
       " 'CCU',\n",
       " 'CAU',\n",
       " 'CGU',\n",
       " 'CUC',\n",
       " 'CCC',\n",
       " 'CAC',\n",
       " 'CGC',\n",
       " 'CUA',\n",
       " 'CCA',\n",
       " 'CAA',\n",
       " 'CGA',\n",
       " 'CUG',\n",
       " 'CCG',\n",
       " 'CAG',\n",
       " 'CGG',\n",
       " 'AUU',\n",
       " 'ACU',\n",
       " 'AAU',\n",
       " 'AGU',\n",
       " 'AUC',\n",
       " 'ACC',\n",
       " 'AAC',\n",
       " 'AGC',\n",
       " 'AUA',\n",
       " 'ACA',\n",
       " 'AAA',\n",
       " 'AGA',\n",
       " 'AUG',\n",
       " 'ACG',\n",
       " 'AAG',\n",
       " 'AGG',\n",
       " 'GUU',\n",
       " 'GCU',\n",
       " 'GAU',\n",
       " 'GGU',\n",
       " 'GUC',\n",
       " 'GCC',\n",
       " 'GAC',\n",
       " 'GGC',\n",
       " 'GUA',\n",
       " 'GCA',\n",
       " 'GAA',\n",
       " 'GGA',\n",
       " 'GUG',\n",
       " 'GCG',\n",
       " 'GAG',\n",
       " 'GGG']"
      ]
     },
     "execution_count": 10,
     "metadata": {},
     "output_type": "execute_result"
    }
   ],
   "source": [
    "list(RNA_codon_table.keys())"
   ]
  },
  {
   "cell_type": "markdown",
   "metadata": {},
   "source": [
    "## Streams"
   ]
  },
  {
   "cell_type": "markdown",
   "metadata": {},
   "source": [
    "* A stream is a temporally ordered sequence of indefinite length, usually limited to one type of element.\n",
    "* Each stream has two ends: a source that provides the elements and a sink that absorbs the elements.\n",
    "* The more common kinds of stream sources are files, network connections, and the output of a kind of function called a `generator`. \n",
    "* Files and network sources are also common kinds of sinks.\n",
    "***\n",
    "### Files\n",
    "* A Python file is an object that is an `interface` to an external file, not the file itself.\n",
    "* File objects provide methods for reading, writing, and managing their instances.\n",
    "* Depending on a parameter supplied when an instance is created, the elements of the file object are either bytes or Unicode characters. \n",
    "* Some methods treat files as streams of bytes or characters, and other methods treat them as streams of lines of bytes or characters.\n",
    "* Most of the time a file object is a one-way sequence: it can either be read from or written to. \n",
    "* It is possible to create a file object that is a two-way stream, though it would be more accurate to say it is a pair of streams—one for reading and one for writing—that just happen to connect to the same external file. \n",
    "* Normally when a file object is created, if there was already a file with the same path that file is emptied. \n",
    "* File objects can be created to append instead, though, so that data is written to the end of an existing file.\n",
    "#### Working with file objects\n",
    "* built-in function `open(path, mode)` creates a file object representing the external file at the operating system location specified by the string path.\n",
    "* The default use is reading, and the default interpretation is text.\n",
    "***\n",
    "<img src=\"images/fileopen.png\">\n",
    "* call the method `close()` to close a file object when it’s no longer needed\n",
    "* The `with` statement is used to open and name a file, then automatically close the file regardless of whether an error occurs during the execution of its statements.\n",
    "> `with open(path, mode) as name:`\n",
    ">     `statements using name`\n",
    "* More than one file can be opened with the same with statement, as when reading from one and writing to the other.\n",
    "> `with open(path1, mode1) as name1, open(path2, mode2) as name2, ... :`\n",
    ">     `statements using names`\n",
    "\n",
    "#### File reading\n",
    "* `fileobj.read([count])` - Reads count bytes, or until the end of the file, whichever comes first; if count is omitted, reads everything until the end of the file. If at the end of the file, returns an empty string. This method treats the file as an input stream of characters.\n",
    "* `fileobj.readline([count])` - Reads one line from the file object and returns the entire line, including the end-of-line character; if count is present, reads at most count characters. If at the end of the file, returns an empty string. This method treats the file as an input stream of lines.\n",
    "* `fileobj.readlines()` - Reads lines of a file object until the end of the file is reached and returns them as a list of strings; this method treats the file as an input stream of lines.\n",
    "***\n",
    "#### File Writing\n",
    "* `fileobj.write(string)` - Writes string to fileobj , treating it as an output stream of characters.\n",
    "* `fileobj.writelines(sequence)` - Writes each element of sequence , which must all be strings, to fileobj, treating it as an output stream of lines."
   ]
  },
  {
   "cell_type": "code",
   "execution_count": 1,
   "metadata": {},
   "outputs": [],
   "source": [
    "def read_FASTA_strings(filename):\n",
    "    \"\"\"Read FASTA sequence from a file\"\"\"\n",
    "    with open(filename) as file:\n",
    "        return file.read().split('>')[1:]"
   ]
  },
  {
   "cell_type": "code",
   "execution_count": 2,
   "metadata": {},
   "outputs": [],
   "source": [
    "seqs = read_FASTA_strings(\"data/aa003.fasta\")"
   ]
  },
  {
   "cell_type": "code",
   "execution_count": 3,
   "metadata": {},
   "outputs": [
    {
     "data": {
      "text/plain": [
       "['gi|6693803|gb|AAF24990.1|AF121349_4 (AF121349) late expression factor 5 [Neodiprion sertifer nucleopolyhedrovirus]\\nMPPCSEKTLKDIEEIFLKFRRKKKWEDLIRYLKYKQPKCVKTFNLTGTGHKYHAMWAYNPITDKREKKQISLDVMKIQEL\\nHRITNNNSKLYVEIRKIMTDDHRCPCEEIKNYMQQIAEYKNNRSNKVFNTPPTKIVPNALEKILKNFTINLMIDKKPKKK\\nITKSAHTIKHPPVLNIDYEHTLEFAGQTTVKEICKHASLGDTIEIQNRSFDEMVNLYTTCVQCKQMYKIQ\\n',\n",
       " 'gi|6693805|gb|AAF24991.1| (AF125506) astacin family metalloendopeptidase FARM-1 [Hydra vulgaris]\\nMSSSNHIHVLRAIDEYHKHTCLKFVKRTNQDAYLSFYPGGGCSSLVGYVRGRINDVSLAGGCLRLGTVMHEIGHSIGLYH\\nEQSRPDRDDHVTIIWNNIQSNMRFNFDKFDRNKINSLGFPYDYESMMHYESNAFGGGQVTIRTKDPSKQKLIGNRQGFSE\\nIDKQQINAMYNCNRGGSTLPPSVPPTVSPVAQCVEGQDLDNRCLGWATSGYCTATDPAHLETMKKKCCKSCKESAICNDK\\nNTRCDEWAKKGECKANPNWMLGNCSKSCLVC\\n',\n",
       " 'gi|6693816|gb|AAF24994.1|AF129447_1 (AF129447) RpoB [Klebsiella ornithinolytica]\\nAAVKEFFGSSQLSQFMDQNNPLSEITHKRRISALGPGGLTRERAGFEVRDVHPTHYGRVCPIETPEGPNIGLINSLSVYA\\nQTNEYGFLETPYRKVTDGVVTDEIHYLSAIEEGNYVIAQANSNLDDEGHFVEDLVTCRSKGESSLFSRDQVDYMDVSTQQ\\nVVSVGGSSERVL\\n']"
      ]
     },
     "execution_count": 3,
     "metadata": {},
     "output_type": "execute_result"
    }
   ],
   "source": [
    "seqs"
   ]
  },
  {
   "cell_type": "markdown",
   "metadata": {},
   "source": [
    "* Problems with output:\n",
    " - the description line preceding each sequence is part of the sequence string\n",
    " - the string contains internal newline characters."
   ]
  },
  {
   "cell_type": "markdown",
   "metadata": {},
   "source": [
    "### Generators"
   ]
  },
  {
   "cell_type": "markdown",
   "metadata": {},
   "source": [
    "<img src=\"images/gen1.png\">\n",
    "* A generator is an object that returns values from a series it computes. eg. `random.randint`\n",
    "* Advantages of generators:\n",
    " * A generator can produce an infinitely large series of values, as in the case of `random.randint`\n",
    " * A generator can encapsulate significant computation with the caller requesting values until it finds one that meets some condition\n",
    " * A generator can take the place of a list when the list is so long and/or its values are so large that creating the entire list before processing its elements would use enormous amounts of memory.\n",
    "* A value is obtained from a generator by calling the built-in function `next` with the generator object as its argument. \n",
    "* The function that produced the generator object resumes its execution until a `yield` statement is encountered. The value of the `yield` is returned as the value of `next`.\n",
    "* The values of parameters and names assigned in the function are retained between calls.\n",
    "> `next(generator[, default])` - Gets the next value from the generator object; if the generator has no more values to produce, returns `default`, raising an error if no default value was specified."
   ]
  },
  {
   "cell_type": "code",
   "execution_count": 1,
   "metadata": {},
   "outputs": [],
   "source": [
    "def genTest():\n",
    "    yield 1\n",
    "    yield 2"
   ]
  },
  {
   "cell_type": "code",
   "execution_count": 2,
   "metadata": {},
   "outputs": [
    {
     "data": {
      "text/plain": [
       "<generator object genTest at 0x7f8f40238620>"
      ]
     },
     "execution_count": 2,
     "metadata": {},
     "output_type": "execute_result"
    }
   ],
   "source": [
    "genTest()"
   ]
  },
  {
   "cell_type": "code",
   "execution_count": 7,
   "metadata": {},
   "outputs": [],
   "source": [
    "foo = genTest()"
   ]
  },
  {
   "cell_type": "code",
   "execution_count": 8,
   "metadata": {},
   "outputs": [
    {
     "data": {
      "text/plain": [
       "1"
      ]
     },
     "execution_count": 8,
     "metadata": {},
     "output_type": "execute_result"
    }
   ],
   "source": [
    "foo.__next__()"
   ]
  },
  {
   "cell_type": "code",
   "execution_count": 9,
   "metadata": {},
   "outputs": [
    {
     "name": "stdout",
     "output_type": "stream",
     "text": [
      "1\n",
      "2\n"
     ]
    }
   ],
   "source": [
    "for n in genTest():\n",
    "    print(n)"
   ]
  },
  {
   "cell_type": "code",
   "execution_count": 1,
   "metadata": {},
   "outputs": [],
   "source": [
    "def genFib():\n",
    "    fibn_1 = 1  # fib(n - 1)\n",
    "    fibn_2 = 0  # fib(n - 2)\n",
    "    while True:\n",
    "        next = fibn_1 + fibn_2 # fib(n) = fib(n - 1) + fib(n - 2)\n",
    "        yield next\n",
    "        fibn_2 = fibn_1\n",
    "        fibn_1 = next"
   ]
  },
  {
   "cell_type": "code",
   "execution_count": 2,
   "metadata": {},
   "outputs": [],
   "source": [
    "fib = genFib()\n"
   ]
  },
  {
   "cell_type": "code",
   "execution_count": 4,
   "metadata": {},
   "outputs": [
    {
     "name": "stdout",
     "output_type": "stream",
     "text": [
      "144\n",
      "233\n",
      "377\n",
      "610\n",
      "987\n",
      "1597\n",
      "2584\n",
      "4181\n",
      "6765\n",
      "10946\n"
     ]
    }
   ],
   "source": [
    "for i in range(10):\n",
    "    print(fib.__next__())"
   ]
  },
  {
   "cell_type": "markdown",
   "metadata": {},
   "source": [
    "## Comprehensions"
   ]
  },
  {
   "cell_type": "markdown",
   "metadata": {},
   "source": [
    "* A *comprehension* creates a set, list, or dictionary from the results of evaluating an expression for each element of another collection.\n",
    "* Each kind of comprehension is written surrounded by the characters used to surround the corresponding type of collection value: brackets for lists, and braces for sets and dictionaries."
   ]
  },
  {
   "cell_type": "markdown",
   "metadata": {},
   "source": [
    "### List comprehensions\n",
    "The simplest form of list comprehension is:\n",
    "`[expression for item in collection]`"
   ]
  },
  {
   "cell_type": "code",
   "execution_count": 17,
   "metadata": {},
   "outputs": [],
   "source": [
    "def validate_base_sequence(base_sequence, RNAflag = False):\n",
    "    valid_bases = 'UCAG' if RNAflag else 'TCAG'\n",
    "    return all([(base in valid_bases)\n",
    "                for base in base_sequence.upper()])"
   ]
  },
  {
   "cell_type": "code",
   "execution_count": 18,
   "metadata": {},
   "outputs": [],
   "source": [
    "from random import randint\n",
    "\n",
    "def random_base(RNAflag = False):\n",
    "    return ('UCAG' if RNAflag else 'TCAG')[randint(0,3)]\n",
    "\n",
    "def random_codon(RNAflag = False):\n",
    "    return random_base(RNAflag) + random_base(RNAflag) + random_base(RNAflag)\n",
    "\n",
    "def random_codons(minlength = 3, maxlength = 10, RNAflag = False):\n",
    "    \"\"\"Generate a random list of codons (RNA if RNAflag, else DNA)\n",
    "    between minlength and maxlength, inclusive\"\"\"\n",
    "    return [random_codon(RNAflag)\n",
    "            for n in range(randint(minlength, maxlength))]"
   ]
  },
  {
   "cell_type": "code",
   "execution_count": 19,
   "metadata": {},
   "outputs": [],
   "source": [
    "minlength = 2\n",
    "maxlength = 5\n",
    "RNAflag = True"
   ]
  },
  {
   "cell_type": "code",
   "execution_count": 51,
   "metadata": {},
   "outputs": [
    {
     "data": {
      "text/plain": [
       "2"
      ]
     },
     "execution_count": 51,
     "metadata": {},
     "output_type": "execute_result"
    }
   ],
   "source": [
    "randnum = randint(minlength, maxlength)\n",
    "randnum"
   ]
  },
  {
   "cell_type": "code",
   "execution_count": 52,
   "metadata": {},
   "outputs": [
    {
     "data": {
      "text/plain": [
       "[0, 1]"
      ]
     },
     "execution_count": 52,
     "metadata": {},
     "output_type": "execute_result"
    }
   ],
   "source": [
    "[n for n in range(randnum)]"
   ]
  },
  {
   "cell_type": "code",
   "execution_count": 61,
   "metadata": {},
   "outputs": [
    {
     "data": {
      "text/plain": [
       "['ACC', 'UAA']"
      ]
     },
     "execution_count": 61,
     "metadata": {},
     "output_type": "execute_result"
    }
   ],
   "source": [
    "[random_codon(RNAflag) for n in range(randnum)]"
   ]
  },
  {
   "cell_type": "code",
   "execution_count": 65,
   "metadata": {},
   "outputs": [],
   "source": [
    "def random_codons_translation(minlength = 3, maxlength = 10):\n",
    "    \"\"\"Generate a random list of codons between minlength and\n",
    "    maxlength, inclusive\"\"\"\n",
    "    return [translate_RNA_codon(codon) for codon in\n",
    "            random_codons(minlength, maxlength, True)]\n",
    "    "
   ]
  },
  {
   "cell_type": "code",
   "execution_count": 80,
   "metadata": {},
   "outputs": [
    {
     "data": {
      "text/plain": [
       "['Asn', 'Ser', 'Lys', 'Ile', 'Pro', 'Lys', 'Leu', 'Ser']"
      ]
     },
     "execution_count": 80,
     "metadata": {},
     "output_type": "execute_result"
    }
   ],
   "source": [
    "random_codons_translation()"
   ]
  },
  {
   "cell_type": "code",
   "execution_count": 12,
   "metadata": {},
   "outputs": [
    {
     "name": "stdout",
     "output_type": "stream",
     "text": [
      "\n",
      "G\n",
      "T\n",
      "T\n",
      "C\n",
      "\n",
      "C\n",
      "G\n",
      "U\n",
      "G\n",
      "\n",
      "GTA\n",
      "AGA\n",
      "UCU\n",
      "\n",
      "['CTC', 'GAT', 'ATC']\n",
      "['ACA', 'ATC', 'ATG', 'CGT', 'GTA', 'CAG', 'GGT', 'CGA']\n",
      "['CAA', 'TCT', 'CCC', 'AAA']\n",
      "['GGT', 'GGT', 'CAG', 'CGC', 'CGA', 'GGA', 'ACA']\n",
      "\n",
      "['TAA', 'CCG', 'CCA', 'TTT', 'CGG', 'TTC']\n",
      "['TTA', 'GCC', 'GTT', 'AGA', 'CAT', 'TAC', 'CAA', 'GTG', 'TCT', 'AAG']\n",
      "\n",
      "['CCU', 'AUG', 'GAG', 'UGA', 'ACA', 'CUG', 'AAU']\n",
      "['UUG', 'AGA', 'CCA', 'GCG', 'GAC', 'GAG', 'UAA', 'GCU', 'AGC']\n",
      "\n",
      "['Leu', 'Ala', 'Leu', 'Arg']\n",
      "['Asp', 'Arg', 'Ile', 'Arg', 'Pro', 'Ser', 'Urp', 'Gly']\n",
      "\n",
      "['Ile', 'Arg', 'Pro', 'Met', 'Asp', 'Ile', 'Ser', 'Ser', 'Lys', 'Arg', 'Asp']\n",
      "['Leu', 'Ile', 'Glu', 'Leu', 'Tyr', 'Ala', 'Ile', 'Val', 'Arg']\n"
     ]
    }
   ],
   "source": [
    "def test():\n",
    "    print()\n",
    "    print(random_base())\n",
    "    print(random_base())\n",
    "    print(random_base(False))\n",
    "    print(random_base(False))\n",
    "    print()\n",
    "    print(random_base(True))\n",
    "    print(random_base(True))\n",
    "    print(random_base(True))\n",
    "    print(random_base(True))\n",
    "    print()\n",
    "    print(random_codon())\n",
    "    print(random_codon(False))\n",
    "    print(random_codon(True))\n",
    "    print()\n",
    "    print(random_codons())\n",
    "    print(random_codons())\n",
    "    print(random_codons())\n",
    "    print(random_codons())\n",
    "    print()\n",
    "    print(random_codons(6))\n",
    "    print(random_codons(6, 15))\n",
    "    print()\n",
    "    print(random_codons(RNAflag = True))\n",
    "    print(random_codons(RNAflag = True))\n",
    "    print()\n",
    "    print(random_codons_translation())\n",
    "    print(random_codons_translation(5))\n",
    "    print()\n",
    "    print(random_codons_translation(8, 12))\n",
    "    print(random_codons_translation(8, 12))\n",
    "test()"
   ]
  },
  {
   "cell_type": "markdown",
   "metadata": {},
   "source": [
    "#### Revisit FASTA reader\n",
    "* Suppose we want to split the description from a base sequence"
   ]
  },
  {
   "cell_type": "code",
   "execution_count": 6,
   "metadata": {},
   "outputs": [],
   "source": [
    "def read_FASTA_entries(filename):\n",
    "    return [seq.partition('\\n') for seq in read_FASTA_strings(filename)]"
   ]
  },
  {
   "cell_type": "markdown",
   "metadata": {},
   "source": [
    "* Given a string `string` and another string `sepr`, the call `string.partition(sepr)` returns a tuple with three elements: \n",
    "  * the part of string up to the first appearance of sepr\n",
    "  * sepr\n",
    "  * the part of string after sepr.\n",
    "* Calling partition with an argument of `'\\n'` will split the description from the base sequence."
   ]
  },
  {
   "cell_type": "code",
   "execution_count": 7,
   "metadata": {},
   "outputs": [],
   "source": [
    "seqs = read_FASTA_entries(\"data/aa003.fasta\")"
   ]
  },
  {
   "cell_type": "code",
   "execution_count": 8,
   "metadata": {},
   "outputs": [
    {
     "data": {
      "text/plain": [
       "[('gi|6693803|gb|AAF24990.1|AF121349_4 (AF121349) late expression factor 5 [Neodiprion sertifer nucleopolyhedrovirus]',\n",
       "  '\\n',\n",
       "  'MPPCSEKTLKDIEEIFLKFRRKKKWEDLIRYLKYKQPKCVKTFNLTGTGHKYHAMWAYNPITDKREKKQISLDVMKIQEL\\nHRITNNNSKLYVEIRKIMTDDHRCPCEEIKNYMQQIAEYKNNRSNKVFNTPPTKIVPNALEKILKNFTINLMIDKKPKKK\\nITKSAHTIKHPPVLNIDYEHTLEFAGQTTVKEICKHASLGDTIEIQNRSFDEMVNLYTTCVQCKQMYKIQ\\n'),\n",
       " ('gi|6693805|gb|AAF24991.1| (AF125506) astacin family metalloendopeptidase FARM-1 [Hydra vulgaris]',\n",
       "  '\\n',\n",
       "  'MSSSNHIHVLRAIDEYHKHTCLKFVKRTNQDAYLSFYPGGGCSSLVGYVRGRINDVSLAGGCLRLGTVMHEIGHSIGLYH\\nEQSRPDRDDHVTIIWNNIQSNMRFNFDKFDRNKINSLGFPYDYESMMHYESNAFGGGQVTIRTKDPSKQKLIGNRQGFSE\\nIDKQQINAMYNCNRGGSTLPPSVPPTVSPVAQCVEGQDLDNRCLGWATSGYCTATDPAHLETMKKKCCKSCKESAICNDK\\nNTRCDEWAKKGECKANPNWMLGNCSKSCLVC\\n'),\n",
       " ('gi|6693816|gb|AAF24994.1|AF129447_1 (AF129447) RpoB [Klebsiella ornithinolytica]',\n",
       "  '\\n',\n",
       "  'AAVKEFFGSSQLSQFMDQNNPLSEITHKRRISALGPGGLTRERAGFEVRDVHPTHYGRVCPIETPEGPNIGLINSLSVYA\\nQTNEYGFLETPYRKVTDGVVTDEIHYLSAIEEGNYVIAQANSNLDDEGHFVEDLVTCRSKGESSLFSRDQVDYMDVSTQQ\\nVVSVGGSSERVL\\n')]"
      ]
     },
     "execution_count": 8,
     "metadata": {},
     "output_type": "execute_result"
    }
   ],
   "source": [
    "seqs"
   ]
  },
  {
   "cell_type": "markdown",
   "metadata": {},
   "source": [
    "* Next, we need to remove the newline characters from within each sequence string. \n",
    "* Again, we’ll define a new function: it will use `str.replace` and another list comprehension. \n",
    "* We’ll also discard the useless `'>'` that begins each description."
   ]
  },
  {
   "cell_type": "code",
   "execution_count": 9,
   "metadata": {},
   "outputs": [],
   "source": [
    "def read_FASTA_sequences(filename):\n",
    "    return [[seq[0], seq[2].replace('\\n', '')]           # delete newlines\n",
    "             for seq in read_FASTA_entries(filename)]"
   ]
  },
  {
   "cell_type": "code",
   "execution_count": 11,
   "metadata": {},
   "outputs": [
    {
     "data": {
      "text/plain": [
       "[['gi|6693803|gb|AAF24990.1|AF121349_4 (AF121349) late expression factor 5 [Neodiprion sertifer nucleopolyhedrovirus]',\n",
       "  'MPPCSEKTLKDIEEIFLKFRRKKKWEDLIRYLKYKQPKCVKTFNLTGTGHKYHAMWAYNPITDKREKKQISLDVMKIQELHRITNNNSKLYVEIRKIMTDDHRCPCEEIKNYMQQIAEYKNNRSNKVFNTPPTKIVPNALEKILKNFTINLMIDKKPKKKITKSAHTIKHPPVLNIDYEHTLEFAGQTTVKEICKHASLGDTIEIQNRSFDEMVNLYTTCVQCKQMYKIQ'],\n",
       " ['gi|6693805|gb|AAF24991.1| (AF125506) astacin family metalloendopeptidase FARM-1 [Hydra vulgaris]',\n",
       "  'MSSSNHIHVLRAIDEYHKHTCLKFVKRTNQDAYLSFYPGGGCSSLVGYVRGRINDVSLAGGCLRLGTVMHEIGHSIGLYHEQSRPDRDDHVTIIWNNIQSNMRFNFDKFDRNKINSLGFPYDYESMMHYESNAFGGGQVTIRTKDPSKQKLIGNRQGFSEIDKQQINAMYNCNRGGSTLPPSVPPTVSPVAQCVEGQDLDNRCLGWATSGYCTATDPAHLETMKKKCCKSCKESAICNDKNTRCDEWAKKGECKANPNWMLGNCSKSCLVC'],\n",
       " ['gi|6693816|gb|AAF24994.1|AF129447_1 (AF129447) RpoB [Klebsiella ornithinolytica]',\n",
       "  'AAVKEFFGSSQLSQFMDQNNPLSEITHKRRISALGPGGLTRERAGFEVRDVHPTHYGRVCPIETPEGPNIGLINSLSVYAQTNEYGFLETPYRKVTDGVVTDEIHYLSAIEEGNYVIAQANSNLDDEGHFVEDLVTCRSKGESSLFSRDQVDYMDVSTQQVVSVGGSSERVL']]"
      ]
     },
     "execution_count": 11,
     "metadata": {},
     "output_type": "execute_result"
    }
   ],
   "source": [
    "seqs = read_FASTA_sequences(\"data/aa003.fasta\")\n",
    "seqs"
   ]
  },
  {
   "cell_type": "code",
   "execution_count": 12,
   "metadata": {},
   "outputs": [],
   "source": [
    "def read_FASTA_sequences_unpacked(filename):\n",
    "    return [(info, seq.replace('\\n', ''))\n",
    "            for info, ignore, seq in                     # ignore is ignored (!)\n",
    "            read_FASTA_entries(filename)]"
   ]
  },
  {
   "cell_type": "markdown",
   "metadata": {},
   "source": [
    "* The description lines of FASTA files generally contain vertical bars to separate field values.\n",
    "* We define a new function that calls read_FASTA_sequences , then uses `str.split` to return a list of field values for the description instead of just a string."
   ]
  },
  {
   "cell_type": "code",
   "execution_count": 16,
   "metadata": {},
   "outputs": [],
   "source": [
    "def read_FASTA_sequences_and_info(filename):\n",
    "    return [[seq[0].split('|'), seq[1]] for seq in\n",
    "            read_FASTA_sequences(filename)]"
   ]
  },
  {
   "cell_type": "code",
   "execution_count": 17,
   "metadata": {
    "scrolled": true
   },
   "outputs": [
    {
     "name": "stdout",
     "output_type": "stream",
     "text": [
      "[[['gi', '6693803', 'gb', 'AAF24990.1', 'AF121349_4 (AF121349) late expression factor 5 [Neodiprion sertifer nucleopolyhedrovirus]'], 'MPPCSEKTLKDIEEIFLKFRRKKKWEDLIRYLKYKQPKCVKTFNLTGTGHKYHAMWAYNPITDKREKKQISLDVMKIQELHRITNNNSKLYVEIRKIMTDDHRCPCEEIKNYMQQIAEYKNNRSNKVFNTPPTKIVPNALEKILKNFTINLMIDKKPKKKITKSAHTIKHPPVLNIDYEHTLEFAGQTTVKEICKHASLGDTIEIQNRSFDEMVNLYTTCVQCKQMYKIQ'], [['gi', '6693805', 'gb', 'AAF24991.1', ' (AF125506) astacin family metalloendopeptidase FARM-1 [Hydra vulgaris]'], 'MSSSNHIHVLRAIDEYHKHTCLKFVKRTNQDAYLSFYPGGGCSSLVGYVRGRINDVSLAGGCLRLGTVMHEIGHSIGLYHEQSRPDRDDHVTIIWNNIQSNMRFNFDKFDRNKINSLGFPYDYESMMHYESNAFGGGQVTIRTKDPSKQKLIGNRQGFSEIDKQQINAMYNCNRGGSTLPPSVPPTVSPVAQCVEGQDLDNRCLGWATSGYCTATDPAHLETMKKKCCKSCKESAICNDKNTRCDEWAKKGECKANPNWMLGNCSKSCLVC'], [['gi', '6693816', 'gb', 'AAF24994.1', 'AF129447_1 (AF129447) RpoB [Klebsiella ornithinolytica]'], 'AAVKEFFGSSQLSQFMDQNNPLSEITHKRRISALGPGGLTRERAGFEVRDVHPTHYGRVCPIETPEGPNIGLINSLSVYAQTNEYGFLETPYRKVTDGVVTDEIHYLSAIEEGNYVIAQANSNLDDEGHFVEDLVTCRSKGESSLFSRDQVDYMDVSTQQVVSVGGSSERVL']]\n"
     ]
    }
   ],
   "source": [
    "seqs = read_FASTA_sequences_and_info(filename)\n",
    "print(seqs)"
   ]
  },
  {
   "cell_type": "markdown",
   "metadata": {},
   "source": [
    "* Each sequence in the result returned is represented by a two-element list. \n",
    " * The first element is a list of the segments of the description\n",
    " * The second is the whole sequence with no newline characters.\n",
    "***\n",
    "* Altogether, the functions we developed to read sequences from a FASTA file do the following:\n",
    " * Split the file contents at '>' to get a list of strings representing entries\n",
    " * Partition the strings to separate the first line from the rest\n",
    " * Remove the useless '>' from the resulting triples\n",
    " * Remove the newlines from the sequence data\n",
    " * Split the description line into pieces where vertical bars appear"
   ]
  },
  {
   "cell_type": "code",
   "execution_count": 3,
   "metadata": {},
   "outputs": [],
   "source": [
    "#Reading FASTA sequences with one compact function\n",
    "\n",
    "def read_FASTA(filename):\n",
    "    with open(filename) as file:\n",
    "        return [(part[0].split('|'),\n",
    "                 part[2].replace('\\n', ''))\n",
    "                for part in\n",
    "                [entry.partition('\\n')\n",
    "                 for entry in file.read().split('>')[1:]]]"
   ]
  },
  {
   "cell_type": "code",
   "execution_count": 4,
   "metadata": {
    "scrolled": false
   },
   "outputs": [
    {
     "data": {
      "text/plain": [
       "[(['gi',\n",
       "   '6693803',\n",
       "   'gb',\n",
       "   'AAF24990.1',\n",
       "   'AF121349_4 (AF121349) late expression factor 5 [Neodiprion sertifer nucleopolyhedrovirus]'],\n",
       "  'MPPCSEKTLKDIEEIFLKFRRKKKWEDLIRYLKYKQPKCVKTFNLTGTGHKYHAMWAYNPITDKREKKQISLDVMKIQELHRITNNNSKLYVEIRKIMTDDHRCPCEEIKNYMQQIAEYKNNRSNKVFNTPPTKIVPNALEKILKNFTINLMIDKKPKKKITKSAHTIKHPPVLNIDYEHTLEFAGQTTVKEICKHASLGDTIEIQNRSFDEMVNLYTTCVQCKQMYKIQ'),\n",
       " (['gi',\n",
       "   '6693805',\n",
       "   'gb',\n",
       "   'AAF24991.1',\n",
       "   ' (AF125506) astacin family metalloendopeptidase FARM-1 [Hydra vulgaris]'],\n",
       "  'MSSSNHIHVLRAIDEYHKHTCLKFVKRTNQDAYLSFYPGGGCSSLVGYVRGRINDVSLAGGCLRLGTVMHEIGHSIGLYHEQSRPDRDDHVTIIWNNIQSNMRFNFDKFDRNKINSLGFPYDYESMMHYESNAFGGGQVTIRTKDPSKQKLIGNRQGFSEIDKQQINAMYNCNRGGSTLPPSVPPTVSPVAQCVEGQDLDNRCLGWATSGYCTATDPAHLETMKKKCCKSCKESAICNDKNTRCDEWAKKGECKANPNWMLGNCSKSCLVC'),\n",
       " (['gi',\n",
       "   '6693816',\n",
       "   'gb',\n",
       "   'AAF24994.1',\n",
       "   'AF129447_1 (AF129447) RpoB [Klebsiella ornithinolytica]'],\n",
       "  'AAVKEFFGSSQLSQFMDQNNPLSEITHKRRISALGPGGLTRERAGFEVRDVHPTHYGRVCPIETPEGPNIGLINSLSVYAQTNEYGFLETPYRKVTDGVVTDEIHYLSAIEEGNYVIAQANSNLDDEGHFVEDLVTCRSKGESSLFSRDQVDYMDVSTQQVVSVGGSSERVL')]"
      ]
     },
     "execution_count": 4,
     "metadata": {},
     "output_type": "execute_result"
    }
   ],
   "source": [
    "filename = 'data/aa003.fasta'\n",
    "seqs = read_FASTA(filename)\n",
    "seqs"
   ]
  },
  {
   "cell_type": "markdown",
   "metadata": {},
   "source": [
    "### Set & Dictionary Comprehensions\n",
    "\n",
    "* Set Comprehension - `{expression for item in collection}`\n",
    "* Dictionary Comprehension - `{key-expression: value-expression for key, value in collection}`"
   ]
  },
  {
   "cell_type": "code",
   "execution_count": 21,
   "metadata": {},
   "outputs": [
    {
     "data": {
      "text/plain": [
       "{'AAF24990.1': 'MPPCSEKTLKDIEEIFLKFRRKKKWEDLIRYLKYKQPKCVKTFNLTGTGHKYHAMWAYNPITDKREKKQISLDVMKIQELHRITNNNSKLYVEIRKIMTDDHRCPCEEIKNYMQQIAEYKNNRSNKVFNTPPTKIVPNALEKILKNFTINLMIDKKPKKKITKSAHTIKHPPVLNIDYEHTLEFAGQTTVKEICKHASLGDTIEIQNRSFDEMVNLYTTCVQCKQMYKIQ',\n",
       " 'AAF24991.1': 'MSSSNHIHVLRAIDEYHKHTCLKFVKRTNQDAYLSFYPGGGCSSLVGYVRGRINDVSLAGGCLRLGTVMHEIGHSIGLYHEQSRPDRDDHVTIIWNNIQSNMRFNFDKFDRNKINSLGFPYDYESMMHYESNAFGGGQVTIRTKDPSKQKLIGNRQGFSEIDKQQINAMYNCNRGGSTLPPSVPPTVSPVAQCVEGQDLDNRCLGWATSGYCTATDPAHLETMKKKCCKSCKESAICNDKNTRCDEWAKKGECKANPNWMLGNCSKSCLVC',\n",
       " 'AAF24994.1': 'AAVKEFFGSSQLSQFMDQNNPLSEITHKRRISALGPGGLTRERAGFEVRDVHPTHYGRVCPIETPEGPNIGLINSLSVYAQTNEYGFLETPYRKVTDGVVTDEIHYLSAIEEGNYVIAQANSNLDDEGHFVEDLVTCRSKGESSLFSRDQVDYMDVSTQQVVSVGGSSERVL'}"
      ]
     },
     "execution_count": 21,
     "metadata": {},
     "output_type": "execute_result"
    }
   ],
   "source": [
    "def make_indexed_sequence_dictionary(filename):\n",
    "    return {info[3]: seq for info, seq in read_FASTA(filename)}\n",
    "\n",
    "seqs = make_indexed_sequence_dictionary(filename)\n",
    "seqs"
   ]
  },
  {
   "cell_type": "markdown",
   "metadata": {},
   "source": [
    "### Generetor expressions\n",
    "* A 'generator expression' is syntactically like a list or set comprehension, except that it is surrounded with parentheses and its value is a generator:\n",
    "`(expression for item in collection)`"
   ]
  },
  {
   "cell_type": "code",
   "execution_count": 30,
   "metadata": {},
   "outputs": [
    {
     "name": "stdout",
     "output_type": "stream",
     "text": [
      "\n",
      "AUUCGAUCCGGACCCAUGAUCCCG\n",
      "IleArgSerGlyProMetIlePro\n"
     ]
    }
   ],
   "source": [
    "### Generating amino acid translations of codons\n",
    "\n",
    "def aa_generator(rnaseq):\n",
    "    \"\"\"Return a generator object that produces an amino acid by\n",
    "    translating the next three characters of rnaseq each time nextn\n",
    "    is called on it\"\"\"\n",
    "    return (translate_RNA_codon(rnaseq[n:n+3])\n",
    "            for n in range(0, len(rnaseq), 3))\n",
    "\n",
    "seq = 'AUUCGAUCCGGACCCAUGAUCCCG'\n",
    "\n",
    "print()\n",
    "print(seq)\n",
    "gen = aa_generator(seq)\n",
    "assert 'Ile' == next(gen)\n",
    "assert 'Arg' == next(gen)\n",
    "assert 'Ser' == next(gen)\n",
    "assert 'Gly' == next(gen)\n",
    "assert 'Pro' == next(gen)\n",
    "assert 'Met' == next(gen)\n",
    "assert 'Ile' == next(gen)\n",
    "\n",
    "gen = aa_generator(seq)\n",
    "print(''.join(list(gen)))\n"
   ]
  },
  {
   "cell_type": "markdown",
   "metadata": {},
   "source": [
    "### Conditional Comprehensions\n",
    "* One or more tests can be added to determine the elements for which the comprehension expression will be evaluated. \n",
    "* This is called *filtering* and is implemented with a **conditional comprehension** \n",
    "\n",
    "`[expression for element in collection if test]`"
   ]
  },
  {
   "cell_type": "markdown",
   "metadata": {},
   "source": [
    "Extract just sequence descriptions from a FASTA file and split them into fields at their vertical bars."
   ]
  },
  {
   "cell_type": "code",
   "execution_count": 32,
   "metadata": {
    "scrolled": true
   },
   "outputs": [
    {
     "name": "stdout",
     "output_type": "stream",
     "text": [
      "[['gi', '6693791', 'gb', 'AAF24984.1', 'AF082179_1 (AF082179) HepA-related protein HARP [Homo sapiens]\\n'], ['gi', '6693793', 'gb', 'AAF24985.1', 'AF088884_1 (AF088884) HepA-related protein Harp [Mus musculus]\\n'], ['gi', '6693798', 'gb', 'AAF24986.1', 'AF116242_1 (AF116242) K-Cl cotransporter KCC3 [Homo sapiens]\\n'], ['gi', '6693800', 'gb', 'AAF24987.1', 'AF121349_1 (AF121349) HOAR-like protein [Neodiprion sertifer nucleopolyhedrovirus]\\n'], ['gi', '6693801', 'gb', 'AAF24988.1', 'AF121349_2 (AF121349) ORF22 [Neodiprion sertifer nucleopolyhedrovirus]\\n'], ['gi', '6693802', 'gb', 'AAF24989.1', 'AF121349_3 (AF121349) late expression factor 2 [Neodiprion sertifer nucleopolyhedrovirus]\\n'], ['gi', '6693803', 'gb', 'AAF24990.1', 'AF121349_4 (AF121349) late expression factor 5 [Neodiprion sertifer nucleopolyhedrovirus]\\n'], ['gi', '6693805', 'gb', 'AAF24991.1', ' (AF125506) astacin family metalloendopeptidase FARM-1 [Hydra vulgaris]\\n'], ['gi', '6693816', 'gb', 'AAF24994.1', 'AF129447_1 (AF129447) RpoB [Klebsiella ornithinolytica]\\n'], ['gi', '6693818', 'gb', 'AAF24995.1', 'AF129448_1 (AF129448) RpoB [Klebsiella terrigena]\\n']]\n"
     ]
    }
   ],
   "source": [
    "### Reading FASTA descriptions from a file\n",
    "def get_FASTA_descriptions(filename):\n",
    "    with open(filename) as file:\n",
    "        return [line[1:].split('|') for line in file if line[0] == '>']\n",
    "\n",
    "print(get_FASTA_descriptions('data/aa010.fasta'))"
   ]
  },
  {
   "cell_type": "code",
   "execution_count": 5,
   "metadata": {},
   "outputs": [
    {
     "name": "stdout",
     "output_type": "stream",
     "text": [
      "{'AAF24991.1', 'AAF24990.1', 'AAF24995.1', 'AAF24987.1', 'AAF24988.1', 'AAF24989.1', 'AAF24986.1', 'AAF24994.1', 'AAF24984.1', 'AAF24985.1'}\n"
     ]
    }
   ],
   "source": [
    "### Reading FASTA descriptions using set comprehension (Read 3rd field)\n",
    "\n",
    "def get_FASTA_codes(filename):\n",
    "    with open(filename) as file:\n",
    "        return {line.split('|')[3] for line in file\n",
    "                if line[0] == '>' and len(line.split('|')) > 2}\n",
    "\n",
    "#print(get_FASTA_codes('data/BacillusSubtilisPlastmidP1414.fasta'))\n",
    "print(get_FASTA_codes('data/aa010.fasta'))"
   ]
  },
  {
   "cell_type": "code",
   "execution_count": 35,
   "metadata": {},
   "outputs": [
    {
     "name": "stdout",
     "output_type": "stream",
     "text": [
      "{'6693803': 'MPPCSEKTLKDIEEIFLKFRRKKKWEDLIRYLKYKQPKCVKTFNLTGTGHKYHAMWAYNPITDKREKKQISLDVMKIQELHRITNNNSKLYVEIRKIMTDDHRCPCEEIKNYMQQIAEYKNNRSNKVFNTPPTKIVPNALEKILKNFTINLMIDKKPKKKITKSAHTIKHPPVLNIDYEHTLEFAGQTTVKEICKHASLGDTIEIQNRSFDEMVNLYTTCVQCKQMYKIQ', '6693805': 'MSSSNHIHVLRAIDEYHKHTCLKFVKRTNQDAYLSFYPGGGCSSLVGYVRGRINDVSLAGGCLRLGTVMHEIGHSIGLYHEQSRPDRDDHVTIIWNNIQSNMRFNFDKFDRNKINSLGFPYDYESMMHYESNAFGGGQVTIRTKDPSKQKLIGNRQGFSEIDKQQINAMYNCNRGGSTLPPSVPPTVSPVAQCVEGQDLDNRCLGWATSGYCTATDPAHLETMKKKCCKSCKESAICNDKNTRCDEWAKKGECKANPNWMLGNCSKSCLVC', '6693816': 'AAVKEFFGSSQLSQFMDQNNPLSEITHKRRISALGPGGLTRERAGFEVRDVHPTHYGRVCPIETPEGPNIGLINSLSVYAQTNEYGFLETPYRKVTDGVVTDEIHYLSAIEEGNYVIAQANSNLDDEGHFVEDLVTCRSKGESSLFSRDQVDYMDVSTQQVVSVGGSSERVL'}\n"
     ]
    }
   ],
   "source": [
    "### Constructing a selective dictionary\n",
    "\n",
    "def make_gi_indexed_sequence_dictionary(filename):\n",
    "    return {info[1]: seq for info, seq in read_FASTA(filename)\n",
    "            if len(info) >= 2 and info[0] == 'gi'}\n",
    "\n",
    "print(make_gi_indexed_sequence_dictionary('data/aa003.fasta'))"
   ]
  },
  {
   "cell_type": "code",
   "execution_count": 36,
   "metadata": {},
   "outputs": [
    {
     "name": "stdout",
     "output_type": "stream",
     "text": [
      "16\n"
     ]
    }
   ],
   "source": [
    "### Using a generator to find the first common element\n",
    "\n",
    "def first_common(collection1, collection2):\n",
    "    \"\"\"Return the first element in collection1 that is in collection2\"\"\"\n",
    "    return next((item for item in collection1 if item in collection2), None)\n",
    "\n",
    "print(first_common(range(1,22, 5), range(0, 22, 4)))"
   ]
  },
  {
   "cell_type": "markdown",
   "metadata": {},
   "source": [
    "### Nested Comprehensions\n",
    "* Comprehensions can have more than one for in them. When they do, the innermost ranges over its collection for each of the next one out’s collection, and so on. \n",
    "* It is rare to see more than two for sections in a comprehension, but occasionally three can be useful."
   ]
  },
  {
   "cell_type": "code",
   "execution_count": 6,
   "metadata": {
    "scrolled": true
   },
   "outputs": [
    {
     "name": "stdout",
     "output_type": "stream",
     "text": [
      "['CCC', 'CCA', 'CCG', 'CCT', 'CAC', 'CAA', 'CAG', 'CAT', 'CGC', 'CGA', 'CGG', 'CGT', 'CTC', 'CTA', 'CTG', 'CTT', 'ACC', 'ACA', 'ACG', 'ACT', 'AAC', 'AAA', 'AAG', 'AAT', 'AGC', 'AGA', 'AGG', 'AGT', 'ATC', 'ATA', 'ATG', 'ATT', 'GCC', 'GCA', 'GCG', 'GCT', 'GAC', 'GAA', 'GAG', 'GAT', 'GGC', 'GGA', 'GGG', 'GGT', 'GTC', 'GTA', 'GTG', 'GTT', 'TCC', 'TCA', 'TCG', 'TCT', 'TAC', 'TAA', 'TAG', 'TAT', 'TGC', 'TGA', 'TGG', 'TGT', 'TTC', 'TTA', 'TTG', 'TTT']\n"
     ]
    }
   ],
   "source": [
    "### A nested comprehension for generating codons\n",
    "\n",
    "def generate_triples(chars='TCAG'):\n",
    "    \"\"\"Return a list of all three-character combinations of unique\n",
    "    characters in chars\"\"\"\n",
    "    chars = set(chars)\n",
    "    return [b1 + b2 + b3 for b1 in chars for b2 in chars for b3 in chars]\n",
    "\n",
    "print(generate_triples())"
   ]
  },
  {
   "cell_type": "code",
   "execution_count": 7,
   "metadata": {},
   "outputs": [
    {
     "name": "stdout",
     "output_type": "stream",
     "text": [
      "{'GCC', 'CTT', 'AAC', 'TCA', 'GGT', 'CGT', 'GAC', 'TCT', 'AGG', 'CCT', 'TAT', 'TTC', 'ACT', 'CAG', 'TTT', 'GGA', 'GAA', 'CGC', 'GGG', 'CGG', 'TGG', 'CCG', 'TAC', 'GCG', 'TGA', 'AAT', 'GTT', 'GTG', 'CAA', 'GTC', 'AGT', 'CGA', 'CTC', 'TTA', 'CTG', 'ATA', 'GGC', 'TAA', 'TGC', 'GAG', 'CCA', 'AGA', 'GCA', 'TGT', 'CCC', 'AAA', 'CAC', 'AAG', 'ACC', 'ACG', 'TAG', 'TTG', 'CTA', 'AGC', 'GCT', 'ATG', 'GAT', 'GTA', 'TCG', 'CAT', 'TCC', 'ACA', 'ATT', 'ATC'}\n"
     ]
    }
   ],
   "source": [
    "print(set(generate_triples()))"
   ]
  },
  {
   "cell_type": "markdown",
   "metadata": {},
   "source": [
    "### Functional Parameters\n",
    "* We will discuss the the`key` parameter associated with few functions & methods\n",
    "#### `key` parameter"
   ]
  },
  {
   "cell_type": "code",
   "execution_count": 1,
   "metadata": {},
   "outputs": [
    {
     "data": {
      "text/plain": [
       "6"
      ]
     },
     "execution_count": 1,
     "metadata": {},
     "output_type": "execute_result"
    }
   ],
   "source": [
    "max(range(3, 7), key=abs)"
   ]
  },
  {
   "cell_type": "code",
   "execution_count": 8,
   "metadata": {},
   "outputs": [
    {
     "data": {
      "text/plain": [
       "2"
      ]
     },
     "execution_count": 8,
     "metadata": {},
     "output_type": "execute_result"
    }
   ],
   "source": [
    "max(range(-7, 3))"
   ]
  },
  {
   "cell_type": "code",
   "execution_count": 2,
   "metadata": {},
   "outputs": [
    {
     "data": {
      "text/plain": [
       "-7"
      ]
     },
     "execution_count": 2,
     "metadata": {},
     "output_type": "execute_result"
    }
   ],
   "source": [
    "max(range(-7, 3), key=abs)"
   ]
  },
  {
   "cell_type": "markdown",
   "metadata": {},
   "source": [
    "The value of the `key` argument is called on each element of the collection.\n",
    "***\n",
    "Consider a list `seq_list` containing RNA base sequences. We could select the sequence with the lowest GC content by calling min with `key = gc_content`."
   ]
  },
  {
   "cell_type": "markdown",
   "metadata": {},
   "source": [
    "The method `list.sort` was described. It too can take an optional key parameter - the value of key is called on each element, and the elements of the list are sorted according to the values returned."
   ]
  },
  {
   "cell_type": "code",
   "execution_count": 9,
   "metadata": {},
   "outputs": [],
   "source": [
    "lst = ['T', 'G', 'A', 'G', 't', 'g', 'a', 'g']"
   ]
  },
  {
   "cell_type": "code",
   "execution_count": 10,
   "metadata": {},
   "outputs": [
    {
     "data": {
      "text/plain": [
       "['T', 'G', 'A', 'G', 't', 'g', 'a', 'g']"
      ]
     },
     "execution_count": 10,
     "metadata": {},
     "output_type": "execute_result"
    }
   ],
   "source": [
    "lst"
   ]
  },
  {
   "cell_type": "code",
   "execution_count": 11,
   "metadata": {},
   "outputs": [],
   "source": [
    "lst.sort()"
   ]
  },
  {
   "cell_type": "code",
   "execution_count": 12,
   "metadata": {},
   "outputs": [
    {
     "data": {
      "text/plain": [
       "['A', 'G', 'G', 'T', 'a', 'g', 'g', 't']"
      ]
     },
     "execution_count": 12,
     "metadata": {},
     "output_type": "execute_result"
    }
   ],
   "source": [
    "lst "
   ]
  },
  {
   "cell_type": "code",
   "execution_count": 7,
   "metadata": {},
   "outputs": [],
   "source": [
    "lst.sort(key=str.lower)"
   ]
  },
  {
   "cell_type": "code",
   "execution_count": 8,
   "metadata": {},
   "outputs": [
    {
     "data": {
      "text/plain": [
       "['A', 'a', 'G', 'G', 'g', 'g', 'T', 't']"
      ]
     },
     "execution_count": 8,
     "metadata": {},
     "output_type": "execute_result"
    }
   ],
   "source": [
    "lst"
   ]
  },
  {
   "cell_type": "code",
   "execution_count": 9,
   "metadata": {},
   "outputs": [
    {
     "data": {
      "text/plain": [
       "['AACCTGTCCGGCTA', 'TACCTATACCGGCTA', 'cacctctaccgta']"
      ]
     },
     "execution_count": 9,
     "metadata": {},
     "output_type": "execute_result"
    }
   ],
   "source": [
    "seqs = ['TACCTATACCGGCTA', 'cacctctaccgta', 'AACCTGTCCGGCTA']\n",
    "seqs.sort()\n",
    "seqs"
   ]
  },
  {
   "cell_type": "code",
   "execution_count": 10,
   "metadata": {},
   "outputs": [
    {
     "data": {
      "text/plain": [
       "['AACCTGTCCGGCTA', 'cacctctaccgta', 'TACCTATACCGGCTA']"
      ]
     },
     "execution_count": 10,
     "metadata": {},
     "output_type": "execute_result"
    }
   ],
   "source": [
    "seqs = ['TACCTATACCGGCTA', 'cacctctaccgta', 'AACCTGTCCGGCTA']\n",
    "seqs.sort(key = str.lower)\n",
    "seqs"
   ]
  },
  {
   "cell_type": "markdown",
   "metadata": {},
   "source": [
    "### Anonymous Functions\n",
    "* functions and methods are objects that can be passed down as parameters\n",
    "* The `def` statement creates a function object and names it.\n",
    "* There are many situations in which a functional parameter avoids a great deal of repetitive code.\n",
    "***\n",
    "* Python has a mechanism for defining lightweight functions without using `def`. \n",
    "* These functions don’t have names - they are *anonymous*. \n",
    "* Although they are functions, they are defined by an expression, not a statement. This kind of expression is called a **lambda expression**.\n",
    "  <br> Syntax: `lambda args: expression-using-args`\n"
   ]
  },
  {
   "cell_type": "code",
   "execution_count": 11,
   "metadata": {},
   "outputs": [],
   "source": [
    "def fn (x,y):\n",
    "    return x*x + y*y\n",
    "\n",
    "fn = lambda x, y: x*x + y*y"
   ]
  },
  {
   "cell_type": "code",
   "execution_count": 12,
   "metadata": {},
   "outputs": [
    {
     "name": "stdout",
     "output_type": "stream",
     "text": [
      "\n",
      "some(range(5)) is True\n",
      "some((None, , 0)) is False\n",
      "some(range(5), lambda x: x > 5) is False\n",
      "some(range(5), lambda x: x > 3) is True\n"
     ]
    }
   ],
   "source": [
    "### Definition of a function with a functional argument\n",
    "\n",
    "def some(coll, pred=lambda x: x):\n",
    "    \"\"\"Return true if pred(item) is true for some item in coll\"\"\"\n",
    "    return next((True for item in coll if pred(item)), False)\n",
    "\n",
    "print()\n",
    "print('some(range(5)) is', some(range(5)))\n",
    "print('some((None, '', 0)) is', some((None, '', 0)))\n",
    "print('some(range(5), lambda x: x > 5) is', some(range(5), lambda x: x > 5))\n",
    "print('some(range(5), lambda x: x > 3) is', some(range(5), lambda x: x > 3))"
   ]
  },
  {
   "cell_type": "markdown",
   "metadata": {},
   "source": [
    "Sorting a list of strings in mixed case, suppose we want to order them by size first, and then alphabetically"
   ]
  },
  {
   "cell_type": "code",
   "execution_count": 13,
   "metadata": {},
   "outputs": [],
   "source": [
    "l = [(3, 'abc'), (5, 'ghijk'), (5, 'abcde'), (2, 'bd')]"
   ]
  },
  {
   "cell_type": "code",
   "execution_count": 14,
   "metadata": {},
   "outputs": [
    {
     "data": {
      "text/plain": [
       "[(2, 'bd'), (3, 'abc'), (5, 'abcde'), (5, 'ghijk')]"
      ]
     },
     "execution_count": 14,
     "metadata": {},
     "output_type": "execute_result"
    }
   ],
   "source": [
    "l.sort()\n",
    "l"
   ]
  },
  {
   "cell_type": "code",
   "execution_count": 15,
   "metadata": {},
   "outputs": [],
   "source": [
    "l = ['abc', 'ghijk', 'abcde', 'bd']"
   ]
  },
  {
   "cell_type": "code",
   "execution_count": 16,
   "metadata": {},
   "outputs": [
    {
     "data": {
      "text/plain": [
       "['bd', 'abc', 'abcde', 'ghijk']"
      ]
     },
     "execution_count": 16,
     "metadata": {},
     "output_type": "execute_result"
    }
   ],
   "source": [
    "l.sort(key=lambda seq:(len(seq), seq.lower()))\n",
    "l    "
   ]
  }
 ],
 "metadata": {
  "kernelspec": {
   "display_name": "Python 3",
   "language": "python",
   "name": "python3"
  },
  "language_info": {
   "codemirror_mode": {
    "name": "ipython",
    "version": 3
   },
   "file_extension": ".py",
   "mimetype": "text/x-python",
   "name": "python",
   "nbconvert_exporter": "python",
   "pygments_lexer": "ipython3",
   "version": "3.6.5"
  }
 },
 "nbformat": 4,
 "nbformat_minor": 2
}
