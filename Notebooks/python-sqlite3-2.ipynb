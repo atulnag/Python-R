{
 "cells": [
  {
   "cell_type": "markdown",
   "metadata": {},
   "source": [
    "# SQLite3 & Python - II"
   ]
  },
  {
   "cell_type": "code",
   "execution_count": 3,
   "metadata": {},
   "outputs": [
    {
     "name": "stdout",
     "output_type": "stream",
     "text": [
      "Audi\n",
      "Mercedes\n",
      "Skoda\n",
      "Volvo\n",
      "Bentley\n",
      "Citroen\n",
      "Hummer\n",
      "Volkswagen\n"
     ]
    }
   ],
   "source": [
    "import sqlite3\n",
    "import sys\n",
    "\n",
    "try:\n",
    "    db = sqlite3.connect('data/cars.db')\n",
    "    cur = db.cursor()\n",
    "    \n",
    "    fh = open(\"data/cars.sql\")\n",
    "    cars = fh.read()\n",
    "    cur.executescript(cars)\n",
    "    db.commit()\n",
    "    \n",
    "    cur.execute('''SELECT * FROM Cars''')\n",
    "    rows = cur.fetchall()\n",
    "    \n",
    "    for row in rows:\n",
    "        print(row[1])\n",
    "        \n",
    "except e:\n",
    "    if db:\n",
    "        db.rollback()\n",
    "    print(\"Error %s\" % e.args[0])\n",
    "    #sys.exit(1)\n",
    "finally:\n",
    "    if db:\n",
    "        db.close()"
   ]
  },
  {
   "cell_type": "code",
   "execution_count": 4,
   "metadata": {},
   "outputs": [
    {
     "name": "stdout",
     "output_type": "stream",
     "text": [
      "1 Audi 52642\n",
      "2 Mercedes 57127\n",
      "3 Skoda 9000\n",
      "4 Volvo 29000\n",
      "5 Bentley 350000\n",
      "6 Citroen 21000\n",
      "7 Hummer 41400\n",
      "8 Volkswagen 21600\n"
     ]
    }
   ],
   "source": [
    "import sqlite3\n",
    "\n",
    "db = sqlite3.connect('data/cars.db')\n",
    "\n",
    "with db:\n",
    "    db.row_factory = sqlite3.Row\n",
    "    \n",
    "    cur = db.cursor()\n",
    "    cur.execute('''SELECT * FROM Cars''')\n",
    "    \n",
    "    rows = cur.fetchall()\n",
    "    \n",
    "    for row in rows:\n",
    "        print(\"%s %s %s\" % (row[\"Id\"], row[\"Name\"], row[\"Price\"]))"
   ]
  }
 ],
 "metadata": {
  "kernelspec": {
   "display_name": "Python 3",
   "language": "python",
   "name": "python3"
  },
  "language_info": {
   "codemirror_mode": {
    "name": "ipython",
    "version": 3
   },
   "file_extension": ".py",
   "mimetype": "text/x-python",
   "name": "python",
   "nbconvert_exporter": "python",
   "pygments_lexer": "ipython3",
   "version": "3.6.5"
  }
 },
 "nbformat": 4,
 "nbformat_minor": 2
}
