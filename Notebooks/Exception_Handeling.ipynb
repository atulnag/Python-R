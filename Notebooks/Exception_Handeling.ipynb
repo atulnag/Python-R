{
 "cells": [
  {
   "cell_type": "markdown",
   "metadata": {},
   "source": [
    "# Exception Handeling"
   ]
  },
  {
   "cell_type": "markdown",
   "metadata": {},
   "source": [
    "Exception handeling deals with handeling Python errors generated runtime.\n",
    "<img src=\"../docs/images/runtime_errors.png\">"
   ]
  },
  {
   "cell_type": "markdown",
   "metadata": {},
   "source": [
    "The basic form of a statement that handles an exception is:\n",
    "```\n",
    "try:\n",
    "    try-statements\n",
    "except ErrorClass:\n",
    "    except-statements\n",
    "```\n",
    "try statement options include:\n",
    "* Binding a name to the exception object caught by an except clause by following the exception class name with as and a name, allowing the statements in the clause to use details from the exception instance\n",
    "* Multiple except clauses, each naming a different condition \n",
    "* except clauses that specify a list of error types instead of just one\n",
    "* A final except clause with no exception class to catch any exception not caught in one of the other except clauses\n",
    "* A finally clause whose statements are always executed, regardless of whether an error occurs-in fact, the statements in a finally clause are executed even if the try clause or an except clause executes a return\n",
    "\n",
    "template that shows the use of all of these features together:\n",
    "```\n",
    "try:\n",
    "    statements\n",
    "except ErrorClass1:\n",
    "    statements1\n",
    "except (ErrorClass2, ErrorClass3):\n",
    "    statements2\n",
    "except ErrorClass4 as err:\n",
    "    statements that can refer to err\n",
    "except:\n",
    "    statements that are executed if an error occurs\n",
    "    whose type is not in one of the above except clauses\n",
    "finally:\n",
    "    statements that always get executed, whether or not an error occurs\n",
    "```"
   ]
  },
  {
   "cell_type": "code",
   "execution_count": 2,
   "metadata": {},
   "outputs": [
    {
     "name": "stdout",
     "output_type": "stream",
     "text": [
      "Enter FASTA file names, separated by spaces: data/aa003.fasta\n",
      "['6693803', '6693805', '6693816']\n"
     ]
    }
   ],
   "source": [
    "### Collecting GenInfo IDs of the sequences in FASTA files\n",
    "\n",
    "def extract_gi_id(description):\n",
    "    \"\"\"Given a FASTA file description line, return its GenInfo ID if\n",
    "    it has one\"\"\"\n",
    "    if description[0] != '>':\n",
    "        return None\n",
    "    fields = description[1:].split('|')\n",
    "    if 'gi' not in fields:\n",
    "        return None\n",
    "    return fields[1 + fields.index('gi')]\n",
    "\n",
    "def get_gi_ids(filename):\n",
    "    \"\"\"Return a list of GenInfo IDs from the sequences in the FASTA\n",
    "    file named filename\"\"\"\n",
    "    with open(filename) as file:\n",
    "        return [extract_gi_id(line) for line in file if line[0] == '>']\n",
    "\n",
    "def get_gi_ids_from_files(filenames):\n",
    "    \"\"\"Return a list of GenInfo IDs from the sequences in the FASTA\n",
    "    files whose names are in the collection filenames\"\"\"\n",
    "    idlst = []\n",
    "    for filename in filenames:\n",
    "        idlst += get_gi_ids(filename)\n",
    "    return idlst\n",
    "\n",
    "def get_gi_ids_from_user_files():\n",
    "    response = input(\"Enter FASTA file names, separated by spaces: \")\n",
    "    lst = get_gi_ids_from_files(response.split())   # assuming no spaces in file names\n",
    "    lst.sort()\n",
    "    print(lst)\n",
    "\n",
    "get_gi_ids_from_user_files()"
   ]
  },
  {
   "cell_type": "code",
   "execution_count": 3,
   "metadata": {},
   "outputs": [
    {
     "name": "stdout",
     "output_type": "stream",
     "text": [
      "Enter FASTA file names, separated by spaces: aa003.fasta\n",
      "File aa003.fasta not found or not readable.\n",
      "[]\n"
     ]
    }
   ],
   "source": [
    "def get_gi_ids(filename):\n",
    "    \"\"\"Return a list of GenInfo IDs from the sequences in the FASTA\n",
    "    file named filename\"\"\"\n",
    "    try:\n",
    "        with open(filename) as file:\n",
    "            return [extract_gi_id(line) for line in file if line[0] == '>']\n",
    "    except IOError:\n",
    "        print('File', filename, 'not found or not readable.')\n",
    "        return []\n",
    "get_gi_ids_from_user_files()"
   ]
  }
 ],
 "metadata": {
  "kernelspec": {
   "display_name": "Python 3",
   "language": "python",
   "name": "python3"
  },
  "language_info": {
   "codemirror_mode": {
    "name": "ipython",
    "version": 3
   },
   "file_extension": ".py",
   "mimetype": "text/x-python",
   "name": "python",
   "nbconvert_exporter": "python",
   "pygments_lexer": "ipython3",
   "version": "3.6.5"
  }
 },
 "nbformat": 4,
 "nbformat_minor": 2
}
