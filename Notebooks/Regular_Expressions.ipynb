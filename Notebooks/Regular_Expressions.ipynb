{
 "cells": [
  {
   "cell_type": "markdown",
   "metadata": {},
   "source": [
    "# Regular Expressions"
   ]
  },
  {
   "cell_type": "markdown",
   "metadata": {},
   "source": [
    "* So far we have been reading through files, looking for patterns and extracting various bits of lines that we find interesting. We have been using string methods like `split` and `find` and using lists and string slicing to extract portions of the lines.\n",
    "* This task of searching and extracting is so common that Python has a very powerful library called *regular expressions* that handles many of these tasks quite elegantly.\n",
    "* we will only cover the basics of regular expressions. For more detail on regular expressions, see:\n",
    " * http://en.wikipedia.org/wiki/Regular_expression\n",
    " * https://docs.python.org/3.6/library/re.html\n",
    "* The regular expression library `re` must be imported into your program before you can use it. \n",
    "* The simplest use of the regular expression library is the `search()` function."
   ]
  },
  {
   "cell_type": "code",
   "execution_count": 2,
   "metadata": {},
   "outputs": [],
   "source": [
    "import re"
   ]
  },
  {
   "cell_type": "code",
   "execution_count": 3,
   "metadata": {},
   "outputs": [
    {
     "name": "stdout",
     "output_type": "stream",
     "text": [
      "From: stephen.marquard@uct.ac.za\n",
      "From: louis@media.berkeley.edu\n",
      "From: zqian@umich.edu\n",
      "From: rjlowe@iupui.edu\n",
      "From: zqian@umich.edu\n",
      "From: rjlowe@iupui.edu\n",
      "From: cwen@iupui.edu\n",
      "From: cwen@iupui.edu\n",
      "From: gsilver@umich.edu\n",
      "From: gsilver@umich.edu\n",
      "From: zqian@umich.edu\n",
      "From: gsilver@umich.edu\n",
      "From: wagnermr@iupui.edu\n",
      "From: zqian@umich.edu\n",
      "From: antranig@caret.cam.ac.uk\n",
      "From: gopal.ramasammycook@gmail.com\n",
      "From: david.horwitz@uct.ac.za\n",
      "From: david.horwitz@uct.ac.za\n",
      "From: david.horwitz@uct.ac.za\n",
      "From: david.horwitz@uct.ac.za\n",
      "From: stephen.marquard@uct.ac.za\n",
      "From: louis@media.berkeley.edu\n",
      "From: louis@media.berkeley.edu\n",
      "From: ray@media.berkeley.edu\n",
      "From: cwen@iupui.edu\n",
      "From: cwen@iupui.edu\n",
      "From: cwen@iupui.edu\n"
     ]
    }
   ],
   "source": [
    "# Search for lines that contain 'From'\n",
    "with open('data/mbox-short.txt') as hand:\n",
    "    for line in hand:\n",
    "        line = line.rstrip()\n",
    "        if re.search('From:', line):\n",
    "            print(line)"
   ]
  },
  {
   "cell_type": "markdown",
   "metadata": {},
   "source": [
    "* We open the file, loop through each line, and use the regular expression `search()` to only print out lines that contain the string \"From:\". \n",
    "* This program does not use the real power of regular expressions, since we could have just as easily used `line.find()` to accomplish the same result.\n",
    "* The power of the regular expressions comes when we add special characters to the search string that allow us to more precisely control which lines match the string.\n",
    "* Adding these special characters to our regular expression allow us to do sophisticated matching and extraction while writing very little code.\n",
    "* For example, the caret character is used in regular expressions to match \"the beginning\" of a line. We could change our program to only match lines where \"From:\" was at the beginning of the line as follows:"
   ]
  },
  {
   "cell_type": "code",
   "execution_count": 4,
   "metadata": {},
   "outputs": [
    {
     "name": "stdout",
     "output_type": "stream",
     "text": [
      "From: stephen.marquard@uct.ac.za\n",
      "From: louis@media.berkeley.edu\n",
      "From: zqian@umich.edu\n",
      "From: rjlowe@iupui.edu\n",
      "From: zqian@umich.edu\n",
      "From: rjlowe@iupui.edu\n",
      "From: cwen@iupui.edu\n",
      "From: cwen@iupui.edu\n",
      "From: gsilver@umich.edu\n",
      "From: gsilver@umich.edu\n",
      "From: zqian@umich.edu\n",
      "From: gsilver@umich.edu\n",
      "From: wagnermr@iupui.edu\n",
      "From: zqian@umich.edu\n",
      "From: antranig@caret.cam.ac.uk\n",
      "From: gopal.ramasammycook@gmail.com\n",
      "From: david.horwitz@uct.ac.za\n",
      "From: david.horwitz@uct.ac.za\n",
      "From: david.horwitz@uct.ac.za\n",
      "From: david.horwitz@uct.ac.za\n",
      "From: stephen.marquard@uct.ac.za\n",
      "From: louis@media.berkeley.edu\n",
      "From: louis@media.berkeley.edu\n",
      "From: ray@media.berkeley.edu\n",
      "From: cwen@iupui.edu\n",
      "From: cwen@iupui.edu\n",
      "From: cwen@iupui.edu\n"
     ]
    }
   ],
   "source": [
    "# Search for lines that start with 'From'\n",
    "with open('data/mbox-short.txt') as hand:\n",
    "    for line in hand:\n",
    "        line = line.rstrip()\n",
    "        if re.search('^From:', line):\n",
    "            print(line)"
   ]
  },
  {
   "cell_type": "markdown",
   "metadata": {},
   "source": [
    "* This is still a very simple example that we could have done equivalently with the `startswith()` method from the string library. \n",
    "* But it serves to introduce the notion that regular expressions contain special action characters that give us more control as to what will match the regular expression."
   ]
  },
  {
   "cell_type": "markdown",
   "metadata": {},
   "source": [
    "## Character Matching in Regular Expressions"
   ]
  },
  {
   "cell_type": "markdown",
   "metadata": {},
   "source": [
    "* `.` is used to match any character\n",
    "  * Eg. the regular expression `\"F..m:\"` would match any of the strings `\"From:\"`, `\"Fxxm:\"`, `\"F12m:\"`, or `\"F!@m:\"`"
   ]
  },
  {
   "cell_type": "code",
   "execution_count": 5,
   "metadata": {},
   "outputs": [
    {
     "name": "stdout",
     "output_type": "stream",
     "text": [
      "From stephen.marquard@uct.ac.za Sat Jan  5 09:14:16 2008\n",
      "From: stephen.marquard@uct.ac.za\n",
      "From louis@media.berkeley.edu Fri Jan  4 18:10:48 2008\n",
      "From: louis@media.berkeley.edu\n",
      "From zqian@umich.edu Fri Jan  4 16:10:39 2008\n",
      "From: zqian@umich.edu\n",
      "From rjlowe@iupui.edu Fri Jan  4 15:46:24 2008\n",
      "From: rjlowe@iupui.edu\n",
      "From zqian@umich.edu Fri Jan  4 15:03:18 2008\n",
      "From: zqian@umich.edu\n",
      "From rjlowe@iupui.edu Fri Jan  4 14:50:18 2008\n",
      "From: rjlowe@iupui.edu\n",
      "From cwen@iupui.edu Fri Jan  4 11:37:30 2008\n",
      "From: cwen@iupui.edu\n",
      "From cwen@iupui.edu Fri Jan  4 11:35:08 2008\n",
      "From: cwen@iupui.edu\n",
      "From gsilver@umich.edu Fri Jan  4 11:12:37 2008\n",
      "From: gsilver@umich.edu\n",
      "From gsilver@umich.edu Fri Jan  4 11:11:52 2008\n",
      "From: gsilver@umich.edu\n",
      "From zqian@umich.edu Fri Jan  4 11:11:03 2008\n",
      "From: zqian@umich.edu\n",
      "From gsilver@umich.edu Fri Jan  4 11:10:22 2008\n",
      "From: gsilver@umich.edu\n",
      "From wagnermr@iupui.edu Fri Jan  4 10:38:42 2008\n",
      "From: wagnermr@iupui.edu\n",
      "From zqian@umich.edu Fri Jan  4 10:17:43 2008\n",
      "From: zqian@umich.edu\n",
      "From antranig@caret.cam.ac.uk Fri Jan  4 10:04:14 2008\n",
      "From: antranig@caret.cam.ac.uk\n",
      "From gopal.ramasammycook@gmail.com Fri Jan  4 09:05:31 2008\n",
      "From: gopal.ramasammycook@gmail.com\n",
      "From david.horwitz@uct.ac.za Fri Jan  4 07:02:32 2008\n",
      "From: david.horwitz@uct.ac.za\n",
      "From david.horwitz@uct.ac.za Fri Jan  4 06:08:27 2008\n",
      "From: david.horwitz@uct.ac.za\n",
      "From david.horwitz@uct.ac.za Fri Jan  4 04:49:08 2008\n",
      "From: david.horwitz@uct.ac.za\n",
      "From david.horwitz@uct.ac.za Fri Jan  4 04:33:44 2008\n",
      "From: david.horwitz@uct.ac.za\n",
      "From stephen.marquard@uct.ac.za Fri Jan  4 04:07:34 2008\n",
      "From: stephen.marquard@uct.ac.za\n",
      "From louis@media.berkeley.edu Thu Jan  3 19:51:21 2008\n",
      "From: louis@media.berkeley.edu\n",
      "From louis@media.berkeley.edu Thu Jan  3 17:18:23 2008\n",
      "From: louis@media.berkeley.edu\n",
      "From ray@media.berkeley.edu Thu Jan  3 17:07:00 2008\n",
      "From: ray@media.berkeley.edu\n",
      "From cwen@iupui.edu Thu Jan  3 16:34:40 2008\n",
      "From: cwen@iupui.edu\n",
      "From cwen@iupui.edu Thu Jan  3 16:29:07 2008\n",
      "From: cwen@iupui.edu\n",
      "From cwen@iupui.edu Thu Jan  3 16:23:48 2008\n",
      "From: cwen@iupui.edu\n"
     ]
    }
   ],
   "source": [
    "fh = open('data/mbox-short.txt')\n",
    "for line in fh:\n",
    "    line = line.rstrip()\n",
    "    if re.search('^F..m', line):\n",
    "        print(line)"
   ]
  },
  {
   "cell_type": "markdown",
   "metadata": {},
   "source": [
    "* `*` matches the previous character zero or more times\n",
    "* `+` matches the previous character one or more times"
   ]
  },
  {
   "cell_type": "code",
   "execution_count": 6,
   "metadata": {},
   "outputs": [
    {
     "name": "stdout",
     "output_type": "stream",
     "text": [
      "From: stephen.marquard@uct.ac.za\n",
      "From: louis@media.berkeley.edu\n",
      "From: zqian@umich.edu\n",
      "From: rjlowe@iupui.edu\n",
      "From: zqian@umich.edu\n",
      "From: rjlowe@iupui.edu\n",
      "From: cwen@iupui.edu\n",
      "From: cwen@iupui.edu\n",
      "From: gsilver@umich.edu\n",
      "From: gsilver@umich.edu\n",
      "From: zqian@umich.edu\n",
      "From: gsilver@umich.edu\n",
      "From: wagnermr@iupui.edu\n",
      "From: zqian@umich.edu\n",
      "From: antranig@caret.cam.ac.uk\n",
      "From: gopal.ramasammycook@gmail.com\n",
      "From: david.horwitz@uct.ac.za\n",
      "From: david.horwitz@uct.ac.za\n",
      "From: david.horwitz@uct.ac.za\n",
      "From: david.horwitz@uct.ac.za\n",
      "From: stephen.marquard@uct.ac.za\n",
      "From: louis@media.berkeley.edu\n",
      "From: louis@media.berkeley.edu\n",
      "From: ray@media.berkeley.edu\n",
      "From: cwen@iupui.edu\n",
      "From: cwen@iupui.edu\n",
      "From: cwen@iupui.edu\n"
     ]
    }
   ],
   "source": [
    "fh = open('data/mbox-short.txt')\n",
    "for line in fh:\n",
    "    line = line.rstrip()\n",
    "    if re.search('^From:.+@', line):\n",
    "        print(line)"
   ]
  },
  {
   "cell_type": "markdown",
   "metadata": {},
   "source": [
    "## Extracting data using regular expressions"
   ]
  },
  {
   "cell_type": "markdown",
   "metadata": {},
   "source": [
    "* `findall()` - method to extract all of the substrings which match a regular expression."
   ]
  },
  {
   "cell_type": "code",
   "execution_count": 8,
   "metadata": {},
   "outputs": [
    {
     "name": "stdout",
     "output_type": "stream",
     "text": [
      "['stephen.marquard@uct.ac.za', '<postmaster@collab.sakaiproject.org>', '<200801051412.m05ECIaH010327@nakamura.uits.iupui.edu>', '<source@collab.sakaiproject.org>;', '<source@collab.sakaiproject.org>;', '<source@collab.sakaiproject.org>;', 'apache@localhost)', 'source@collab.sakaiproject.org;', 'stephen.marquard@uct.ac.za', 'source@collab.sakaiproject.org', 'stephen.marquard@uct.ac.za', 'stephen.marquard@uct.ac.za', 'louis@media.berkeley.edu', '<postmaster@collab.sakaiproject.org>', '<200801042308.m04N8v6O008125@nakamura.uits.iupui.edu>', '<source@collab.sakaiproject.org>;', '<source@collab.sakaiproject.org>;', '<source@collab.sakaiproject.org>;', 'apache@localhost)', 'source@collab.sakaiproject.org;', 'louis@media.berkeley.edu', 'source@collab.sakaiproject.org', 'louis@media.berkeley.edu', 'louis@media.berkeley.edu', 'zqian@umich.edu', '<postmaster@collab.sakaiproject.org>', '<200801042109.m04L92hb007923@nakamura.uits.iupui.edu>', '<source@collab.sakaiproject.org>;', '<source@collab.sakaiproject.org>;', '<source@collab.sakaiproject.org>;', 'apache@localhost)', 'source@collab.sakaiproject.org;', 'zqian@umich.edu', 'source@collab.sakaiproject.org', 'zqian@umich.edu', 'zqian@umich.edu', 'rjlowe@iupui.edu', '<postmaster@collab.sakaiproject.org>', '<200801042044.m04Kiem3007881@nakamura.uits.iupui.edu>', '<source@collab.sakaiproject.org>;', '<source@collab.sakaiproject.org>;', '<source@collab.sakaiproject.org>;', 'apache@localhost)', 'source@collab.sakaiproject.org;', 'rjlowe@iupui.edu', 'source@collab.sakaiproject.org', 'rjlowe@iupui.edu', 'rjlowe@iupui.edu', 'zqian@umich.edu', '<postmaster@collab.sakaiproject.org>', '<200801042001.m04K1cO0007738@nakamura.uits.iupui.edu>', '<source@collab.sakaiproject.org>;', '<source@collab.sakaiproject.org>;', '<source@collab.sakaiproject.org>;', 'apache@localhost)', 'source@collab.sakaiproject.org;', 'zqian@umich.edu', 'source@collab.sakaiproject.org', 'zqian@umich.edu', 'zqian@umich.edu', 'zqian@umich.edu', 'rjlowe@iupui.edu', '<postmaster@collab.sakaiproject.org>', '<200801041948.m04JmdwO007705@nakamura.uits.iupui.edu>', '<source@collab.sakaiproject.org>;', '<source@collab.sakaiproject.org>;', '<source@collab.sakaiproject.org>;', 'apache@localhost)', 'source@collab.sakaiproject.org;', 'rjlowe@iupui.edu', 'source@collab.sakaiproject.org', 'rjlowe@iupui.edu', 'rjlowe@iupui.edu', 'cwen@iupui.edu', '<postmaster@collab.sakaiproject.org>', '<200801041635.m04GZQGZ007313@nakamura.uits.iupui.edu>', '<source@collab.sakaiproject.org>;', '<source@collab.sakaiproject.org>;', '<source@collab.sakaiproject.org>;', 'apache@localhost)', 'source@collab.sakaiproject.org;', 'cwen@iupui.edu', 'source@collab.sakaiproject.org', 'cwen@iupui.edu', 'cwen@iupui.edu', 'hu2@iupui.edu', 'cwen@iupui.edu', '<postmaster@collab.sakaiproject.org>', '<200801041633.m04GX6eG007292@nakamura.uits.iupui.edu>', '<source@collab.sakaiproject.org>;', '<source@collab.sakaiproject.org>;', '<source@collab.sakaiproject.org>;', 'apache@localhost)', 'source@collab.sakaiproject.org;', 'cwen@iupui.edu', 'source@collab.sakaiproject.org', 'cwen@iupui.edu', 'cwen@iupui.edu', 'hu2@iupui.edu', 'gsilver@umich.edu', '<postmaster@collab.sakaiproject.org>', '<200801041611.m04GB1Lb007221@nakamura.uits.iupui.edu>', '<source@collab.sakaiproject.org>;', '<source@collab.sakaiproject.org>;', '<source@collab.sakaiproject.org>;', 'apache@localhost)', 'source@collab.sakaiproject.org;', 'gsilver@umich.edu', 'source@collab.sakaiproject.org', 'gsilver@umich.edu', 'gsilver@umich.edu', 'gsilver@umich.edu', '<postmaster@collab.sakaiproject.org>', '<200801041610.m04GA5KP007209@nakamura.uits.iupui.edu>', '<source@collab.sakaiproject.org>;', '<source@collab.sakaiproject.org>;', '<source@collab.sakaiproject.org>;', 'apache@localhost)', 'source@collab.sakaiproject.org;', 'gsilver@umich.edu', 'source@collab.sakaiproject.org', 'gsilver@umich.edu', 'gsilver@umich.edu', 'zqian@umich.edu', '<postmaster@collab.sakaiproject.org>', '<200801041609.m04G9EuX007197@nakamura.uits.iupui.edu>', '<source@collab.sakaiproject.org>;', '<source@collab.sakaiproject.org>;', '<source@collab.sakaiproject.org>;', 'apache@localhost)', 'source@collab.sakaiproject.org;', 'zqian@umich.edu', 'source@collab.sakaiproject.org', 'zqian@umich.edu', 'zqian@umich.edu', 'gsilver@umich.edu', '<postmaster@collab.sakaiproject.org>', '<200801041608.m04G8d7w007184@nakamura.uits.iupui.edu>', '<source@collab.sakaiproject.org>;', '<source@collab.sakaiproject.org>;', '<source@collab.sakaiproject.org>;', 'apache@localhost)', 'source@collab.sakaiproject.org;', 'gsilver@umich.edu', 'source@collab.sakaiproject.org', 'gsilver@umich.edu', 'gsilver@umich.edu', 'wagnermr@iupui.edu', '<postmaster@collab.sakaiproject.org>', '<200801041537.m04Fb6Ci007092@nakamura.uits.iupui.edu>', '<source@collab.sakaiproject.org>;', '<source@collab.sakaiproject.org>;', '<source@collab.sakaiproject.org>;', 'apache@localhost)', 'source@collab.sakaiproject.org;', 'wagnermr@iupui.edu', 'source@collab.sakaiproject.org', 'wagnermr@iupui.edu', 'wagnermr@iupui.edu', 'zqian@umich.edu', '<postmaster@collab.sakaiproject.org>', '<200801041515.m04FFv42007050@nakamura.uits.iupui.edu>', '<source@collab.sakaiproject.org>;', '<source@collab.sakaiproject.org>;', '<source@collab.sakaiproject.org>;', 'apache@localhost)', 'source@collab.sakaiproject.org;', 'zqian@umich.edu', 'source@collab.sakaiproject.org', 'zqian@umich.edu', 'zqian@umich.edu', 'antranig@caret.cam.ac.uk', '<postmaster@collab.sakaiproject.org>', '<200801041502.m04F21Jo007031@nakamura.uits.iupui.edu>', '<source@collab.sakaiproject.org>;', '<source@collab.sakaiproject.org>;', '<source@collab.sakaiproject.org>;', 'apache@localhost)', 'source@collab.sakaiproject.org;', 'antranig@caret.cam.ac.uk', 'source@collab.sakaiproject.org', 'antranig@caret.cam.ac.uk', 'antranig@caret.cam.ac.uk', 'gopal.ramasammycook@gmail.com', '<postmaster@collab.sakaiproject.org>', '<200801041403.m04E3psW006926@nakamura.uits.iupui.edu>', '<source@collab.sakaiproject.org>;', '<source@collab.sakaiproject.org>;', '<source@collab.sakaiproject.org>;', 'apache@localhost)', 'source@collab.sakaiproject.org;', 'gopal.ramasammycook@gmail.com', 'source@collab.sakaiproject.org', 'gopal.ramasammycook@gmail.com', 'gopal.ramasammycook@gmail.com', 'david.horwitz@uct.ac.za', '<postmaster@collab.sakaiproject.org>', '<200801041200.m04C0gfK006793@nakamura.uits.iupui.edu>', '<source@collab.sakaiproject.org>;', '<source@collab.sakaiproject.org>;', '<source@collab.sakaiproject.org>;', 'apache@localhost)', 'source@collab.sakaiproject.org;', 'david.horwitz@uct.ac.za', 'source@collab.sakaiproject.org', 'david.horwitz@uct.ac.za', 'david.horwitz@uct.ac.za', 'david.horwitz@uct.ac.za', 'dhorwitz@david-horwitz-6:~/branchManagemnt/sakai_2-5-x>', 'dhorwitz@david-horwitz-6:~/branchManagemnt/sakai_2-5-x>', 'david.horwitz@uct.ac.za', '<postmaster@collab.sakaiproject.org>', '<200801041106.m04B6lK3006677@nakamura.uits.iupui.edu>', '<source@collab.sakaiproject.org>;', '<source@collab.sakaiproject.org>;', '<source@collab.sakaiproject.org>;', 'apache@localhost)', 'source@collab.sakaiproject.org;', 'david.horwitz@uct.ac.za', 'source@collab.sakaiproject.org', 'david.horwitz@uct.ac.za', 'david.horwitz@uct.ac.za', 'david.horwitz@uct.ac.za', '<postmaster@collab.sakaiproject.org>', '<200801040947.m049lUxo006517@nakamura.uits.iupui.edu>', '<source@collab.sakaiproject.org>;', '<source@collab.sakaiproject.org>;', '<source@collab.sakaiproject.org>;', 'apache@localhost)', 'source@collab.sakaiproject.org;', 'david.horwitz@uct.ac.za', 'source@collab.sakaiproject.org', 'david.horwitz@uct.ac.za', 'david.horwitz@uct.ac.za', 'josrodri@iupui.edu', 'dhorwitz@david-horwitz-6:~/branchManagemnt/sakai_2-5-x>', 'david.horwitz@uct.ac.za', '<postmaster@collab.sakaiproject.org>', '<200801040932.m049W2i5006493@nakamura.uits.iupui.edu>', '<source@collab.sakaiproject.org>;', '<source@collab.sakaiproject.org>;', '<source@collab.sakaiproject.org>;', 'apache@localhost)', 'source@collab.sakaiproject.org;', 'david.horwitz@uct.ac.za', 'source@collab.sakaiproject.org', 'david.horwitz@uct.ac.za', 'david.horwitz@uct.ac.za', 'josrodri@iupui.edu', 'dhorwitz@david-horwitz-6:~/branchManagemnt/sakai_2-5-x>', 'stephen.marquard@uct.ac.za', '<postmaster@collab.sakaiproject.org>', '<200801040905.m0495rWB006420@nakamura.uits.iupui.edu>', '<source@collab.sakaiproject.org>;', '<source@collab.sakaiproject.org>;', '<source@collab.sakaiproject.org>;', 'apache@localhost)', 'source@collab.sakaiproject.org;', 'stephen.marquard@uct.ac.za', 'source@collab.sakaiproject.org', 'stephen.marquard@uct.ac.za', 'stephen.marquard@uct.ac.za', 'louis@media.berkeley.edu', '<postmaster@collab.sakaiproject.org>', '<200801040023.m040NpCc005473@nakamura.uits.iupui.edu>', '<source@collab.sakaiproject.org>;', '<source@collab.sakaiproject.org>;', '<source@collab.sakaiproject.org>;', 'apache@localhost)', 'source@collab.sakaiproject.org;', 'louis@media.berkeley.edu', 'source@collab.sakaiproject.org', 'louis@media.berkeley.edu', 'louis@media.berkeley.edu', 'louis@media.berkeley.edu', '<postmaster@collab.sakaiproject.org>', '<200801032216.m03MGhDa005292@nakamura.uits.iupui.edu>', '<source@collab.sakaiproject.org>;', '<source@collab.sakaiproject.org>;', '<source@collab.sakaiproject.org>;', 'apache@localhost)', 'source@collab.sakaiproject.org;', 'louis@media.berkeley.edu', 'source@collab.sakaiproject.org', 'louis@media.berkeley.edu', 'louis@media.berkeley.edu', 'ray@media.berkeley.edu', '<postmaster@collab.sakaiproject.org>', '<200801032205.m03M5Ea7005273@nakamura.uits.iupui.edu>', '<source@collab.sakaiproject.org>;', '<source@collab.sakaiproject.org>;', '<source@collab.sakaiproject.org>;', 'apache@localhost)', 'source@collab.sakaiproject.org;', 'ray@media.berkeley.edu', 'source@collab.sakaiproject.org', 'ray@media.berkeley.edu', 'ray@media.berkeley.edu', 'cwen@iupui.edu', '<postmaster@collab.sakaiproject.org>', '<200801032133.m03LX3gG005191@nakamura.uits.iupui.edu>', '<source@collab.sakaiproject.org>;', '<source@collab.sakaiproject.org>;', '<source@collab.sakaiproject.org>;', 'apache@localhost)', 'source@collab.sakaiproject.org;', 'cwen@iupui.edu', 'source@collab.sakaiproject.org', 'cwen@iupui.edu', 'cwen@iupui.edu', 'cwen@iupui.edu', '<postmaster@collab.sakaiproject.org>', '<200801032127.m03LRUqH005177@nakamura.uits.iupui.edu>', '<source@collab.sakaiproject.org>;', '<source@collab.sakaiproject.org>;', '<source@collab.sakaiproject.org>;', 'apache@localhost)', 'source@collab.sakaiproject.org;', 'cwen@iupui.edu', 'source@collab.sakaiproject.org', 'cwen@iupui.edu', 'cwen@iupui.edu', 'wagnermr@iupui.edu', 'cwen@iupui.edu', '<postmaster@collab.sakaiproject.org>', '<200801032122.m03LMFo4005148@nakamura.uits.iupui.edu>', '<source@collab.sakaiproject.org>;', '<source@collab.sakaiproject.org>;', '<source@collab.sakaiproject.org>;', 'apache@localhost)', 'source@collab.sakaiproject.org;', 'cwen@iupui.edu', 'source@collab.sakaiproject.org', 'cwen@iupui.edu', 'cwen@iupui.edu', 'wagnermr@iupui.edu']\n"
     ]
    }
   ],
   "source": [
    "fh = open('data/mbox-short.txt')\n",
    "lines = fh.read()\n",
    "lst = re.findall('\\S+@\\S+', lines)\n",
    "print(lst)"
   ]
  },
  {
   "cell_type": "code",
   "execution_count": 9,
   "metadata": {},
   "outputs": [
    {
     "name": "stdout",
     "output_type": "stream",
     "text": [
      "['stephen.marquard@uct.ac.za', 'postmaster@collab.sakaiproject.org', '200801051412.m05ECIaH010327@nakamura.uits.iupui.edu', 'source@collab.sakaiproject.org', 'source@collab.sakaiproject.org', 'source@collab.sakaiproject.org', 'apache@localhost', 'source@collab.sakaiproject.org', 'stephen.marquard@uct.ac.za', 'source@collab.sakaiproject.org', 'stephen.marquard@uct.ac.za', 'stephen.marquard@uct.ac.za', 'louis@media.berkeley.edu', 'postmaster@collab.sakaiproject.org', '200801042308.m04N8v6O008125@nakamura.uits.iupui.edu', 'source@collab.sakaiproject.org', 'source@collab.sakaiproject.org', 'source@collab.sakaiproject.org', 'apache@localhost', 'source@collab.sakaiproject.org', 'louis@media.berkeley.edu', 'source@collab.sakaiproject.org', 'louis@media.berkeley.edu', 'louis@media.berkeley.edu', 'zqian@umich.edu', 'postmaster@collab.sakaiproject.org', '200801042109.m04L92hb007923@nakamura.uits.iupui.edu', 'source@collab.sakaiproject.org', 'source@collab.sakaiproject.org', 'source@collab.sakaiproject.org', 'apache@localhost', 'source@collab.sakaiproject.org', 'zqian@umich.edu', 'source@collab.sakaiproject.org', 'zqian@umich.edu', 'zqian@umich.edu', 'rjlowe@iupui.edu', 'postmaster@collab.sakaiproject.org', '200801042044.m04Kiem3007881@nakamura.uits.iupui.edu', 'source@collab.sakaiproject.org', 'source@collab.sakaiproject.org', 'source@collab.sakaiproject.org', 'apache@localhost', 'source@collab.sakaiproject.org', 'rjlowe@iupui.edu', 'source@collab.sakaiproject.org', 'rjlowe@iupui.edu', 'rjlowe@iupui.edu', 'zqian@umich.edu', 'postmaster@collab.sakaiproject.org', '200801042001.m04K1cO0007738@nakamura.uits.iupui.edu', 'source@collab.sakaiproject.org', 'source@collab.sakaiproject.org', 'source@collab.sakaiproject.org', 'apache@localhost', 'source@collab.sakaiproject.org', 'zqian@umich.edu', 'source@collab.sakaiproject.org', 'zqian@umich.edu', 'zqian@umich.edu', 'zqian@umich.edu', 'rjlowe@iupui.edu', 'postmaster@collab.sakaiproject.org', '200801041948.m04JmdwO007705@nakamura.uits.iupui.edu', 'source@collab.sakaiproject.org', 'source@collab.sakaiproject.org', 'source@collab.sakaiproject.org', 'apache@localhost', 'source@collab.sakaiproject.org', 'rjlowe@iupui.edu', 'source@collab.sakaiproject.org', 'rjlowe@iupui.edu', 'rjlowe@iupui.edu', 'cwen@iupui.edu', 'postmaster@collab.sakaiproject.org', '200801041635.m04GZQGZ007313@nakamura.uits.iupui.edu', 'source@collab.sakaiproject.org', 'source@collab.sakaiproject.org', 'source@collab.sakaiproject.org', 'apache@localhost', 'source@collab.sakaiproject.org', 'cwen@iupui.edu', 'source@collab.sakaiproject.org', 'cwen@iupui.edu', 'cwen@iupui.edu', 'hu2@iupui.edu', 'cwen@iupui.edu', 'postmaster@collab.sakaiproject.org', '200801041633.m04GX6eG007292@nakamura.uits.iupui.edu', 'source@collab.sakaiproject.org', 'source@collab.sakaiproject.org', 'source@collab.sakaiproject.org', 'apache@localhost', 'source@collab.sakaiproject.org', 'cwen@iupui.edu', 'source@collab.sakaiproject.org', 'cwen@iupui.edu', 'cwen@iupui.edu', 'hu2@iupui.edu', 'gsilver@umich.edu', 'postmaster@collab.sakaiproject.org', '200801041611.m04GB1Lb007221@nakamura.uits.iupui.edu', 'source@collab.sakaiproject.org', 'source@collab.sakaiproject.org', 'source@collab.sakaiproject.org', 'apache@localhost', 'source@collab.sakaiproject.org', 'gsilver@umich.edu', 'source@collab.sakaiproject.org', 'gsilver@umich.edu', 'gsilver@umich.edu', 'gsilver@umich.edu', 'postmaster@collab.sakaiproject.org', '200801041610.m04GA5KP007209@nakamura.uits.iupui.edu', 'source@collab.sakaiproject.org', 'source@collab.sakaiproject.org', 'source@collab.sakaiproject.org', 'apache@localhost', 'source@collab.sakaiproject.org', 'gsilver@umich.edu', 'source@collab.sakaiproject.org', 'gsilver@umich.edu', 'gsilver@umich.edu', 'zqian@umich.edu', 'postmaster@collab.sakaiproject.org', '200801041609.m04G9EuX007197@nakamura.uits.iupui.edu', 'source@collab.sakaiproject.org', 'source@collab.sakaiproject.org', 'source@collab.sakaiproject.org', 'apache@localhost', 'source@collab.sakaiproject.org', 'zqian@umich.edu', 'source@collab.sakaiproject.org', 'zqian@umich.edu', 'zqian@umich.edu', 'gsilver@umich.edu', 'postmaster@collab.sakaiproject.org', '200801041608.m04G8d7w007184@nakamura.uits.iupui.edu', 'source@collab.sakaiproject.org', 'source@collab.sakaiproject.org', 'source@collab.sakaiproject.org', 'apache@localhost', 'source@collab.sakaiproject.org', 'gsilver@umich.edu', 'source@collab.sakaiproject.org', 'gsilver@umich.edu', 'gsilver@umich.edu', 'wagnermr@iupui.edu', 'postmaster@collab.sakaiproject.org', '200801041537.m04Fb6Ci007092@nakamura.uits.iupui.edu', 'source@collab.sakaiproject.org', 'source@collab.sakaiproject.org', 'source@collab.sakaiproject.org', 'apache@localhost', 'source@collab.sakaiproject.org', 'wagnermr@iupui.edu', 'source@collab.sakaiproject.org', 'wagnermr@iupui.edu', 'wagnermr@iupui.edu', 'zqian@umich.edu', 'postmaster@collab.sakaiproject.org', '200801041515.m04FFv42007050@nakamura.uits.iupui.edu', 'source@collab.sakaiproject.org', 'source@collab.sakaiproject.org', 'source@collab.sakaiproject.org', 'apache@localhost', 'source@collab.sakaiproject.org', 'zqian@umich.edu', 'source@collab.sakaiproject.org', 'zqian@umich.edu', 'zqian@umich.edu', 'antranig@caret.cam.ac.uk', 'postmaster@collab.sakaiproject.org', '200801041502.m04F21Jo007031@nakamura.uits.iupui.edu', 'source@collab.sakaiproject.org', 'source@collab.sakaiproject.org', 'source@collab.sakaiproject.org', 'apache@localhost', 'source@collab.sakaiproject.org', 'antranig@caret.cam.ac.uk', 'source@collab.sakaiproject.org', 'antranig@caret.cam.ac.uk', 'antranig@caret.cam.ac.uk', 'gopal.ramasammycook@gmail.com', 'postmaster@collab.sakaiproject.org', '200801041403.m04E3psW006926@nakamura.uits.iupui.edu', 'source@collab.sakaiproject.org', 'source@collab.sakaiproject.org', 'source@collab.sakaiproject.org', 'apache@localhost', 'source@collab.sakaiproject.org', 'gopal.ramasammycook@gmail.com', 'source@collab.sakaiproject.org', 'gopal.ramasammycook@gmail.com', 'gopal.ramasammycook@gmail.com', 'david.horwitz@uct.ac.za', 'postmaster@collab.sakaiproject.org', '200801041200.m04C0gfK006793@nakamura.uits.iupui.edu', 'source@collab.sakaiproject.org', 'source@collab.sakaiproject.org', 'source@collab.sakaiproject.org', 'apache@localhost', 'source@collab.sakaiproject.org', 'david.horwitz@uct.ac.za', 'source@collab.sakaiproject.org', 'david.horwitz@uct.ac.za', 'david.horwitz@uct.ac.za', 'david.horwitz@uct.ac.za', 'dhorwitz@david-horwitz-6:~/branchManagemnt/sakai_2-5-x', 'dhorwitz@david-horwitz-6:~/branchManagemnt/sakai_2-5-x', 'david.horwitz@uct.ac.za', 'postmaster@collab.sakaiproject.org', '200801041106.m04B6lK3006677@nakamura.uits.iupui.edu', 'source@collab.sakaiproject.org', 'source@collab.sakaiproject.org', 'source@collab.sakaiproject.org', 'apache@localhost', 'source@collab.sakaiproject.org', 'david.horwitz@uct.ac.za', 'source@collab.sakaiproject.org', 'david.horwitz@uct.ac.za', 'david.horwitz@uct.ac.za', 'david.horwitz@uct.ac.za', 'postmaster@collab.sakaiproject.org', '200801040947.m049lUxo006517@nakamura.uits.iupui.edu', 'source@collab.sakaiproject.org', 'source@collab.sakaiproject.org', 'source@collab.sakaiproject.org', 'apache@localhost', 'source@collab.sakaiproject.org', 'david.horwitz@uct.ac.za', 'source@collab.sakaiproject.org', 'david.horwitz@uct.ac.za', 'david.horwitz@uct.ac.za', 'josrodri@iupui.edu', 'dhorwitz@david-horwitz-6:~/branchManagemnt/sakai_2-5-x', 'david.horwitz@uct.ac.za', 'postmaster@collab.sakaiproject.org', '200801040932.m049W2i5006493@nakamura.uits.iupui.edu', 'source@collab.sakaiproject.org', 'source@collab.sakaiproject.org', 'source@collab.sakaiproject.org', 'apache@localhost', 'source@collab.sakaiproject.org', 'david.horwitz@uct.ac.za', 'source@collab.sakaiproject.org', 'david.horwitz@uct.ac.za', 'david.horwitz@uct.ac.za', 'josrodri@iupui.edu', 'dhorwitz@david-horwitz-6:~/branchManagemnt/sakai_2-5-x', 'stephen.marquard@uct.ac.za', 'postmaster@collab.sakaiproject.org', '200801040905.m0495rWB006420@nakamura.uits.iupui.edu', 'source@collab.sakaiproject.org', 'source@collab.sakaiproject.org', 'source@collab.sakaiproject.org', 'apache@localhost', 'source@collab.sakaiproject.org', 'stephen.marquard@uct.ac.za', 'source@collab.sakaiproject.org', 'stephen.marquard@uct.ac.za', 'stephen.marquard@uct.ac.za', 'louis@media.berkeley.edu', 'postmaster@collab.sakaiproject.org', '200801040023.m040NpCc005473@nakamura.uits.iupui.edu', 'source@collab.sakaiproject.org', 'source@collab.sakaiproject.org', 'source@collab.sakaiproject.org', 'apache@localhost', 'source@collab.sakaiproject.org', 'louis@media.berkeley.edu', 'source@collab.sakaiproject.org', 'louis@media.berkeley.edu', 'louis@media.berkeley.edu', 'louis@media.berkeley.edu', 'postmaster@collab.sakaiproject.org', '200801032216.m03MGhDa005292@nakamura.uits.iupui.edu', 'source@collab.sakaiproject.org', 'source@collab.sakaiproject.org', 'source@collab.sakaiproject.org', 'apache@localhost', 'source@collab.sakaiproject.org', 'louis@media.berkeley.edu', 'source@collab.sakaiproject.org', 'louis@media.berkeley.edu', 'louis@media.berkeley.edu', 'ray@media.berkeley.edu', 'postmaster@collab.sakaiproject.org', '200801032205.m03M5Ea7005273@nakamura.uits.iupui.edu', 'source@collab.sakaiproject.org', 'source@collab.sakaiproject.org', 'source@collab.sakaiproject.org', 'apache@localhost', 'source@collab.sakaiproject.org', 'ray@media.berkeley.edu', 'source@collab.sakaiproject.org', 'ray@media.berkeley.edu', 'ray@media.berkeley.edu', 'cwen@iupui.edu', 'postmaster@collab.sakaiproject.org', '200801032133.m03LX3gG005191@nakamura.uits.iupui.edu', 'source@collab.sakaiproject.org', 'source@collab.sakaiproject.org', 'source@collab.sakaiproject.org', 'apache@localhost', 'source@collab.sakaiproject.org', 'cwen@iupui.edu', 'source@collab.sakaiproject.org', 'cwen@iupui.edu', 'cwen@iupui.edu', 'cwen@iupui.edu', 'postmaster@collab.sakaiproject.org', '200801032127.m03LRUqH005177@nakamura.uits.iupui.edu', 'source@collab.sakaiproject.org', 'source@collab.sakaiproject.org', 'source@collab.sakaiproject.org', 'apache@localhost', 'source@collab.sakaiproject.org', 'cwen@iupui.edu', 'source@collab.sakaiproject.org', 'cwen@iupui.edu', 'cwen@iupui.edu', 'wagnermr@iupui.edu', 'cwen@iupui.edu', 'postmaster@collab.sakaiproject.org', '200801032122.m03LMFo4005148@nakamura.uits.iupui.edu', 'source@collab.sakaiproject.org', 'source@collab.sakaiproject.org', 'source@collab.sakaiproject.org', 'apache@localhost', 'source@collab.sakaiproject.org', 'cwen@iupui.edu', 'source@collab.sakaiproject.org', 'cwen@iupui.edu', 'cwen@iupui.edu', 'wagnermr@iupui.edu']\n"
     ]
    }
   ],
   "source": [
    "fh = open('data/mbox-short.txt')\n",
    "lines = fh.read()\n",
    "lst = re.findall('[a-zA-Z0-9]\\S+@\\S+[a-zA-Z]', lines)\n",
    "print(lst)"
   ]
  },
  {
   "cell_type": "markdown",
   "metadata": {},
   "source": [
    "## Combining searching & extracting\n",
    "\n",
    "If we want to find numbers on lines that start with the string `\"X-\"` such as:\n",
    "> `X-DSPAM-Confidence: 0.8475` \n",
    "\n",
    "> `X-DSPAM-Probability: 0.0000`\n",
    "\n",
    "We don’t just want any floating-point numbers from any lines. We only want to extract numbers from lines that have the above syntax."
   ]
  },
  {
   "cell_type": "code",
   "execution_count": 11,
   "metadata": {},
   "outputs": [
    {
     "name": "stdout",
     "output_type": "stream",
     "text": [
      "X-DSPAM-Confidence: 0.8475\n",
      "X-DSPAM-Probability: 0.0000\n",
      "X-DSPAM-Confidence: 0.6178\n",
      "X-DSPAM-Probability: 0.0000\n",
      "X-DSPAM-Confidence: 0.6961\n",
      "X-DSPAM-Probability: 0.0000\n",
      "X-DSPAM-Confidence: 0.7565\n",
      "X-DSPAM-Probability: 0.0000\n",
      "X-DSPAM-Confidence: 0.7626\n",
      "X-DSPAM-Probability: 0.0000\n",
      "X-DSPAM-Confidence: 0.7556\n",
      "X-DSPAM-Probability: 0.0000\n",
      "X-DSPAM-Confidence: 0.7002\n",
      "X-DSPAM-Probability: 0.0000\n",
      "X-DSPAM-Confidence: 0.7615\n",
      "X-DSPAM-Probability: 0.0000\n",
      "X-DSPAM-Confidence: 0.7601\n",
      "X-DSPAM-Probability: 0.0000\n",
      "X-DSPAM-Confidence: 0.7605\n",
      "X-DSPAM-Probability: 0.0000\n",
      "X-DSPAM-Confidence: 0.6959\n",
      "X-DSPAM-Probability: 0.0000\n",
      "X-DSPAM-Confidence: 0.7606\n",
      "X-DSPAM-Probability: 0.0000\n",
      "X-DSPAM-Confidence: 0.7559\n",
      "X-DSPAM-Probability: 0.0000\n",
      "X-DSPAM-Confidence: 0.7605\n",
      "X-DSPAM-Probability: 0.0000\n",
      "X-DSPAM-Confidence: 0.6932\n",
      "X-DSPAM-Probability: 0.0000\n",
      "X-DSPAM-Confidence: 0.7558\n",
      "X-DSPAM-Probability: 0.0000\n",
      "X-DSPAM-Confidence: 0.6526\n",
      "X-DSPAM-Probability: 0.0000\n",
      "X-DSPAM-Confidence: 0.6948\n",
      "X-DSPAM-Probability: 0.0000\n",
      "X-DSPAM-Confidence: 0.6528\n",
      "X-DSPAM-Probability: 0.0000\n",
      "X-DSPAM-Confidence: 0.7002\n",
      "X-DSPAM-Probability: 0.0000\n",
      "X-DSPAM-Confidence: 0.7554\n",
      "X-DSPAM-Probability: 0.0000\n",
      "X-DSPAM-Confidence: 0.6956\n",
      "X-DSPAM-Probability: 0.0000\n",
      "X-DSPAM-Confidence: 0.6959\n",
      "X-DSPAM-Probability: 0.0000\n",
      "X-DSPAM-Confidence: 0.7556\n",
      "X-DSPAM-Probability: 0.0000\n",
      "X-DSPAM-Confidence: 0.9846\n",
      "X-DSPAM-Probability: 0.0000\n",
      "X-DSPAM-Confidence: 0.8509\n",
      "X-DSPAM-Probability: 0.0000\n",
      "X-DSPAM-Confidence: 0.9907\n",
      "X-DSPAM-Probability: 0.0000\n"
     ]
    }
   ],
   "source": [
    "fh = open('data/mbox-short.txt')\n",
    "for line in fh:\n",
    "    line = line.rstrip()\n",
    "    if re.search('^X\\S*: [0-9]+', line):\n",
    "        print(line)"
   ]
  },
  {
   "cell_type": "markdown",
   "metadata": {},
   "source": [
    "* Parentheses are another special character in regular expressions. \n",
    " * When you add parentheses to a regular expression, they are ignored when matching the string. \n",
    " * But when you are using `findall()`, parentheses indicate that while you want the whole expression to match, you only are interested in extracting a portion of the substring that matches the regular expression."
   ]
  },
  {
   "cell_type": "code",
   "execution_count": 13,
   "metadata": {},
   "outputs": [
    {
     "name": "stdout",
     "output_type": "stream",
     "text": [
      "['0.8475']\n",
      "['0.0000']\n",
      "['0.6178']\n",
      "['0.0000']\n",
      "['0.6961']\n",
      "['0.0000']\n",
      "['0.7565']\n",
      "['0.0000']\n",
      "['0.7626']\n",
      "['0.0000']\n",
      "['0.7556']\n",
      "['0.0000']\n",
      "['0.7002']\n",
      "['0.0000']\n",
      "['0.7615']\n",
      "['0.0000']\n",
      "['0.7601']\n",
      "['0.0000']\n",
      "['0.7605']\n",
      "['0.0000']\n",
      "['0.6959']\n",
      "['0.0000']\n",
      "['0.7606']\n",
      "['0.0000']\n",
      "['0.7559']\n",
      "['0.0000']\n",
      "['0.7605']\n",
      "['0.0000']\n",
      "['0.6932']\n",
      "['0.0000']\n",
      "['0.7558']\n",
      "['0.0000']\n",
      "['0.6526']\n",
      "['0.0000']\n",
      "['0.6948']\n",
      "['0.0000']\n",
      "['0.6528']\n",
      "['0.0000']\n",
      "['0.7002']\n",
      "['0.0000']\n",
      "['0.7554']\n",
      "['0.0000']\n",
      "['0.6956']\n",
      "['0.0000']\n",
      "['0.6959']\n",
      "['0.0000']\n",
      "['0.7556']\n",
      "['0.0000']\n",
      "['0.9846']\n",
      "['0.0000']\n",
      "['0.8509']\n",
      "['0.0000']\n",
      "['0.9907']\n",
      "['0.0000']\n"
     ]
    }
   ],
   "source": [
    "fh = open('data/mbox-short.txt')\n",
    "for line in fh:\n",
    "    line = line.rstrip()\n",
    "    x = re.findall('^X\\S*: ([0-9.]+)', line)\n",
    "    if len(x) > 0:\n",
    "        print(x)"
   ]
  },
  {
   "cell_type": "markdown",
   "metadata": {},
   "source": [
    "Search for lines that start with `'Details: rev='` followed by numbers and `'.'`. Then print the number if it is greater than zero"
   ]
  },
  {
   "cell_type": "code",
   "execution_count": 14,
   "metadata": {},
   "outputs": [
    {
     "name": "stdout",
     "output_type": "stream",
     "text": [
      "['39772']\n",
      "['39771']\n",
      "['39770']\n",
      "['39769']\n",
      "['39766']\n",
      "['39765']\n",
      "['39764']\n",
      "['39763']\n",
      "['39762']\n",
      "['39761']\n",
      "['39760']\n",
      "['39759']\n",
      "['39758']\n",
      "['39757']\n",
      "['39756']\n",
      "['39755']\n",
      "['39754']\n",
      "['39753']\n",
      "['39752']\n",
      "['39751']\n",
      "['39750']\n",
      "['39749']\n",
      "['39746']\n",
      "['39745']\n",
      "['39744']\n",
      "['39743']\n",
      "['39742']\n"
     ]
    }
   ],
   "source": [
    "fh = open('data/mbox-short.txt')\n",
    "for line in fh:\n",
    "    line = line.rstrip()\n",
    "    x = re.findall('^Details:.*rev=([0-9.]+)', line)\n",
    "    if len(x) > 0:\n",
    "        print(x)"
   ]
  },
  {
   "cell_type": "markdown",
   "metadata": {},
   "source": [
    "Search for lines that start with From and a character followed by a two digit number between 00 and 99 followed by ':' Then print the number if it is greater than zero"
   ]
  },
  {
   "cell_type": "code",
   "execution_count": 15,
   "metadata": {},
   "outputs": [
    {
     "name": "stdout",
     "output_type": "stream",
     "text": [
      "['14']\n",
      "['10']\n",
      "['10']\n",
      "['46']\n",
      "['03']\n",
      "['50']\n",
      "['37']\n",
      "['35']\n",
      "['12']\n",
      "['11']\n",
      "['11']\n",
      "['10']\n",
      "['38']\n",
      "['17']\n",
      "['04']\n",
      "['05']\n",
      "['02']\n",
      "['08']\n",
      "['49']\n",
      "['33']\n",
      "['07']\n",
      "['51']\n",
      "['18']\n",
      "['07']\n",
      "['34']\n",
      "['29']\n",
      "['23']\n"
     ]
    }
   ],
   "source": [
    "fh = open('data/mbox-short.txt')\n",
    "for line in fh:\n",
    "    line = line.rstrip()\n",
    "    x = re.findall('^From .*([0-9.]{2}):', line)\n",
    "    if len(x) > 0:\n",
    "        print(x)"
   ]
  },
  {
   "cell_type": "markdown",
   "metadata": {},
   "source": [
    "## Summary\n",
    "\n",
    "`ˆ` - Matches the beginning of the line.\n",
    "\n",
    "`$`- Matches the end of the line.\n",
    "\n",
    "`.` - Matches any character (a wildcard).\n",
    "\n",
    "`\\s` - Matches a whitespace character.\n",
    "\n",
    "`\\S` - Matches a non-whitespace character (opposite of \\\\s).\n",
    "\n",
    "`*` - Applies to the immediately preceding character and indicates to match zero or more of the preceding character(s).\n",
    "\n",
    "`*?` - Applies to the immediately preceding character and indicates to match zero or more of the preceding character(s) in \"non-greedy mode\".\n",
    "\n",
    "`+` - Applies to the immediately preceding character and indicates to match one or more of the preceding character(s).\n",
    "\n",
    "`+?` - Applies to the immediately preceding character and indicates to match one or more of the preceding character(s) in \"non-greedy mode\".\n",
    "\n",
    "`[aeiou]` - Matches a single character as long as that character is in the specified set. In this example, it would match \"a\", \"e\", \"i\", \"o\", or \"u\", but no other characters.\n",
    "\n",
    "`[a-z0-9]` -  You can specify ranges of characters using the minus sign. This example is a single character that must be a lowercase letter or a digit.\n",
    "\n",
    "`[ˆA-Za-z]` When the first character in the set notation is a caret, it inverts the logic. This example matches a single character that is anything other than an uppercase or lowercase letter.\n",
    "\n",
    "`( )` - When parentheses are added to a regular expression, they are ignored for the purpose of matching, but allow you to extract a particular subset of the matched string rather than the whole string when using findall().\n",
    "\n",
    "`\\b` - Matches the empty string, but only at the start or end of a word.\n",
    "\n",
    "\n",
    "`\\B` - Matches the empty string, but not at the start or end of a word.\n",
    "\n",
    "`\\d` - Matches any decimal digit; equivalent to the set `[0-9]`.\n",
    "\n",
    "\n",
    "`\\D` - Matches any non-digit character; equivalent to the set `[ˆ0-9]`."
   ]
  }
 ],
 "metadata": {
  "kernelspec": {
   "display_name": "Python 3",
   "language": "python",
   "name": "python3"
  },
  "language_info": {
   "codemirror_mode": {
    "name": "ipython",
    "version": 3
   },
   "file_extension": ".py",
   "mimetype": "text/x-python",
   "name": "python",
   "nbconvert_exporter": "python",
   "pygments_lexer": "ipython3",
   "version": "3.6.7"
  }
 },
 "nbformat": 4,
 "nbformat_minor": 2
}
