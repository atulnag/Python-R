{
 "cells": [
  {
   "cell_type": "markdown",
   "metadata": {},
   "source": [
    "# Multiprocessing & Multithreading"
   ]
  },
  {
   "cell_type": "markdown",
   "metadata": {},
   "source": [
    "## Resources\n",
    "* __[threading module](https://docs.python.org/3/library/threading.html)__ \n",
    "* __[queue module](https://docs.python.org/3/library/queue.html)__\n",
    "* __[shutil module](https://docs.python.org/3/library/shutil.html)__\n",
    "* __[multiprocessing module](https://docs.python.org/3/library/multiprocessing.html)__\n",
    "\n",
    "\n",
    "Terminlogy:\n",
    "* **Concurrency** is when two or more tasks can start, run, and complete in overlapping time periods. It doesn’t necessarily mean they’ll ever both be running at the same instant. Eg. multitasking on a single-core machine.\n",
    "* **Parallelism** is when two or more tasks are executed simultaneously.\n",
    "* A **thread** is a sequence of instructions within a process. It can be thought of as a lightweight process. Threads share the same memory space.\n",
    "* A **process** is an instance of a program running in a computer which can contain one or more threads. A process has its independent memory space.\n",
    "\n",
    "\n",
    "The `threading` module is used for working with threads in Python.\n",
    "\n",
    "* The CPython implementation has a Global Interpreter Lock (GIL) which allows only one thread to be active in the interpreter at once. \n",
    "* This means that threads cannot be used for parallel execution of Python code. \n",
    "* While parallel CPU computation is not possible, parallel IO operations are possible using threads. This is because performing IO operations releases the GIL.\n",
    "\n",
    "\n",
    "* What are threads used for in Python?\n",
    "  * In GUI applications to keep the UI thread responsive \n",
    "  * IO tasks (network IO or filesystem IO)\n",
    "\n",
    "* Threads should not be used for CPU bound tasks. Using threads for CPU bound tasks will actually result in worse performance compared to using a single thread."
   ]
  },
  {
   "cell_type": "markdown",
   "metadata": {},
   "source": [
    "## Example 1: Threads for filesystem IO\n",
    "\n",
    "* A queue is used to store the files that need to be processed. \n",
    "* A dictionary is used to store the input and output file names. \n",
    "* The `process_queue()` function is used to retrieve items from the queue and perform the copy operation. \n",
    "* The copy operation is done in the `copy_op` function using the `shutil` module."
   ]
  },
  {
   "cell_type": "code",
   "execution_count": 5,
   "metadata": {},
   "outputs": [
    {
     "name": "stdout",
     "output_type": "stream",
     "text": [
      "\n",
      "Starting thread: Thread-12\n",
      "\n",
      "Starting thread: Thread-11\n",
      "Finished thread : Thread-11\n",
      "Finished thread : Thread-12\n",
      "Execution time = 0.70619\n"
     ]
    }
   ],
   "source": [
    "import threading\n",
    "from queue import Queue\n",
    "import time\n",
    "import shutil\n",
    "\n",
    "print_lock = threading.Lock()\n",
    "\n",
    "def copy_op(file_data):\n",
    "    with print_lock:\n",
    "        print(\"\\nStarting thread: {}\".format(threading.current_thread().name))\n",
    "    mydata = threading.local()\n",
    "    mydata.ip, mydata.op = next(iter(file_data.items()))\n",
    "    \n",
    "    shutil.copy(mydata.ip, mydata.op)\n",
    "    \n",
    "    with print_lock:\n",
    "        print(\"Finished thread : {}\".format(threading.current_thread().name))\n",
    "\n",
    "def process_queue():\n",
    "    while True:\n",
    "        file_data = compress_queue.get()\n",
    "        copy_op(file_data)\n",
    "        compress_queue.task_done()\n",
    "\n",
    "compress_queue = Queue()\n",
    "\n",
    "output_names = [{'v1.mkv':'v11.mkv'},{'v2.mkv':'v22.mkv'}]\n",
    "\n",
    "for i in range(2):\n",
    "    t = threading.Thread(target=process_queue)\n",
    "    t.daemon = True\n",
    "    t.start()\n",
    "\n",
    "start = time.time()\n",
    "\n",
    "for file_data in output_names:\n",
    "    compress_queue.put(file_data)\n",
    "\n",
    "compress_queue.join()\n",
    "\n",
    "print(\"Execution time = {0:.5f}\".format(time.time() - start))\n",
    "# Try with 1, 2 threads"
   ]
  },
  {
   "cell_type": "markdown",
   "metadata": {},
   "source": [
    "Thus, threads can be used for parallel filesystem IO."
   ]
  },
  {
   "cell_type": "markdown",
   "metadata": {},
   "source": [
    "## Example 2: Threads for network IO"
   ]
  },
  {
   "cell_type": "code",
   "execution_count": 10,
   "metadata": {},
   "outputs": [
    {
     "name": "stdout",
     "output_type": "stream",
     "text": [
      "\n",
      "Starting thread Thread-19\n",
      "\n",
      "Starting thread Thread-22\n",
      "\n",
      "Starting thread Thread-21\n",
      "\n",
      "Starting thread Thread-20\n",
      "{}\n",
      " Thread-22\n",
      "{}\n",
      " https://www.google.co.in\n",
      "{}\n",
      " Google\n",
      "Finished fetching : https://www.google.co.in\n",
      "{}\n",
      " Thread-19\n",
      "{}\n",
      " https://www.google.com/\n",
      "{}\n",
      " Google\n",
      "Finished fetching : https://www.google.com/\n",
      "{}\n",
      " Thread-21\n",
      "{}\n",
      " https://in.yahoo.com\n",
      "{}\n",
      " Yahoo\n",
      "Finished fetching : https://in.yahoo.com\n",
      "{}\n",
      " Thread-20\n",
      "{}\n",
      " https://www.suniv.ac.in/\n",
      "{}\n",
      " [<_MainThread(MainThread, started 139858407814976)>, <Thread(Thread-2, started daemon 139858291758848)>, <Heartbeat(Thread-3, started daemon 139858283366144)>, <HistorySavingThread(IPythonHistorySavingThread, started 139858255329024)>, <ParentPollerUnix(Thread-1, started daemon 139858246149888)>, <Thread(Thread-4, started daemon 139858237757184)>, <Thread(Thread-5, started daemon 139857758254848)>, <Thread(Thread-6, started daemon 139857749862144)>, <Thread(Thread-7, started daemon 139857741469440)>, <Thread(Thread-8, started daemon 139857733076736)>, <Thread(Thread-9, started daemon 139857724684032)>, <Thread(Thread-10, started daemon 139857716291328)>, <Thread(Thread-11, started daemon 139857707898624)>, <Thread(Thread-12, started daemon 139857221383936)>, <Thread(Thread-14, started daemon 139857206961920)>, <Thread(Thread-15, started daemon 139856952948480)>, <Thread(Thread-17, started daemon 139856936163072)>, <Thread(Thread-18, started daemon 139856927770368)>, <Thread(Thread-19, started daemon 139856944555776)>, <Thread(Thread-20, started daemon 139857179334400)>, <Thread(Thread-21, started daemon 139856915183360)>, <Thread(Thread-22, started daemon 139856906790656)>]Sambalpur University, Jyoti Vihar, Burla.\n",
      "\n",
      "Execution time =  4.03461Finished fetching : https://www.suniv.ac.in/\n",
      "\n"
     ]
    }
   ],
   "source": [
    "import threading\n",
    "from queue import Queue\n",
    "import requests\n",
    "import bs4\n",
    "import time\n",
    "\n",
    "print_lock = threading.Lock()\n",
    "\n",
    "def get_url(current_url):\n",
    "    with print_lock:\n",
    "        print(\"\\nStarting thread {}\".format(threading.current_thread().name))\n",
    "    \n",
    "    res = requests.get(current_url)\n",
    "    res.raise_for_status()\n",
    "    \n",
    "    current_page = bs4.BeautifulSoup(res.text,\"html.parser\")\n",
    "    current_title = current_page.select('title')[0].getText()\n",
    "    \n",
    "    with print_lock:\n",
    "        print(\"{}\\n\",format(threading.current_thread().name))\n",
    "        print(\"{}\\n\",format(current_url))\n",
    "        print(\"{}\\n\",format(current_title))\n",
    "        print(\"Finished fetching : {}\".format(current_url))\n",
    "\n",
    "def process_queue():\n",
    "    while True:\n",
    "        current_url = url_queue.get()\n",
    "        get_url(current_url)\n",
    "        url_queue.task_done()\n",
    "\n",
    "url_queue = Queue()\n",
    "\n",
    "url_list = [\"https://www.google.com/\", \n",
    "            \"https://www.google.co.in\", \n",
    "            \"https://in.yahoo.com\", \n",
    "            \"https://www.suniv.ac.in/\"\n",
    "           ]\n",
    "\n",
    "for i in range(4):\n",
    "    t = threading.Thread(target=process_queue)\n",
    "    t.daemon = True\n",
    "    t.start()\n",
    "\n",
    "start = time.time()\n",
    "\n",
    "for current_url in url_list:\n",
    "    url_queue.put(current_url)\n",
    "\n",
    "url_queue.join()\n",
    "\n",
    "print(threading.enumerate())\n",
    "\n",
    "print(\"Execution time = {0: .5f}\".format(time.time() - start))\n",
    "# Try with 1, 2, 5"
   ]
  },
  {
   "cell_type": "markdown",
   "metadata": {},
   "source": [
    "In network IO, most of the time is spent waiting for the response from the URL, so this is another use case where using threads improves performance."
   ]
  },
  {
   "cell_type": "markdown",
   "metadata": {},
   "source": [
    "## Example 3: CPU bound tasks: sum of prime numbers less than or equal to given number"
   ]
  },
  {
   "cell_type": "markdown",
   "metadata": {},
   "source": [
    "* Bad to use threads for CPU bound tasks. \n",
    "* In the following program a queue holds numbers. The task is to find the sum of prime numbers less than or equal to the given number."
   ]
  },
  {
   "cell_type": "code",
   "execution_count": 12,
   "metadata": {},
   "outputs": [
    {
     "name": "stdout",
     "output_type": "stream",
     "text": [
      "[37550402023, 142913828922, 312471072265]\n",
      "Execution time = 21.00003\n"
     ]
    }
   ],
   "source": [
    "import threading\n",
    "from queue import Queue\n",
    "import time\n",
    "\n",
    "list_lock = threading.Lock()\n",
    "\n",
    "def find_rand(num):\n",
    "    sum_of_primes = 0\n",
    "    \n",
    "    ix = 2\n",
    "    \n",
    "    while ix <= num:    \n",
    "        if is_prime(ix):\n",
    "            sum_of_primes += ix\n",
    "        ix += 1\n",
    "    \n",
    "    sum_primes_list.append(sum_of_primes)\n",
    "\n",
    "\n",
    "def is_prime(num):\n",
    "    if num <= 1:\n",
    "        return False\n",
    "    elif num <= 3:\n",
    "        return True\n",
    "    elif num%2 == 0 or num%3 == 0:\n",
    "        return False\n",
    "    i = 5\n",
    "    while i*i <= num:\n",
    "        if num%i == 0 or num%(i+2) == 0:\n",
    "            return False\n",
    "        i += 6\n",
    "    return True\n",
    "\n",
    "def process_queue():\n",
    "    while True:\n",
    "        rand_num = min_nums.get()\n",
    "        find_rand(rand_num)\n",
    "        min_nums.task_done()\n",
    "\n",
    "min_nums = Queue()\n",
    "\n",
    "rand_list = [1000000, 2000000, 3000000]\n",
    "sum_primes_list = list()\n",
    "\n",
    "for i in range(2):\n",
    "    t = threading.Thread(target=process_queue)\n",
    "    t.daemon = True\n",
    "    t.start()\n",
    "\n",
    "start = time.time()\n",
    "\n",
    "for rand_num in rand_list:\n",
    "    min_nums.put(rand_num)\n",
    "\n",
    "min_nums.join()\n",
    "\n",
    "end_time = time.time()\n",
    "\n",
    "sum_primes_list.sort()\n",
    "print(sum_primes_list)\n",
    "\n",
    "print(\"Execution time = {0:.5f}\".format(end_time - start))     \n",
    "# Try with 1/2 threads"
   ]
  },
  {
   "cell_type": "markdown",
   "metadata": {},
   "source": [
    "The results are very clear : don’t use threads to improve performance of CPU bound tasks. You will always end\n",
    "up with worse performance."
   ]
  },
  {
   "cell_type": "markdown",
   "metadata": {},
   "source": [
    "## Multiprocessing\n",
    "\n",
    "* For parallel execution of task the `multiprocessing` module can be used."
   ]
  },
  {
   "cell_type": "markdown",
   "metadata": {},
   "source": [
    "## Example 4: primes using `multiprocessing`\n",
    "\n",
    "In the following example we take the same task used above and process the inputs in parallel using the multiprocessing module."
   ]
  },
  {
   "cell_type": "code",
   "execution_count": 16,
   "metadata": {},
   "outputs": [
    {
     "name": "stdout",
     "output_type": "stream",
     "text": [
      "[37550402023, 142913828922, 312471072265]\n",
      "Time taken = 11.56908\n"
     ]
    }
   ],
   "source": [
    "from multiprocessing import Pool\n",
    "import time\n",
    "\n",
    "def sum_prime(num):\n",
    "    sum_of_primes = 0\n",
    "    \n",
    "    ix = 2\n",
    "\n",
    "    while ix <= num:    \n",
    "        if is_prime(ix):\n",
    "            sum_of_primes += ix\n",
    "        ix += 1\n",
    "    \n",
    "    return sum_of_primes\n",
    "\n",
    "\n",
    "def is_prime(num):\n",
    "    if num <= 1:\n",
    "        return False\n",
    "    elif num <= 3:\n",
    "        return True\n",
    "    elif num%2 == 0 or num%3 == 0:\n",
    "        return False\n",
    "    i = 5\n",
    "    while i*i <= num:\n",
    "        if num%i == 0 or num%(i+2) == 0:\n",
    "            return False\n",
    "        i += 6\n",
    "    return True\n",
    "\n",
    "start = time.time()\n",
    "with Pool(4) as p:\n",
    "    print(p.map(sum_prime,[1000000, 2000000, 3000000]))\n",
    "print(\"Time taken = {0:.5f}\".format(time.time() - start))\n",
    "# try with 1,2,3 processes"
   ]
  },
  {
   "cell_type": "markdown",
   "metadata": {},
   "source": [
    "So using the multiprocessing module results in the full utilization of the CPU. Inter process communication can be achieved using queues or pipes. The Queue in the multiprocessing module works similar to the queue module used to demonstrate how the threading module works."
   ]
  }
 ],
 "metadata": {
  "kernelspec": {
   "display_name": "Python 3",
   "language": "python",
   "name": "python3"
  },
  "language_info": {
   "codemirror_mode": {
    "name": "ipython",
    "version": 3
   },
   "file_extension": ".py",
   "mimetype": "text/x-python",
   "name": "python",
   "nbconvert_exporter": "python",
   "pygments_lexer": "ipython3",
   "version": "3.6.7"
  }
 },
 "nbformat": 4,
 "nbformat_minor": 2
}
