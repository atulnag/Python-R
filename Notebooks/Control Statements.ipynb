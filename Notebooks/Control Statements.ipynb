{
 "cells": [
  {
   "cell_type": "markdown",
   "metadata": {},
   "source": [
    "# Control statements"
   ]
  },
  {
   "cell_type": "markdown",
   "metadata": {},
   "source": [
    "So far we have discussed:\n",
    "* Expressions, including function calls\n",
    "* Assignments\n",
    "* Augmented assignments\n",
    "* Various forms of `import`\n",
    "* Assertions\n",
    "* `return`\n",
    "* `yield` (to implement generators)\n",
    "* `pass`\n",
    "* statements:\n",
    "  * `def` - for defining functions\n",
    "  * `with` - to use with files"
   ]
  },
  {
   "cell_type": "markdown",
   "metadata": {},
   "source": [
    "We will discuss about compound statements:\n",
    "<img src=\"../docs/images/control1.png\">\n",
    "\n",
    "The four kinds of compound statements introduced here are:\n",
    "* Conditionals\n",
    "* Loops\n",
    "* Iterations\n",
    "* Exception handlers"
   ]
  },
  {
   "cell_type": "markdown",
   "metadata": {},
   "source": [
    "## Conditionals\n",
    "\n",
    "Conditionals in Python are compound statements beginning with `if`.\n",
    "> `if expression:\n",
    "      statements`\n",
    "\n",
    "* During the import of a module `__name__` is bound to the name of the module, but while the file is being executed `__name__` is bound to '`__main__`' .\n",
    "* This gives you a way to include statements in your Python files that are executed only when the module is run or, conversely, only when it is imported."
   ]
  },
  {
   "cell_type": "code",
   "execution_count": 2,
   "metadata": {},
   "outputs": [],
   "source": [
    "def do_tests():\n",
    "    pass\n",
    "\n",
    "if __name__ == '__main__':\n",
    "    do_tests()"
   ]
  },
  {
   "cell_type": "markdown",
   "metadata": {},
   "source": [
    "### One-Alternative Conditionals\n",
    "`if expression:\n",
    "       statements1\n",
    "else:\n",
    "     statements2`"
   ]
  },
  {
   "cell_type": "code",
   "execution_count": 3,
   "metadata": {},
   "outputs": [],
   "source": [
    "if __name__ == '__main__':\n",
    "    do_tests()\n",
    "else:\n",
    "    print(__name__,'has been imported')"
   ]
  },
  {
   "cell_type": "markdown",
   "metadata": {},
   "source": [
    "### Multi-Test Conditionals\n",
    "\n",
    "```if expression1:\n",
    "       statements1\n",
    "elif expression2:\n",
    "    statements2\n",
    "    ...any number of additional elif clauses\n",
    "else:\n",
    "    statements\n",
    "```"
   ]
  },
  {
   "cell_type": "markdown",
   "metadata": {},
   "source": [
    "## Loops\n",
    "A loop is a block of statements that gets executed as long as some condition is true.\n",
    "Statements get executed if the test expresssion is satisfied.\n",
    "```\n",
    "    while expression:\n",
    "        statements\n",
    "  ```"
   ]
  },
  {
   "cell_type": "markdown",
   "metadata": {},
   "source": [
    "* If code is to be execute once the test expression is false\n",
    "```\n",
    "    while expression:\n",
    "        statements1\n",
    "    else:\n",
    "        statments2\n",
    "```"
   ]
  },
  {
   "cell_type": "markdown",
   "metadata": {},
   "source": [
    "* Two simple statements associated eith loops and iterations: `continue` and `break`\n",
    "* The `continue` statement causes execution of the loop to return to the test. \n",
    "* The `break` statement interrupts the entire loop’s execution, causing the program to continue with the statement following the while ."
   ]
  },
  {
   "cell_type": "code",
   "execution_count": 12,
   "metadata": {},
   "outputs": [
    {
     "name": "stdout",
     "output_type": "stream",
     "text": [
      "Say something: Python\n",
      "You said \"Python\"\n",
      "Say something: Bioinformatics\n",
      "You said \"Bioinformatics\"\n",
      "Say something: \n",
      "You said \"\"\n"
     ]
    }
   ],
   "source": [
    "def echo():\n",
    "    \"\"\"Echo the user's input until an empty line is entered\"\"\"\n",
    "    while echo1():\n",
    "        pass\n",
    "\n",
    "def echo1():\n",
    "    \"\"\"Prompt the user for a string, \"echo\" it, and return it\"\"\"\n",
    "    line = input('Say something: ')\n",
    "    print('You said \"', line, '\"', sep='')\n",
    "    return line\n",
    "\n",
    "echo()"
   ]
  },
  {
   "cell_type": "code",
   "execution_count": 13,
   "metadata": {},
   "outputs": [
    {
     "name": "stdout",
     "output_type": "stream",
     "text": [
      "Say something: Python\n",
      "You said \"Python\"\n",
      "Say something: Bioinformatics\n",
      "You said \"Bioinformatics\"\n",
      "Say something: bye\n",
      "You said \"bye\"\n"
     ]
    }
   ],
   "source": [
    "def polite_echo():\n",
    "    \"\"\"Echo the user's input until it equals 'bye'\"\"\"\n",
    "    while echo1() != 'bye':\n",
    "        pass\n",
    "\n",
    "\n",
    "polite_echo()"
   ]
  },
  {
   "cell_type": "code",
   "execution_count": 7,
   "metadata": {},
   "outputs": [
    {
     "name": "stdout",
     "output_type": "stream",
     "text": [
      "Say something: My name is Atul\n",
      "You said \"My name is Atul\"\n",
      "Say something: I study Bioinformatics\n",
      "You said \"I study Bioinformatics\"\n",
      "Say something: I like Python\n",
      "You said \"I like Python\"\n",
      "Say something: bye\n",
      "You said \"bye\"\n"
     ]
    },
    {
     "data": {
      "text/plain": [
       "['My name is Atul', 'I study Bioinformatics', 'I like Python']"
      ]
     },
     "execution_count": 7,
     "metadata": {},
     "output_type": "execute_result"
    }
   ],
   "source": [
    "def recording_echo():\n",
    "    \"\"\"Echo the user's input until it equals 'bye', then return a\n",
    "    list of all the inputs received\"\"\"\n",
    "    lst = []                 # initialize entry and lst\n",
    "    entry = echo1()          # get the first input\n",
    "    while entry != 'bye':    # test entry\n",
    "        lst.append(entry)    # use entry\n",
    "        entry = echo1()      # change entry\n",
    "        # ... repeat\n",
    "    return lst               # return result\n",
    "\n",
    "recording_echo()"
   ]
  },
  {
   "cell_type": "markdown",
   "metadata": {},
   "source": [
    "### Looping forever\n",
    "\n",
    "*initialize values*\n",
    "```\n",
    "while True:\n",
    "    # change values\n",
    "    if test values:\n",
    "        return\n",
    "    use values\n",
    "    # repeat\n",
    "return result\n",
    "```\n"
   ]
  },
  {
   "cell_type": "code",
   "execution_count": 14,
   "metadata": {},
   "outputs": [
    {
     "name": "stdout",
     "output_type": "stream",
     "text": [
      "Say something: I am Atul\n",
      "You said \"I am Atul\"\n",
      "Say something: I read Bionfo\n",
      "You said \"I read Bionfo\"\n",
      "Say something: bye\n",
      "You said \"bye\"\n"
     ]
    },
    {
     "data": {
      "text/plain": [
       "['I am Atul', 'I read Bionfo']"
      ]
     },
     "execution_count": 14,
     "metadata": {},
     "output_type": "execute_result"
    }
   ],
   "source": [
    "def recording_echo_with_conditional():\n",
    "    \"\"\"Echo the user's input until it equals 'bye', then return a\n",
    "    list of all the inputs received\"\"\"\n",
    "    seq = []\n",
    "    # no need to initialize a value to be tested since nothing is tested!\n",
    "    while True:\n",
    "        entry = echo1()\n",
    "        if entry == 'bye':\n",
    "            return seq\n",
    "        seq.append(entry)\n",
    "\n",
    "recording_echo_with_conditional()"
   ]
  },
  {
   "cell_type": "code",
   "execution_count": 15,
   "metadata": {},
   "outputs": [
    {
     "data": {
      "text/plain": [
       "'AsnLysArgGlyTyrAspAlaValLeu'"
      ]
     },
     "execution_count": 15,
     "metadata": {},
     "output_type": "execute_result"
    }
   ],
   "source": [
    "RNA_codon_table = {\n",
    "#                        Second Base\n",
    "#        U             C             A             G\n",
    "# U\n",
    "    'UUU': 'Phe', 'UCU': 'Ser', 'UAU': 'Tyr', 'UGU': 'Cys',     # UxU\n",
    "    'UUC': 'Phe', 'UCC': 'Ser', 'UAC': 'Tyr', 'UGC': 'Cys',     # UxC\n",
    "    'UUA': 'Leu', 'UCA': 'Ser', 'UAA': '---', 'UGA': '---',     # UxA\n",
    "    'UUG': 'Leu', 'UCG': 'Ser', 'UAG': '---', 'UGG': 'Urp',     # UxG\n",
    "# C\n",
    "    'CUU': 'Leu', 'CCU': 'Pro', 'CAU': 'His', 'CGU': 'Arg',     # CxU\n",
    "    'CUC': 'Leu', 'CCC': 'Pro', 'CAC': 'His', 'CGC': 'Arg',     # CxC\n",
    "    'CUA': 'Leu', 'CCA': 'Pro', 'CAA': 'Gln', 'CGA': 'Arg',     # CxA\n",
    "    'CUG': 'Leu', 'CCG': 'Pro', 'CAG': 'Gln', 'CGG': 'Arg',     # CxG\n",
    "# A\n",
    "    'AUU': 'Ile', 'ACU': 'Thr', 'AAU': 'Asn', 'AGU': 'Ser',     # AxU\n",
    "    'AUC': 'Ile', 'ACC': 'Thr', 'AAC': 'Asn', 'AGC': 'Ser',     # AxC\n",
    "    'AUA': 'Ile', 'ACA': 'Thr', 'AAA': 'Lys', 'AGA': 'Arg',     # AxA\n",
    "    'AUG': 'Met', 'ACG': 'Thr', 'AAG': 'Lys', 'AGG': 'Arg',     # AxG\n",
    "# G\n",
    "    'GUU': 'Val', 'GCU': 'Ala', 'GAU': 'Asp', 'GGU': 'Gly',     # GxU\n",
    "    'GUC': 'Val', 'GCC': 'Ala', 'GAC': 'Asp', 'GGC': 'Gly',     # GxC\n",
    "    'GUA': 'Val', 'GCA': 'Ala', 'GAA': 'Glu', 'GGA': 'Gly',     # GxA\n",
    "    'GUG': 'Val', 'GCG': 'Ala', 'GAG': 'Glu', 'GGG': 'Gly'      # GxG\n",
    "}\n",
    "\n",
    "\n",
    "def translate_RNA_codon(codon):\n",
    "    \"\"\"RNA codon lookup from a dictionary\"\"\"\n",
    "    return RNA_codon_table[codon]\n",
    "\n",
    "def aa_generator(rnaseq):\n",
    "    \"\"\"Return a generator object that produces an amino acid by\n",
    "    translating the next three characters of rnaseq each time next is\n",
    "    called on it\"\"\"\n",
    "    return (translate_RNA_codon(rnaseq[n:n+3])\n",
    "            for n in range(0, len(rnaseq), 3))\n",
    "\n",
    "def translate(rnaseq):\n",
    "    \"\"\"Translate rnaseq into amino acid symbols\"\"\"\n",
    "    gen = aa_generator(rnaseq)\n",
    "    seq = ''\n",
    "    aa = next(gen, None)\n",
    "    while aa:\n",
    "        seq += aa\n",
    "        aa = next(gen, None)\n",
    "    return seq\n",
    "\n",
    "translate('AAUAAGCGCGGGUAUGAUGCGGUCUUG')"
   ]
  },
  {
   "cell_type": "code",
   "execution_count": 10,
   "metadata": {},
   "outputs": [
    {
     "data": {
      "text/plain": [
       "'MPPCSEKTLKDIEEIFLKFRRKKKWEDLIRYLKYKQPKCVKTFNLTGTGHKYHAMWAYNPITDKREKKQISLDVMKIQEL\\nHRITNNNSKLYVEIRKIMTDDHRCPCEEIKNYMQQIAEYKNNRSNKVFNTPPTKIVPNALEKILKNFTINLMIDKKPKKK\\nITKSAHTIKHPPVLNIDYEHTLEFAGQTTVKEICKHASLGDTIEIQNRSFDEMVNLYTTCVQCKQMYKIQ\\n'"
      ]
     },
     "execution_count": 10,
     "metadata": {},
     "output_type": "execute_result"
    }
   ],
   "source": [
    "def read_sequence(filename):\n",
    "    \"\"\"Given the name of a FASTA file named filename, read and return\n",
    "    its first sequence, ignoring the sequence's description\"\"\"\n",
    "    seq = ''\n",
    "    with open(filename) as file:\n",
    "        line = file.readline()\n",
    "        while line and line[0] == '>':\n",
    "            line = file.readline()\n",
    "        while line and line[0] != '>':      # must check for end of file\n",
    "            seq += line\n",
    "            line = file.readline()\n",
    "    return seq\n",
    "\n",
    "read_sequence('data/aa003.fasta')"
   ]
  },
  {
   "cell_type": "markdown",
   "metadata": {},
   "source": [
    "## Iterations\n",
    "* Doing something to each element of a collection is called **iteration**.\n",
    "* Iteration statements all begin with the keyword `for`.\n",
    "```\n",
    "for item in collection:\n",
    "    do something with item\n",
    "```"
   ]
  },
  {
   "cell_type": "markdown",
   "metadata": {},
   "source": [
    "### File Iteration\n",
    "```\n",
    "with open(filename) as file:\n",
    "    for line in file:\n",
    "        do something with line\n",
    "```\n",
    "\n",
    "### Dictionary Iteration\n",
    "```\n",
    "for key in dictionary.keys():\n",
    "    do something with key\n",
    "```\n",
    "\n",
    "```\n",
    "for key in dictionary.values():\n",
    "    do something with value\n",
    "```\n",
    "\n",
    "```\n",
    "for key, value in dictionary.items():\n",
    "    do something with key and value\n",
    "```\n",
    "\n",
    "### Numbering Iterations\n",
    "Use the function enumerate and tuple unpacking to generate numerical keys in parallel with the values in an iterable.\n",
    "\n",
    "```\n",
    "for n, value in enumerate(iterable):\n",
    "    do something with n and value\n",
    "```\n"
   ]
  },
  {
   "cell_type": "code",
   "execution_count": 16,
   "metadata": {},
   "outputs": [
    {
     "name": "stdout",
     "output_type": "stream",
     "text": [
      "0\t10\n",
      "1\t11\n",
      "2\t12\n",
      "3\t13\n",
      "4\t14\n",
      "5\t15\n",
      "6\t16\n",
      "7\t17\n",
      "8\t18\n",
      "9\t19\n"
     ]
    }
   ],
   "source": [
    "a = list(range(10,20))\n",
    "for n, value in enumerate(a):\n",
    "    print(n, value, sep='\\t')"
   ]
  }
 ],
 "metadata": {
  "kernelspec": {
   "display_name": "Python 3",
   "language": "python",
   "name": "python3"
  },
  "language_info": {
   "codemirror_mode": {
    "name": "ipython",
    "version": 3
   },
   "file_extension": ".py",
   "mimetype": "text/x-python",
   "name": "python",
   "nbconvert_exporter": "python",
   "pygments_lexer": "ipython3",
   "version": "3.6.5"
  }
 },
 "nbformat": 4,
 "nbformat_minor": 2
}
