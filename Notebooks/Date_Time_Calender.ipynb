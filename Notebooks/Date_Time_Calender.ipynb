{
 "cells": [
  {
   "cell_type": "markdown",
   "metadata": {},
   "source": [
    "# Time"
   ]
  },
  {
   "cell_type": "code",
   "execution_count": 2,
   "metadata": {},
   "outputs": [],
   "source": [
    "import time"
   ]
  },
  {
   "cell_type": "markdown",
   "metadata": {},
   "source": [
    "## Wall Clock time"
   ]
  },
  {
   "cell_type": "code",
   "execution_count": 3,
   "metadata": {},
   "outputs": [
    {
     "name": "stdout",
     "output_type": "stream",
     "text": [
      "The time is: 1542168406.558857\n"
     ]
    }
   ],
   "source": [
    "# epoch - no. of seconds since January 1, 1970\n",
    "print('The time is:',time.time())"
   ]
  },
  {
   "cell_type": "code",
   "execution_count": 4,
   "metadata": {},
   "outputs": [
    {
     "name": "stdout",
     "output_type": "stream",
     "text": [
      "The time is : Wed Nov 14 09:37:01 2018\n"
     ]
    }
   ],
   "source": [
    "print('The time is :', time.ctime()) # Producing human readable time"
   ]
  },
  {
   "cell_type": "code",
   "execution_count": 6,
   "metadata": {},
   "outputs": [
    {
     "name": "stdout",
     "output_type": "stream",
     "text": [
      "15 seconds from now:  Mon Nov 12 14:45:40 2018\n"
     ]
    }
   ],
   "source": [
    "later = time.time() + 15\n",
    "print('15 seconds from now: ',time.ctime(later))"
   ]
  },
  {
   "cell_type": "markdown",
   "metadata": {},
   "source": [
    "## Monotonic clock\n",
    "* Represents time going forward\n",
    "* Used for comparisions"
   ]
  },
  {
   "cell_type": "code",
   "execution_count": 7,
   "metadata": {},
   "outputs": [
    {
     "name": "stdout",
     "output_type": "stream",
     "text": [
      "16537.64132414\n",
      "16537.741799469\n",
      "0.10047532899989164\n"
     ]
    }
   ],
   "source": [
    "start = time.monotonic()\n",
    "time.sleep(0.1)\n",
    "end = time.monotonic()\n",
    "print(start)\n",
    "print(end)\n",
    "print(end - start)"
   ]
  },
  {
   "cell_type": "markdown",
   "metadata": {},
   "source": [
    "## Processor Clock time\n",
    "* Returns processor clock time.\n",
    "* The values returned from `clock()` reflect the actual time used by the program as it runs."
   ]
  },
  {
   "cell_type": "code",
   "execution_count": 8,
   "metadata": {},
   "outputs": [
    {
     "name": "stdout",
     "output_type": "stream",
     "text": [
      "0.664273\n",
      "0.667064\n",
      "0.002790999999999988\n"
     ]
    }
   ],
   "source": [
    "start = time.clock()\n",
    "time.sleep(3)\n",
    "end = time.clock()\n",
    "print(start)\n",
    "print(end)\n",
    "print(end - start)"
   ]
  },
  {
   "cell_type": "markdown",
   "metadata": {},
   "source": [
    "### Performance Counter\n",
    "* used for measuring performance - `perf_counter()`"
   ]
  },
  {
   "cell_type": "markdown",
   "metadata": {},
   "source": [
    "## Time Components"
   ]
  },
  {
   "cell_type": "code",
   "execution_count": 11,
   "metadata": {},
   "outputs": [
    {
     "name": "stdout",
     "output_type": "stream",
     "text": [
      "GMT time:\n",
      "Year : 2018\n",
      "Month : 11\n",
      "Day of theMonth : 12\n",
      "Hour : 9\n",
      "Minutes : 42\n",
      "Seconds : 27\n",
      "Weekday : 0\n",
      "Day of the year : 316\n",
      "Local time\n",
      "Year : 2018\n",
      "Month : 11\n",
      "Day of theMonth : 12\n",
      "Hour : 15\n",
      "Minutes : 12\n",
      "Seconds : 27\n",
      "Weekday : 0\n",
      "Day of the year : 316\n"
     ]
    }
   ],
   "source": [
    "def time_struct(s):\n",
    "    print('Year :',s.tm_year)\n",
    "    print('Month :',s.tm_mon)\n",
    "    print('Day of theMonth :',s.tm_mday)\n",
    "    print('Hour :',s.tm_hour)\n",
    "    print('Minutes :',s.tm_min)\n",
    "    print('Seconds :',s.tm_sec)\n",
    "    print('Weekday :',s.tm_wday)\n",
    "    print('Day of the year :',s.tm_yday)\n",
    "\n",
    "print('GMT time:')\n",
    "time_struct(time.gmtime())\n",
    "print('Local time')\n",
    "time_struct(time.localtime())"
   ]
  },
  {
   "cell_type": "code",
   "execution_count": 12,
   "metadata": {},
   "outputs": [
    {
     "data": {
      "text/plain": [
       "time.struct_time(tm_year=2018, tm_mon=11, tm_mday=12, tm_hour=15, tm_min=13, tm_sec=8, tm_wday=0, tm_yday=316, tm_isdst=0)"
      ]
     },
     "execution_count": 12,
     "metadata": {},
     "output_type": "execute_result"
    }
   ],
   "source": [
    "time.localtime()"
   ]
  },
  {
   "cell_type": "markdown",
   "metadata": {},
   "source": [
    "## Timezones"
   ]
  },
  {
   "cell_type": "code",
   "execution_count": 11,
   "metadata": {},
   "outputs": [
    {
     "name": "stdout",
     "output_type": "stream",
     "text": [
      " TZ       : Asia/Kolkata\n",
      " tzname: ('IST', 'IST')\n",
      " Zone : -19800 (-5.5)\n",
      " Time : Wed Nov 14 10:23:08 2018\n",
      "\n",
      "Default :\n",
      "GMT :\n",
      " TZ       : GMT\n",
      " tzname: ('GMT', 'GMT')\n",
      " Zone : 0 (0.0)\n",
      " Time : Wed Nov 14 04:53:08 2018\n",
      "\n",
      "Default :\n",
      "Asia/Kolkata :\n",
      " TZ       : Asia/Kolkata\n",
      " tzname: ('IST', 'IST')\n",
      " Zone : -19800 (-5.5)\n",
      " Time : Wed Nov 14 10:23:08 2018\n",
      "\n",
      "Default :\n",
      "Asia/Hong_Kong :\n",
      " TZ       : Asia/Hong_Kong\n",
      " tzname: ('HKT', 'HKT')\n",
      " Zone : -28800 (-8.0)\n",
      " Time : Wed Nov 14 12:53:08 2018\n",
      "\n",
      "Default :\n"
     ]
    }
   ],
   "source": [
    "import time\n",
    "import os\n",
    "def show_zone_info():\n",
    "    print(' TZ       :', os.environ.get('TZ', '(not set)'))\n",
    "    print(' tzname:', time.tzname)\n",
    "    print(' Zone : {} ({})'.format(time.timezone, (time.timezone / 3600)))\n",
    "    print(' Time :', time.ctime())\n",
    "    print()\n",
    "\n",
    "    print('Default :')\n",
    "show_zone_info()\n",
    "\n",
    "ZONES = [ 'GMT','Asia/Kolkata', 'Asia/Hong_Kong']\n",
    "\n",
    "for zone in ZONES:\n",
    "    os.environ['TZ'] = zone\n",
    "    time.tzset()\n",
    "    print(zone, ':')\n",
    "    show_zone_info()"
   ]
  },
  {
   "cell_type": "markdown",
   "metadata": {},
   "source": [
    "## Parsing & Formating Times\n",
    "* The two functions `strptime()` and `strftime()` convert between time_struct and string representations of time values."
   ]
  },
  {
   "cell_type": "code",
   "execution_count": 12,
   "metadata": {},
   "outputs": [
    {
     "data": {
      "text/plain": [
       "1542171425.2262948"
      ]
     },
     "execution_count": 12,
     "metadata": {},
     "output_type": "execute_result"
    }
   ],
   "source": [
    "time.time()"
   ]
  },
  {
   "cell_type": "code",
   "execution_count": 15,
   "metadata": {},
   "outputs": [
    {
     "name": "stdout",
     "output_type": "stream",
     "text": [
      "Now: Wed Nov 14 12:57:05 2018\n",
      "\n",
      "Parsed:\n",
      "Year : 2018\n",
      "Month : 11\n",
      "Day of theMonth : 14\n",
      "Hour : 12\n",
      "Minutes : 57\n",
      "Seconds : 5\n",
      "Weekday : 2\n",
      "Day of the year : 318\n",
      "\n",
      "Formatted: Wed Nov 14 12:57:05 2018\n"
     ]
    },
    {
     "data": {
      "text/plain": [
       "'Nov'"
      ]
     },
     "execution_count": 15,
     "metadata": {},
     "output_type": "execute_result"
    }
   ],
   "source": [
    "def time_struct(s):\n",
    "    print('Year :',s.tm_year)\n",
    "    print('Month :',s.tm_mon)\n",
    "    print('Day of theMonth :',s.tm_mday)\n",
    "    print('Hour :',s.tm_hour)\n",
    "    print('Minutes :',s.tm_min)\n",
    "    print('Seconds :',s.tm_sec)\n",
    "    print('Weekday :',s.tm_wday)\n",
    "    print('Day of the year :',s.tm_yday)\n",
    "\n",
    "now = time.ctime(1542171425.2262948)\n",
    "print('Now:', now)\n",
    "parsed = time.strptime(now)\n",
    "print('\\nParsed:')\n",
    "time_struct(parsed)\n",
    "print('\\nFormatted:',\n",
    "time.strftime(\"%a %b %d %H:%M:%S %Y\", parsed))\n",
    "time.strftime(\"%b\", parsed)"
   ]
  },
  {
   "cell_type": "markdown",
   "metadata": {},
   "source": [
    "# datetime\n",
    "* datetime contains functions and classes for working with dates and times, separately and together."
   ]
  },
  {
   "cell_type": "markdown",
   "metadata": {},
   "source": [
    "## Times"
   ]
  },
  {
   "cell_type": "code",
   "execution_count": 8,
   "metadata": {},
   "outputs": [],
   "source": [
    "import datetime"
   ]
  },
  {
   "cell_type": "code",
   "execution_count": 9,
   "metadata": {},
   "outputs": [
    {
     "name": "stdout",
     "output_type": "stream",
     "text": [
      "01:02:03\n",
      "hour : 1\n",
      "minute : 2\n",
      "second : 3\n",
      "microsecond : 0\n",
      "tzinfo : None\n"
     ]
    }
   ],
   "source": [
    "t = datetime.time(1, 2, 3)\n",
    "print(t)\n",
    "print('hour :', t.hour)\n",
    "print('minute :', t.minute)\n",
    "print('second :', t.second)\n",
    "print('microsecond :', t.microsecond)\n",
    "print('tzinfo :', t.tzinfo)"
   ]
  },
  {
   "cell_type": "code",
   "execution_count": 10,
   "metadata": {},
   "outputs": [
    {
     "name": "stdout",
     "output_type": "stream",
     "text": [
      "Earliest : 00:00:00\n",
      "Latest  : 23:59:59.999999\n",
      "Resolution: 0:00:00.000001\n"
     ]
    }
   ],
   "source": [
    "print('Earliest :', datetime.time.min)\n",
    "print('Latest  :', datetime.time.max)\n",
    "print('Resolution:', datetime.time.resolution)"
   ]
  },
  {
   "cell_type": "markdown",
   "metadata": {},
   "source": [
    "## Dates"
   ]
  },
  {
   "cell_type": "code",
   "execution_count": 23,
   "metadata": {},
   "outputs": [
    {
     "name": "stdout",
     "output_type": "stream",
     "text": [
      "Help on built-in function today:\n",
      "\n",
      "today(...) method of builtins.type instance\n",
      "    Current date or datetime:  same as self.__class__.fromtimestamp(time.time()).\n",
      "\n"
     ]
    }
   ],
   "source": [
    "today = datetime.date.today()\n",
    "today.timetuple()\n",
    "help(datetime.date.today)"
   ]
  },
  {
   "cell_type": "code",
   "execution_count": 21,
   "metadata": {},
   "outputs": [
    {
     "name": "stdout",
     "output_type": "stream",
     "text": [
      "one day: 1 day, 0:00:00\n",
      "Yesterday : 2018-11-13\n",
      "Tomorrow : 2018-11-15\n",
      "tomorrow - yesterday : 2 days, 0:00:00\n"
     ]
    }
   ],
   "source": [
    "today = datetime.date.today()\n",
    "one_day = datetime.timedelta(days=1)\n",
    "print('one day:',one_day)\n",
    "yesterday = today - one_day\n",
    "print('Yesterday :',yesterday)\n",
    "tomorrow = today + one_day\n",
    "print('Tomorrow :', tomorrow)\n",
    "\n",
    "print('tomorrow - yesterday :', tomorrow - yesterday)"
   ]
  },
  {
   "cell_type": "code",
   "execution_count": 25,
   "metadata": {},
   "outputs": [],
   "source": [
    "import calendar"
   ]
  },
  {
   "cell_type": "code",
   "execution_count": 27,
   "metadata": {},
   "outputs": [
    {
     "name": "stdout",
     "output_type": "stream",
     "text": [
      "   November 2018\n",
      "Su Mo Tu We Th Fr Sa\n",
      "             1  2  3\n",
      " 4  5  6  7  8  9 10\n",
      "11 12 13 14 15 16 17\n",
      "18 19 20 21 22 23 24\n",
      "25 26 27 28 29 30\n"
     ]
    }
   ],
   "source": [
    "c = calendar.TextCalendar(calendar.SUNDAY)\n",
    "c.prmonth(2018,11)"
   ]
  }
 ],
 "metadata": {
  "kernelspec": {
   "display_name": "Python 3",
   "language": "python",
   "name": "python3"
  },
  "language_info": {
   "codemirror_mode": {
    "name": "ipython",
    "version": 3
   },
   "file_extension": ".py",
   "mimetype": "text/x-python",
   "name": "python",
   "nbconvert_exporter": "python",
   "pygments_lexer": "ipython3",
   "version": "3.6.7"
  }
 },
 "nbformat": 4,
 "nbformat_minor": 2
}
